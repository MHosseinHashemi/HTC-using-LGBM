{
 "cells": [
  {
   "cell_type": "markdown",
   "id": "4afdb6eb-0cb2-40b3-939c-286e38b0af7a",
   "metadata": {},
   "source": [
    "<center> \n",
    "    <h3>Machine Learning Project</h3>\n",
    "    <h1>\"Hierarchical Text Classification for Amazon Reviews\"</h1>\n",
    "    <!-- <br> -->\n",
    "    <h4></h4>\n",
    "    <h3>Seyed Mohammad Hossein Hashemi</h3>\n",
    "    <h5>April 2025</h5>\n",
    "    <h1></h1>\n",
    "\n",
    "</center>"
   ]
  },
  {
   "cell_type": "markdown",
   "id": "5620dae7-881a-442f-b59d-8b1cd742e51e",
   "metadata": {},
   "source": [
    "# EDA"
   ]
  },
  {
   "cell_type": "code",
   "execution_count": 1,
   "id": "258eaefa-da4f-4680-8319-958c12e35dfd",
   "metadata": {
    "scrolled": true
   },
   "outputs": [
    {
     "name": "stderr",
     "output_type": "stream",
     "text": [
      "[nltk_data] Downloading package stopwords to\n",
      "[nltk_data]     C:\\Users\\laste\\AppData\\Roaming\\nltk_data...\n",
      "[nltk_data]   Package stopwords is already up-to-date!\n"
     ]
    }
   ],
   "source": [
    "import re\n",
    "import nltk\n",
    "import warnings\n",
    "import numpy as np\n",
    "import tqdm as tqdm\n",
    "import pandas as pd\n",
    "import seaborn as sns\n",
    "import lightgbm as lgb\n",
    "import matplotlib.pyplot as plt\n",
    "\n",
    "from math import *\n",
    "from tqdm import tqdm\n",
    "from nltk.corpus import stopwords\n",
    "from pycaret.classification import *\n",
    "from sklearn.preprocessing import MinMaxScaler\n",
    "from sklearn.preprocessing import LabelEncoder\n",
    "from sklearn.metrics import accuracy_score, f1_score\n",
    "from sklearn.feature_extraction.text import TfidfVectorizer\n",
    "\n",
    "nltk.download('stopwords')\n",
    "warnings.filterwarnings('ignore')"
   ]
  },
  {
   "cell_type": "code",
   "execution_count": 2,
   "id": "6cc873ed-cee6-40c6-a857-8700e8da9ada",
   "metadata": {
    "scrolled": true
   },
   "outputs": [],
   "source": [
    "# Nothing just reading both train and val and putting them all to gether (Pycaret will handle the split)\n",
    "df_1 = pd.read_csv(\"train_40k.csv\")\n",
    "df_2 = pd.read_csv(\"val_10k.csv\")\n",
    "df_1 = df_1.reset_index(drop=True) # just to make sure the indexes wont cause any problems ...\n",
    "df_2 = df_2.reset_index(drop=True)\n",
    "df = pd.concat([df_1, df_2], axis=0)\n",
    "del df_1, df_2 # No longer needed"
   ]
  },
  {
   "cell_type": "code",
   "execution_count": 3,
   "id": "772481d4-6596-471b-903f-bd59dfbd74a8",
   "metadata": {},
   "outputs": [
    {
     "data": {
      "text/html": [
       "<div>\n",
       "<style scoped>\n",
       "    .dataframe tbody tr th:only-of-type {\n",
       "        vertical-align: middle;\n",
       "    }\n",
       "\n",
       "    .dataframe tbody tr th {\n",
       "        vertical-align: top;\n",
       "    }\n",
       "\n",
       "    .dataframe thead th {\n",
       "        text-align: right;\n",
       "    }\n",
       "</style>\n",
       "<table border=\"1\" class=\"dataframe\">\n",
       "  <thead>\n",
       "    <tr style=\"text-align: right;\">\n",
       "      <th></th>\n",
       "      <th>productId</th>\n",
       "      <th>Title</th>\n",
       "      <th>userId</th>\n",
       "      <th>Helpfulness</th>\n",
       "      <th>Score</th>\n",
       "      <th>Time</th>\n",
       "      <th>Text</th>\n",
       "      <th>Cat1</th>\n",
       "      <th>Cat2</th>\n",
       "      <th>Cat3</th>\n",
       "    </tr>\n",
       "  </thead>\n",
       "  <tbody>\n",
       "    <tr>\n",
       "      <th>0</th>\n",
       "      <td>B000E46LYG</td>\n",
       "      <td>Golden Valley Natural Buffalo Jerky</td>\n",
       "      <td>A3MQDNGHDJU4MK</td>\n",
       "      <td>0/0</td>\n",
       "      <td>3.0</td>\n",
       "      <td>-1</td>\n",
       "      <td>The description and photo on this product need...</td>\n",
       "      <td>grocery gourmet food</td>\n",
       "      <td>meat poultry</td>\n",
       "      <td>jerky</td>\n",
       "    </tr>\n",
       "    <tr>\n",
       "      <th>1</th>\n",
       "      <td>B000GRA6N8</td>\n",
       "      <td>Westing Game</td>\n",
       "      <td>unknown</td>\n",
       "      <td>0/0</td>\n",
       "      <td>5.0</td>\n",
       "      <td>860630400</td>\n",
       "      <td>This was a great book!!!! It is well thought t...</td>\n",
       "      <td>toys games</td>\n",
       "      <td>games</td>\n",
       "      <td>unknown</td>\n",
       "    </tr>\n",
       "    <tr>\n",
       "      <th>2</th>\n",
       "      <td>B000GRA6N8</td>\n",
       "      <td>Westing Game</td>\n",
       "      <td>unknown</td>\n",
       "      <td>0/0</td>\n",
       "      <td>5.0</td>\n",
       "      <td>883008000</td>\n",
       "      <td>I am a first year teacher, teaching 5th grade....</td>\n",
       "      <td>toys games</td>\n",
       "      <td>games</td>\n",
       "      <td>unknown</td>\n",
       "    </tr>\n",
       "    <tr>\n",
       "      <th>3</th>\n",
       "      <td>B000GRA6N8</td>\n",
       "      <td>Westing Game</td>\n",
       "      <td>unknown</td>\n",
       "      <td>0/0</td>\n",
       "      <td>5.0</td>\n",
       "      <td>897696000</td>\n",
       "      <td>I got the book at my bookfair at school lookin...</td>\n",
       "      <td>toys games</td>\n",
       "      <td>games</td>\n",
       "      <td>unknown</td>\n",
       "    </tr>\n",
       "    <tr>\n",
       "      <th>4</th>\n",
       "      <td>B00000DMDQ</td>\n",
       "      <td>I SPY A is For Jigsaw Puzzle 63pc</td>\n",
       "      <td>unknown</td>\n",
       "      <td>2/4</td>\n",
       "      <td>5.0</td>\n",
       "      <td>911865600</td>\n",
       "      <td>Hi! I'm Martine Redman and I created this puzz...</td>\n",
       "      <td>toys games</td>\n",
       "      <td>puzzles</td>\n",
       "      <td>jigsaw puzzles</td>\n",
       "    </tr>\n",
       "    <tr>\n",
       "      <th>...</th>\n",
       "      <td>...</td>\n",
       "      <td>...</td>\n",
       "      <td>...</td>\n",
       "      <td>...</td>\n",
       "      <td>...</td>\n",
       "      <td>...</td>\n",
       "      <td>...</td>\n",
       "      <td>...</td>\n",
       "      <td>...</td>\n",
       "      <td>...</td>\n",
       "    </tr>\n",
       "    <tr>\n",
       "      <th>9995</th>\n",
       "      <td>B000FGDDI0</td>\n",
       "      <td>Sunbeam 732-500 King Size Heating Pad with Ult...</td>\n",
       "      <td>A3RUBUKF0YX4C7</td>\n",
       "      <td>0/0</td>\n",
       "      <td>4.0</td>\n",
       "      <td>1362182400</td>\n",
       "      <td>Stays on continuously without shutting off! It...</td>\n",
       "      <td>health personal care</td>\n",
       "      <td>health care</td>\n",
       "      <td>pain relievers</td>\n",
       "    </tr>\n",
       "    <tr>\n",
       "      <th>9996</th>\n",
       "      <td>B000FVC78C</td>\n",
       "      <td>Reef One Biorb Easy Plants</td>\n",
       "      <td>A1O9H18FJG81FS</td>\n",
       "      <td>0/0</td>\n",
       "      <td>4.0</td>\n",
       "      <td>1362182400</td>\n",
       "      <td>these look great in our 10 gallon tank- colors...</td>\n",
       "      <td>pet supplies</td>\n",
       "      <td>fish aquatic pets</td>\n",
       "      <td>aquarium d cor</td>\n",
       "    </tr>\n",
       "    <tr>\n",
       "      <th>9997</th>\n",
       "      <td>B000ICJ8DA</td>\n",
       "      <td>Snoozer Lookout II Pet Car Seat</td>\n",
       "      <td>A3D96MTZP9C1Y</td>\n",
       "      <td>0/0</td>\n",
       "      <td>4.0</td>\n",
       "      <td>1362182400</td>\n",
       "      <td>This works great, but needs a better way to at...</td>\n",
       "      <td>pet supplies</td>\n",
       "      <td>dogs</td>\n",
       "      <td>carriers travel products</td>\n",
       "    </tr>\n",
       "    <tr>\n",
       "      <th>9998</th>\n",
       "      <td>B000Q7AH3W</td>\n",
       "      <td>Omega Paw Tricky Treat Ball</td>\n",
       "      <td>A37L6DBOH234BC</td>\n",
       "      <td>0/0</td>\n",
       "      <td>5.0</td>\n",
       "      <td>1362182400</td>\n",
       "      <td>she absolutely LOVES this thing. I dice up gre...</td>\n",
       "      <td>pet supplies</td>\n",
       "      <td>dogs</td>\n",
       "      <td>toys</td>\n",
       "    </tr>\n",
       "    <tr>\n",
       "      <th>9999</th>\n",
       "      <td>B000ES3YFG</td>\n",
       "      <td>Thera-Band Exercise Tubing - Latex Tubing - 10...</td>\n",
       "      <td>A22VB8EGQMAC21</td>\n",
       "      <td>0/0</td>\n",
       "      <td>5.0</td>\n",
       "      <td>1362268800</td>\n",
       "      <td>I hurt my neck and went to rehab. They had me ...</td>\n",
       "      <td>health personal care</td>\n",
       "      <td>medical supplies equipment</td>\n",
       "      <td>occupational physical therapy aids</td>\n",
       "    </tr>\n",
       "  </tbody>\n",
       "</table>\n",
       "<p>50000 rows × 10 columns</p>\n",
       "</div>"
      ],
      "text/plain": [
       "       productId                                              Title  \\\n",
       "0     B000E46LYG                Golden Valley Natural Buffalo Jerky   \n",
       "1     B000GRA6N8                                       Westing Game   \n",
       "2     B000GRA6N8                                       Westing Game   \n",
       "3     B000GRA6N8                                       Westing Game   \n",
       "4     B00000DMDQ                  I SPY A is For Jigsaw Puzzle 63pc   \n",
       "...          ...                                                ...   \n",
       "9995  B000FGDDI0  Sunbeam 732-500 King Size Heating Pad with Ult...   \n",
       "9996  B000FVC78C                         Reef One Biorb Easy Plants   \n",
       "9997  B000ICJ8DA                    Snoozer Lookout II Pet Car Seat   \n",
       "9998  B000Q7AH3W                        Omega Paw Tricky Treat Ball   \n",
       "9999  B000ES3YFG  Thera-Band Exercise Tubing - Latex Tubing - 10...   \n",
       "\n",
       "              userId Helpfulness  Score        Time  \\\n",
       "0     A3MQDNGHDJU4MK         0/0    3.0          -1   \n",
       "1            unknown         0/0    5.0   860630400   \n",
       "2            unknown         0/0    5.0   883008000   \n",
       "3            unknown         0/0    5.0   897696000   \n",
       "4            unknown         2/4    5.0   911865600   \n",
       "...              ...         ...    ...         ...   \n",
       "9995  A3RUBUKF0YX4C7         0/0    4.0  1362182400   \n",
       "9996  A1O9H18FJG81FS         0/0    4.0  1362182400   \n",
       "9997   A3D96MTZP9C1Y         0/0    4.0  1362182400   \n",
       "9998  A37L6DBOH234BC         0/0    5.0  1362182400   \n",
       "9999  A22VB8EGQMAC21         0/0    5.0  1362268800   \n",
       "\n",
       "                                                   Text                  Cat1  \\\n",
       "0     The description and photo on this product need...  grocery gourmet food   \n",
       "1     This was a great book!!!! It is well thought t...            toys games   \n",
       "2     I am a first year teacher, teaching 5th grade....            toys games   \n",
       "3     I got the book at my bookfair at school lookin...            toys games   \n",
       "4     Hi! I'm Martine Redman and I created this puzz...            toys games   \n",
       "...                                                 ...                   ...   \n",
       "9995  Stays on continuously without shutting off! It...  health personal care   \n",
       "9996  these look great in our 10 gallon tank- colors...          pet supplies   \n",
       "9997  This works great, but needs a better way to at...          pet supplies   \n",
       "9998  she absolutely LOVES this thing. I dice up gre...          pet supplies   \n",
       "9999  I hurt my neck and went to rehab. They had me ...  health personal care   \n",
       "\n",
       "                            Cat2                                Cat3  \n",
       "0                   meat poultry                               jerky  \n",
       "1                          games                             unknown  \n",
       "2                          games                             unknown  \n",
       "3                          games                             unknown  \n",
       "4                        puzzles                      jigsaw puzzles  \n",
       "...                          ...                                 ...  \n",
       "9995                 health care                      pain relievers  \n",
       "9996           fish aquatic pets                      aquarium d cor  \n",
       "9997                        dogs            carriers travel products  \n",
       "9998                        dogs                                toys  \n",
       "9999  medical supplies equipment  occupational physical therapy aids  \n",
       "\n",
       "[50000 rows x 10 columns]"
      ]
     },
     "execution_count": 3,
     "metadata": {},
     "output_type": "execute_result"
    }
   ],
   "source": [
    "df # Shape should be 50k*10"
   ]
  },
  {
   "cell_type": "code",
   "execution_count": 4,
   "id": "a22f4307-b999-4531-ba0b-a50e026268c4",
   "metadata": {},
   "outputs": [
    {
     "data": {
      "text/plain": [
       "array(['grocery gourmet food', 'toys games', 'beauty',\n",
       "       'health personal care', 'baby products', 'pet supplies'],\n",
       "      dtype=object)"
      ]
     },
     "execution_count": 4,
     "metadata": {},
     "output_type": "execute_result"
    }
   ],
   "source": [
    "df[\"Cat1\"].unique()"
   ]
  },
  {
   "cell_type": "code",
   "execution_count": 5,
   "id": "7dba0c6b-0b8c-48b8-a69e-9c4d615848e8",
   "metadata": {},
   "outputs": [
    {
     "data": {
      "text/plain": [
       "6"
      ]
     },
     "execution_count": 5,
     "metadata": {},
     "output_type": "execute_result"
    }
   ],
   "source": [
    "len(df[\"Cat1\"].unique())"
   ]
  },
  {
   "cell_type": "code",
   "execution_count": 6,
   "id": "68836333-72f0-4d9a-ab16-620e06b91374",
   "metadata": {
    "scrolled": true
   },
   "outputs": [
    {
     "data": {
      "text/plain": [
       "array(['meat poultry', 'games', 'puzzles', 'beverages', 'makeup',\n",
       "       'arts crafts', 'action toy figures', 'dolls accessories',\n",
       "       'baby toddler toys', 'personal care', 'nutrition wellness',\n",
       "       'learning education', 'electronics for kids', 'household supplies',\n",
       "       'stuffed animals plush', 'tricycles', 'health care', 'gear',\n",
       "       'skin care', 'grown up toys', 'dress up pretend play',\n",
       "       'novelty gag toys', 'bath body', 'tools accessories', 'hair care',\n",
       "       'medical supplies equipment', 'baby child care', 'building toys',\n",
       "       'gifts', 'sexual wellness', 'sports outdoor play', 'hobbies',\n",
       "       'feeding', 'diapering', 'safety', 'nursery', 'bathing skin care',\n",
       "       'vehicles remote control', 'car seats accessories', 'strollers',\n",
       "       'pregnancy maternity', 'cats', 'potty training', 'dogs',\n",
       "       'gourmet gifts', 'sauces dips', 'breakfast foods',\n",
       "       'pantry staples', 'fragrance', 'fresh flowers live indoor plants',\n",
       "       'breads bakery', 'candy chocolate', 'cooking baking supplies',\n",
       "       'snack food', 'meat seafood', 'herbs', 'baby food',\n",
       "       'fish aquatic pets', 'small animals', 'dairy eggs', 'birds',\n",
       "       'produce', 'health baby care', 'bunny rabbit central'],\n",
       "      dtype=object)"
      ]
     },
     "execution_count": 6,
     "metadata": {},
     "output_type": "execute_result"
    }
   ],
   "source": [
    "df[\"Cat2\"].unique()"
   ]
  },
  {
   "cell_type": "code",
   "execution_count": 7,
   "id": "7d42b85e-9c4e-4b04-a0e0-0e2458ea0227",
   "metadata": {},
   "outputs": [
    {
     "data": {
      "text/plain": [
       "64"
      ]
     },
     "execution_count": 7,
     "metadata": {},
     "output_type": "execute_result"
    }
   ],
   "source": [
    "len(df[\"Cat2\"].unique())"
   ]
  },
  {
   "cell_type": "code",
   "execution_count": 8,
   "id": "a16ac6dd-9b86-49fc-895e-54f122e71117",
   "metadata": {
    "scrolled": true
   },
   "outputs": [
    {
     "data": {
      "text/plain": [
       "array(['jerky', 'unknown', 'jigsaw puzzles', 'board games', 'juices',\n",
       "       'nails', 'drawing painting supplies', 'figures', 'dolls',\n",
       "       'card games', 'drawing sketching tablets', 'shape sorters',\n",
       "       'deodorants antiperspirants', 'nutrition bars drinks', 'habitats',\n",
       "       'household batteries', 'push pull toys', 'scooters wagons',\n",
       "       'clay dough', 'allergy', 'baby gyms playmats',\n",
       "       'shaving hair removal', 'face', 'animals figures', 'feminine care',\n",
       "       'music sound', 'oral hygiene', 'pretend play', 'cleansers',\n",
       "       'playsets', 'd puzzles', 'dollhouses', 'lip care products',\n",
       "       'nail tools', 'eye care', 'pill cases splitters',\n",
       "       'styling products', 'electronic toys', 'body', 'toy balls', 'eyes',\n",
       "       'trading card games', 'foot care', 'hands nails', 'sun',\n",
       "       'daily living aids', 'personal care', 'paper plastic',\n",
       "       'incontinence', 'shampoos', 'conditioners',\n",
       "       'music players karaoke', 'cough cold', 'bath', 'tests',\n",
       "       'building sets', 'stress reduction',\n",
       "       'family planning contraceptives', 'vitamins supplements',\n",
       "       'hair color', 'pain relievers', 'cotton swabs', 'styling tools',\n",
       "       'first aid', 'scrubs body treatments', 'cleaning tools',\n",
       "       'pegged puzzles', 'diabetes', 'magic kits accessories', 'albums',\n",
       "       'crib toys attachments', 'digestion nausea', 'electronic pets',\n",
       "       'safer sex', 'thermometers', 'stacking nesting toys',\n",
       "       'makeup remover', 'temporary tattoos', 'play tents tunnels',\n",
       "       'science', 'sports', 'bath toys', 'puppets', 'systems accessories',\n",
       "       'action toy figures', 'health monitors', 'inflatable bouncers',\n",
       "       'model building kits tools', 'blackboards whiteboards',\n",
       "       'pools water fun', 'rattles', 'sandboxes accessories',\n",
       "       'activity play centers', 'car seat stroller toys',\n",
       "       'bottle feeding', 'breastfeeding', 'diaper changing kits',\n",
       "       'puzzle accessories', 'diaper pails refills', 'bathroom safety',\n",
       "       'massage relaxation', 'gates doorways', 'furniture', 'monitors',\n",
       "       'cloth diapers', 'plush backpacks purses', 'statues',\n",
       "       'bathing tubs seats', 'play vehicles', 'backpacks carriers',\n",
       "       'craft kits', 'car seats', 'nursery d cor',\n",
       "       'hammering pounding toys', 'bedding', 'play trains railway sets',\n",
       "       'rockets', 'stacking blocks', 'diaper bags', 'gym sets swings',\n",
       "       'maternity pillows', 'rocking spring ride ons', 'braces',\n",
       "       'accessories', 'vehicle playsets', 'doll accessories',\n",
       "       'litter housebreaking', 'spinning tops', 'sets', 'travel games',\n",
       "       'pillows stools', 'battling tops', 'cameras camcorders',\n",
       "       'dance mats', 'food', 'radio control', 'grooming healthcare kits',\n",
       "       'balls', 'tile games', 'potties seats', 'highchairs booster seats',\n",
       "       'stuffed animals toys', 'dvd games', 'edge corner guards',\n",
       "       'basic life skills toys', 'activity centers entertainers',\n",
       "       'thermometer accessories', 'wipes holders', 'gift sets',\n",
       "       'solid feeding', 'joggers', 'health care', 'facial steamers',\n",
       "       'kites wind spinners', 'toys', 'walkers', 'slumber bags',\n",
       "       'die cast vehicles', 'easels', 'lips', 'tea', 'reading writing',\n",
       "       'snack gifts', 'stacking games', 'sauces', 'cereals',\n",
       "       'shopping cart covers', 'scaled model vehicles',\n",
       "       'cooking baking supplies', 'personal video players accessories',\n",
       "       'women s', 'keepsakes', 'treats', 'swings', 'trains accessories',\n",
       "       'disposable diapers', 'plug play video games', 'floor puzzles',\n",
       "       'live indoor plants', 'weight loss products', 'smoking cessation',\n",
       "       'beauty fashion', 'mirrors', 'coffee', 'cabinet locks straps',\n",
       "       'plush pillows', 'floor games', 'makeup brushes tools',\n",
       "       'alternative medicine', 'changing table pads covers', 'men s',\n",
       "       'step stools', 'rails rail guards', 'laundry', 'women s health',\n",
       "       'standard', 'beds furniture', 'herbs', 'sleep positioners',\n",
       "       'health supplies', 'breakfast cereal bars', 'body art',\n",
       "       'condiments', 'cakes', 'dried beans', 'household cleaning',\n",
       "       'collars', 'educational repellents', 'dessert gifts',\n",
       "       'adult toys games', 'teddy bears', 'therapeutic skin care',\n",
       "       'chocolate assortments', 'sand water tables', 'slot cars',\n",
       "       'chocolate', 'soft drinks', 'chips crisps', 'licorice',\n",
       "       'feeding watering supplies', 'blasters foam play', 'skin care',\n",
       "       'chocolate bars', 'wild game fowl', 'spices seasonings', 'cookies',\n",
       "       'training behavior aids', 'gardening tools',\n",
       "       'bathroom aids safety', 'pogo sticks hoppers',\n",
       "       'powdered drink mixes', 'playards', 'gag toys practical jokes',\n",
       "       'baby formula', 'lighters', 'dried fruit raisins', 'money banks',\n",
       "       'marble runs', 'game collections', 'kitchen safety', 'gum',\n",
       "       'outdoor safety', 'hair nails', 'aquarium lights', 'blocks',\n",
       "       'tandem', 'occupational physical therapy aids',\n",
       "       'packaged meals side dishes', 'indoor climbers play structures',\n",
       "       'pumps filters', 'beds accessories', 'energy drinks',\n",
       "       'sleep snoring', 'geography', 'houses habitats', 'cheese',\n",
       "       'travel systems', 'walkie talkies', 'mobility aids equipment',\n",
       "       'sexual enhancers', 'dips', 'dollhouse accessories', 'party mix',\n",
       "       'bathing accessories', 'grooming', 'baby seats', 'wind up toys',\n",
       "       'sensual delights', 'hot cocoa', 'dishwashing',\n",
       "       'carriers strollers', 'flash cards', 'novelty gag toys',\n",
       "       'brain teasers', 'nesting dolls', 'test kits', 'lightweight',\n",
       "       'hair loss products', 'water treatments', 'hair scalp treatments',\n",
       "       'cages accessories', 'gummy candies', 'gummy candy',\n",
       "       'jerky dried meats', 'houses', 'chocolate truffles', 'ear care',\n",
       "       'milk', 'pizza crusts', 'fresh baked cookies', 'hard candies',\n",
       "       'sports supplements', 'baking mixes', 'crackers', 'pork rinds',\n",
       "       'pasta noodles', 'trail mix', 'carriers travel products',\n",
       "       'fresh fruits', 'toaster pastries', 'rice cakes', 'chips',\n",
       "       'puffed snacks', 'pretzels', 'mathematics counting',\n",
       "       'suckers lollipops', 'popcorn', 'toy banks', 'training pants',\n",
       "       'tea gifts', 'oils', 'aquarium hoods', 'tortillas', 'cheese gifts',\n",
       "       'doors', 'standard playing card decks', 'fudge', 'syrups',\n",
       "       'printing stamping', 'toy gift sets', 'canned jarred food',\n",
       "       'fresh vegetables', 'apparel accessories', 'candy gifts',\n",
       "       'chewing gum', 'puzzle play mats', 'electrical safety',\n",
       "       'sugars sweeteners', 'marble games', 'miniatures',\n",
       "       'finger boards finger bikes', 'coconut water', 'handheld games',\n",
       "       'slime putty toys', 'pastries', 'teethers', 'butter', 'fruits',\n",
       "       'chocolate pretzels', 'breakfast bakery', 'stickers',\n",
       "       'soaps cleansers', 'sauces gifts', 'hobbies', 'fitness equipment',\n",
       "       'water', 'portable changing pads', 'dice gaming dice',\n",
       "       'pacifiers accessories', 'bars', 'cocktail mixers', 'aquariums',\n",
       "       'ball pits accessories', 'seafood', 'bags cases', 'jelly beans',\n",
       "       'novelty spinning tops', 'automatic feeders', 'mints',\n",
       "       'makeup sets', 'cleaners', 'fresh cut flowers', 'jams', 'prams',\n",
       "       'nuts seeds', 'taffy', 'rabbit hutches', 'aquarium d cor',\n",
       "       'granola bars', 'viewfinders', 'harnesses leashes', 'puzzles',\n",
       "       'foie gras p t s', 'game accessories', 'p t s', 'game room games',\n",
       "       'cages', 'non slip bath mats', 'halva', 'games', 'seafood gifts',\n",
       "       'stimulants', 'beanbags foot bags', 'shampoo conditioner sets',\n",
       "       'nut clusters', 'raisins', 'breadcrumbs', 'extracts flavoring',\n",
       "       'plush puppets', 'shampoo plus conditioner', 'salsas', 'memorials',\n",
       "       'die cast toy vehicles', 'aquarium starter kits', 'coffee gifts',\n",
       "       'air fresheners', 'fruit leather', 'granola trail mix bars',\n",
       "       'sugar substitutes', 'bacon', 'cat flaps', 'aquarium heaters',\n",
       "       'hair relaxers', 'breads', 'packaged breads', 'sausages',\n",
       "       'dessert toppings', 'diaper stackers caddies',\n",
       "       'prisms kaleidoscopes', 'maternity', 'crackers biscuits',\n",
       "       'coin collecting', 'chocolate gifts', 'kickball playground balls',\n",
       "       'hair perms texturizers', 'yo yos', 'flours meals', 'beef',\n",
       "       'molding sculpting sticks', 'washcloths towels', 'fruit gifts',\n",
       "       'stuffing', 'baking powder', 'cereal', 'exotic meats',\n",
       "       'breadsticks', 'eggs', 'cloth diaper accessories', 'carriers',\n",
       "       'toffee', 'hair coloring tools', 'chocolate covered fruit',\n",
       "       'caramels', 'assortments', 'aromatherapy', 'seat covers',\n",
       "       'bondage gear accessories', 'sun protection', 'dinners', 'fruit',\n",
       "       'aquarium stands', 'teaching clocks', 'milk substitutes',\n",
       "       'bubble bath', 'novelties', 'jams preserves gifts', 'meat gifts',\n",
       "       'beads', 'fish bowls', 'odor stain removers', 'beverages',\n",
       "       'food coloring', 'children s', 'ice cream frozen desserts',\n",
       "       'pastry decorations', 'chicken', 'sports drinks', 'marshmallows',\n",
       "       'pudding', 'aprons smocks', 'electronics', 'sex furniture', 'pork',\n",
       "       'spices gifts', 'dried fruit', 'flying toys', 'shampoo',\n",
       "       'coatings batters', 'hydrometers', 'lamb', 'exercise wheels',\n",
       "       'chocolate covered nuts', 'breeding tanks'], dtype=object)"
      ]
     },
     "execution_count": 8,
     "metadata": {},
     "output_type": "execute_result"
    }
   ],
   "source": [
    "df[\"Cat3\"].unique()"
   ]
  },
  {
   "cell_type": "code",
   "execution_count": 9,
   "id": "703fe8cd-2c71-4732-a927-6dfd24832a6f",
   "metadata": {},
   "outputs": [
    {
     "data": {
      "text/plain": [
       "473"
      ]
     },
     "execution_count": 9,
     "metadata": {},
     "output_type": "execute_result"
    }
   ],
   "source": [
    "len(df[\"Cat3\"].unique())"
   ]
  },
  {
   "cell_type": "markdown",
   "id": "645d9e07-ca14-47a0-b250-a2fd7485f778",
   "metadata": {},
   "source": [
    "Some datapoint labels seems to be missing. Expected to get 510!"
   ]
  },
  {
   "cell_type": "code",
   "execution_count": 10,
   "id": "2a585bf6-527e-4202-87f1-fbde5550c263",
   "metadata": {},
   "outputs": [
    {
     "data": {
      "text/plain": [
       "Cat1\n",
       "health personal care    25.528\n",
       "toys games              24.050\n",
       "beauty                  15.962\n",
       "pet supplies            12.876\n",
       "baby products           12.670\n",
       "grocery gourmet food     8.914\n",
       "Name: proportion, dtype: float64"
      ]
     },
     "execution_count": 10,
     "metadata": {},
     "output_type": "execute_result"
    }
   ],
   "source": [
    "df[\"Cat1\"].value_counts(normalize=True)*100"
   ]
  },
  {
   "cell_type": "code",
   "execution_count": 11,
   "id": "6bd625ea-3f4d-4bdc-b165-1cdca0d82ebd",
   "metadata": {},
   "outputs": [
    {
     "data": {
      "text/plain": [
       "Cat2\n",
       "dogs                  6.970\n",
       "personal care         6.760\n",
       "nutrition wellness    6.214\n",
       "health care           5.300\n",
       "hair care             4.630\n",
       "                      ...  \n",
       "produce               0.090\n",
       "meat poultry          0.090\n",
       "baby food             0.084\n",
       "meat seafood          0.084\n",
       "small animals         0.080\n",
       "Name: proportion, Length: 64, dtype: float64"
      ]
     },
     "execution_count": 11,
     "metadata": {},
     "output_type": "execute_result"
    }
   ],
   "source": [
    "df[\"Cat2\"].value_counts(normalize=True)*100"
   ]
  },
  {
   "cell_type": "code",
   "execution_count": 12,
   "id": "3fc5d9c7-1a92-4ce4-a488-40e5b6916e24",
   "metadata": {},
   "outputs": [
    {
     "data": {
      "text/plain": [
       "Cat3\n",
       "unknown                 5.498\n",
       "vitamins supplements    3.960\n",
       "shaving hair removal    3.690\n",
       "styling tools           2.126\n",
       "board games             2.096\n",
       "                        ...  \n",
       "games                   0.002\n",
       "odor stain removers     0.002\n",
       "beverages               0.002\n",
       "p t s                   0.002\n",
       "breeding tanks          0.002\n",
       "Name: proportion, Length: 473, dtype: float64"
      ]
     },
     "execution_count": 12,
     "metadata": {},
     "output_type": "execute_result"
    }
   ],
   "source": [
    "df[\"Cat3\"].value_counts(normalize=True)*100"
   ]
  },
  {
   "cell_type": "code",
   "execution_count": 13,
   "id": "6be842c7-d290-4894-b9dc-625f1d756eb6",
   "metadata": {},
   "outputs": [
    {
     "data": {
      "text/plain": [
       "Title          21\n",
       "productId       0\n",
       "userId          0\n",
       "Helpfulness     0\n",
       "Score           0\n",
       "Time            0\n",
       "Text            0\n",
       "Cat1            0\n",
       "Cat2            0\n",
       "Cat3            0\n",
       "dtype: int64"
      ]
     },
     "execution_count": 13,
     "metadata": {},
     "output_type": "execute_result"
    }
   ],
   "source": [
    "df.isnull().sum().sort_values(ascending=False)"
   ]
  },
  {
   "cell_type": "markdown",
   "id": "437f6346-95c4-49d8-bbac-167c62d325ae",
   "metadata": {},
   "source": [
    "Its seems we have about 16 samples that have Null values in their \"Title\" column "
   ]
  },
  {
   "cell_type": "code",
   "execution_count": 14,
   "id": "fb504c80-5480-4277-a721-be0bbb9238d8",
   "metadata": {},
   "outputs": [
    {
     "data": {
      "text/plain": [
       "Title          0.00042\n",
       "productId      0.00000\n",
       "userId         0.00000\n",
       "Helpfulness    0.00000\n",
       "Score          0.00000\n",
       "Time           0.00000\n",
       "Text           0.00000\n",
       "Cat1           0.00000\n",
       "Cat2           0.00000\n",
       "Cat3           0.00000\n",
       "dtype: float64"
      ]
     },
     "execution_count": 14,
     "metadata": {},
     "output_type": "execute_result"
    }
   ],
   "source": [
    "(df.isnull().sum() / len(df)).sort_values(ascending=False)"
   ]
  },
  {
   "cell_type": "markdown",
   "id": "94d80f8c-2c5d-4b92-8ec3-c40311c7176d",
   "metadata": {},
   "source": [
    "Regarding the Null values,\n",
    "\n",
    "We could have gone for Value Imputation strategies but since the total number of Null values is so negligable, we decide to drop those samples for now."
   ]
  },
  {
   "cell_type": "code",
   "execution_count": 15,
   "id": "43b1208d-f650-49ce-ac13-3b9f5242faf2",
   "metadata": {
    "scrolled": true
   },
   "outputs": [
    {
     "data": {
      "text/html": [
       "<div>\n",
       "<style scoped>\n",
       "    .dataframe tbody tr th:only-of-type {\n",
       "        vertical-align: middle;\n",
       "    }\n",
       "\n",
       "    .dataframe tbody tr th {\n",
       "        vertical-align: top;\n",
       "    }\n",
       "\n",
       "    .dataframe thead th {\n",
       "        text-align: right;\n",
       "    }\n",
       "</style>\n",
       "<table border=\"1\" class=\"dataframe\">\n",
       "  <thead>\n",
       "    <tr style=\"text-align: right;\">\n",
       "      <th></th>\n",
       "      <th>productId</th>\n",
       "      <th>Title</th>\n",
       "      <th>userId</th>\n",
       "      <th>Helpfulness</th>\n",
       "      <th>Score</th>\n",
       "      <th>Time</th>\n",
       "      <th>Text</th>\n",
       "      <th>Cat1</th>\n",
       "      <th>Cat2</th>\n",
       "      <th>Cat3</th>\n",
       "    </tr>\n",
       "  </thead>\n",
       "  <tbody>\n",
       "    <tr>\n",
       "      <th>3786</th>\n",
       "      <td>B000UICQZO</td>\n",
       "      <td>NaN</td>\n",
       "      <td>A2D1T6Z5EYJ7WY</td>\n",
       "      <td>4/18</td>\n",
       "      <td>1.0</td>\n",
       "      <td>1109894400</td>\n",
       "      <td>EWWW EWWW GET IT OFF GET IT OFF!!!!!!!!!!!!!!!...</td>\n",
       "      <td>beauty</td>\n",
       "      <td>fragrance</td>\n",
       "      <td>unknown</td>\n",
       "    </tr>\n",
       "    <tr>\n",
       "      <th>5202</th>\n",
       "      <td>B0009S3K1E</td>\n",
       "      <td>NaN</td>\n",
       "      <td>A2PWSZJ1Q21NYQ</td>\n",
       "      <td>0/1</td>\n",
       "      <td>5.0</td>\n",
       "      <td>1131408000</td>\n",
       "      <td>i bought this for my wife last christmas for l...</td>\n",
       "      <td>beauty</td>\n",
       "      <td>fragrance</td>\n",
       "      <td>unknown</td>\n",
       "    </tr>\n",
       "    <tr>\n",
       "      <th>7340</th>\n",
       "      <td>B0001Y6DUG</td>\n",
       "      <td>NaN</td>\n",
       "      <td>AW18N7F16XTR4</td>\n",
       "      <td>0/0</td>\n",
       "      <td>5.0</td>\n",
       "      <td>1163030400</td>\n",
       "      <td>This is one of my favorite lip balms ever! It'...</td>\n",
       "      <td>beauty</td>\n",
       "      <td>makeup</td>\n",
       "      <td>lips</td>\n",
       "    </tr>\n",
       "    <tr>\n",
       "      <th>9374</th>\n",
       "      <td>B00028MIKK</td>\n",
       "      <td>NaN</td>\n",
       "      <td>A1H7CKOA2DQJU0</td>\n",
       "      <td>2/2</td>\n",
       "      <td>5.0</td>\n",
       "      <td>1178409600</td>\n",
       "      <td>This tea is really, really good -- it's very s...</td>\n",
       "      <td>grocery gourmet food</td>\n",
       "      <td>beverages</td>\n",
       "      <td>tea</td>\n",
       "    </tr>\n",
       "    <tr>\n",
       "      <th>12117</th>\n",
       "      <td>B000KGRNMM</td>\n",
       "      <td>NaN</td>\n",
       "      <td>A2EVLYSFT7IDC6</td>\n",
       "      <td>99/100</td>\n",
       "      <td>5.0</td>\n",
       "      <td>1199232000</td>\n",
       "      <td>I needed a nail kit to take care of my Mother'...</td>\n",
       "      <td>health personal care</td>\n",
       "      <td>medical supplies equipment</td>\n",
       "      <td>daily living aids</td>\n",
       "    </tr>\n",
       "    <tr>\n",
       "      <th>13089</th>\n",
       "      <td>B000GUFFQS</td>\n",
       "      <td>NaN</td>\n",
       "      <td>A1P0IHM5P5WVOZ</td>\n",
       "      <td>1/1</td>\n",
       "      <td>5.0</td>\n",
       "      <td>1204934400</td>\n",
       "      <td>My 93 year old father in law recently fell (lu...</td>\n",
       "      <td>health personal care</td>\n",
       "      <td>medical supplies equipment</td>\n",
       "      <td>beds accessories</td>\n",
       "    </tr>\n",
       "    <tr>\n",
       "      <th>14881</th>\n",
       "      <td>B000KGRNMM</td>\n",
       "      <td>NaN</td>\n",
       "      <td>A3V0HBE74ZUFKB</td>\n",
       "      <td>52/52</td>\n",
       "      <td>5.0</td>\n",
       "      <td>1218672000</td>\n",
       "      <td>I am delighted with my nail care kit. I am in ...</td>\n",
       "      <td>health personal care</td>\n",
       "      <td>medical supplies equipment</td>\n",
       "      <td>daily living aids</td>\n",
       "    </tr>\n",
       "    <tr>\n",
       "      <th>18850</th>\n",
       "      <td>B000634EEO</td>\n",
       "      <td>NaN</td>\n",
       "      <td>A3A6B6RYANZYJN</td>\n",
       "      <td>6/6</td>\n",
       "      <td>1.0</td>\n",
       "      <td>1244937600</td>\n",
       "      <td>We bought this yesterday at Petco. Our betta, ...</td>\n",
       "      <td>pet supplies</td>\n",
       "      <td>fish aquatic pets</td>\n",
       "      <td>aquarium starter kits</td>\n",
       "    </tr>\n",
       "    <tr>\n",
       "      <th>19395</th>\n",
       "      <td>B000GUFFQS</td>\n",
       "      <td>NaN</td>\n",
       "      <td>A1W0PU8IJ06LJJ</td>\n",
       "      <td>3/3</td>\n",
       "      <td>5.0</td>\n",
       "      <td>1249603200</td>\n",
       "      <td>I put this on my grandmother's bed. It was ver...</td>\n",
       "      <td>health personal care</td>\n",
       "      <td>medical supplies equipment</td>\n",
       "      <td>beds accessories</td>\n",
       "    </tr>\n",
       "    <tr>\n",
       "      <th>20193</th>\n",
       "      <td>B000GUFFQS</td>\n",
       "      <td>NaN</td>\n",
       "      <td>A3URJ91T1WXQHE</td>\n",
       "      <td>1/1</td>\n",
       "      <td>5.0</td>\n",
       "      <td>1255392000</td>\n",
       "      <td>My father, who had a stroke several years ago,...</td>\n",
       "      <td>health personal care</td>\n",
       "      <td>medical supplies equipment</td>\n",
       "      <td>beds accessories</td>\n",
       "    </tr>\n",
       "    <tr>\n",
       "      <th>24905</th>\n",
       "      <td>B000GUFFQS</td>\n",
       "      <td>NaN</td>\n",
       "      <td>A3IEU3BT51AUKF</td>\n",
       "      <td>0/0</td>\n",
       "      <td>5.0</td>\n",
       "      <td>1284336000</td>\n",
       "      <td>My mother was issued a hospital bed to prevent...</td>\n",
       "      <td>health personal care</td>\n",
       "      <td>medical supplies equipment</td>\n",
       "      <td>beds accessories</td>\n",
       "    </tr>\n",
       "    <tr>\n",
       "      <th>25759</th>\n",
       "      <td>B000PC4KX6</td>\n",
       "      <td>NaN</td>\n",
       "      <td>A2SBECPKOH229L</td>\n",
       "      <td>1/1</td>\n",
       "      <td>4.0</td>\n",
       "      <td>1288828800</td>\n",
       "      <td>I bought these after they were used on my son ...</td>\n",
       "      <td>health personal care</td>\n",
       "      <td>medical supplies equipment</td>\n",
       "      <td>health monitors</td>\n",
       "    </tr>\n",
       "    <tr>\n",
       "      <th>26912</th>\n",
       "      <td>B000GUFFQS</td>\n",
       "      <td>NaN</td>\n",
       "      <td>A2FXS0OQKM3JQD</td>\n",
       "      <td>0/0</td>\n",
       "      <td>4.0</td>\n",
       "      <td>1294012800</td>\n",
       "      <td>Purchased it for older neighbor and she loves ...</td>\n",
       "      <td>health personal care</td>\n",
       "      <td>medical supplies equipment</td>\n",
       "      <td>beds accessories</td>\n",
       "    </tr>\n",
       "    <tr>\n",
       "      <th>31253</th>\n",
       "      <td>B000PJJNRC</td>\n",
       "      <td>NaN</td>\n",
       "      <td>A1JL9EIJJBARM1</td>\n",
       "      <td>1/1</td>\n",
       "      <td>5.0</td>\n",
       "      <td>1312588800</td>\n",
       "      <td>Handy prepackaged alcohol wipes a great bulk p...</td>\n",
       "      <td>health personal care</td>\n",
       "      <td>health care</td>\n",
       "      <td>first aid</td>\n",
       "    </tr>\n",
       "    <tr>\n",
       "      <th>32483</th>\n",
       "      <td>B000GUFFQS</td>\n",
       "      <td>NaN</td>\n",
       "      <td>A2TH88LHARKKXC</td>\n",
       "      <td>2/2</td>\n",
       "      <td>5.0</td>\n",
       "      <td>1317772800</td>\n",
       "      <td>I ordered this bedcane for my husband who is 6...</td>\n",
       "      <td>health personal care</td>\n",
       "      <td>medical supplies equipment</td>\n",
       "      <td>beds accessories</td>\n",
       "    </tr>\n",
       "    <tr>\n",
       "      <th>39455</th>\n",
       "      <td>B000GUFFQS</td>\n",
       "      <td>NaN</td>\n",
       "      <td>A1H5TCWJB5CV77</td>\n",
       "      <td>0/0</td>\n",
       "      <td>5.0</td>\n",
       "      <td>1342224000</td>\n",
       "      <td>I purchased another bedrail that was too low f...</td>\n",
       "      <td>health personal care</td>\n",
       "      <td>medical supplies equipment</td>\n",
       "      <td>beds accessories</td>\n",
       "    </tr>\n",
       "    <tr>\n",
       "      <th>668</th>\n",
       "      <td>B000GUFFQS</td>\n",
       "      <td>NaN</td>\n",
       "      <td>A1ZWH57YMHN78L</td>\n",
       "      <td>0/0</td>\n",
       "      <td>4.0</td>\n",
       "      <td>1346544000</td>\n",
       "      <td>As an OT in the home care field I have seen ma...</td>\n",
       "      <td>health personal care</td>\n",
       "      <td>medical supplies equipment</td>\n",
       "      <td>beds accessories</td>\n",
       "    </tr>\n",
       "    <tr>\n",
       "      <th>4216</th>\n",
       "      <td>B000PJJNRC</td>\n",
       "      <td>NaN</td>\n",
       "      <td>AJ8ZQAN3EYBCL</td>\n",
       "      <td>1/1</td>\n",
       "      <td>5.0</td>\n",
       "      <td>1355443200</td>\n",
       "      <td>I have to check my sugar count three times a d...</td>\n",
       "      <td>health personal care</td>\n",
       "      <td>health care</td>\n",
       "      <td>first aid</td>\n",
       "    </tr>\n",
       "    <tr>\n",
       "      <th>6509</th>\n",
       "      <td>B000GUFFQS</td>\n",
       "      <td>NaN</td>\n",
       "      <td>A2YVLBPLQ5PLPP</td>\n",
       "      <td>1/1</td>\n",
       "      <td>5.0</td>\n",
       "      <td>1357603200</td>\n",
       "      <td>perfect assistance to pull oneself up from a p...</td>\n",
       "      <td>health personal care</td>\n",
       "      <td>medical supplies equipment</td>\n",
       "      <td>beds accessories</td>\n",
       "    </tr>\n",
       "    <tr>\n",
       "      <th>8269</th>\n",
       "      <td>B000GUFFQS</td>\n",
       "      <td>NaN</td>\n",
       "      <td>A3LVOSMG2ZFF6T</td>\n",
       "      <td>0/0</td>\n",
       "      <td>5.0</td>\n",
       "      <td>1359504000</td>\n",
       "      <td>They work! Were fairly easy to assemble and th...</td>\n",
       "      <td>health personal care</td>\n",
       "      <td>medical supplies equipment</td>\n",
       "      <td>beds accessories</td>\n",
       "    </tr>\n",
       "    <tr>\n",
       "      <th>8914</th>\n",
       "      <td>B000GUFFQS</td>\n",
       "      <td>NaN</td>\n",
       "      <td>AKIKJYDKKERDS</td>\n",
       "      <td>0/0</td>\n",
       "      <td>5.0</td>\n",
       "      <td>1360368000</td>\n",
       "      <td>Mom is confined to the bed...she has fall prec...</td>\n",
       "      <td>health personal care</td>\n",
       "      <td>medical supplies equipment</td>\n",
       "      <td>beds accessories</td>\n",
       "    </tr>\n",
       "  </tbody>\n",
       "</table>\n",
       "</div>"
      ],
      "text/plain": [
       "        productId Title          userId Helpfulness  Score        Time  \\\n",
       "3786   B000UICQZO   NaN  A2D1T6Z5EYJ7WY        4/18    1.0  1109894400   \n",
       "5202   B0009S3K1E   NaN  A2PWSZJ1Q21NYQ         0/1    5.0  1131408000   \n",
       "7340   B0001Y6DUG   NaN   AW18N7F16XTR4         0/0    5.0  1163030400   \n",
       "9374   B00028MIKK   NaN  A1H7CKOA2DQJU0         2/2    5.0  1178409600   \n",
       "12117  B000KGRNMM   NaN  A2EVLYSFT7IDC6      99/100    5.0  1199232000   \n",
       "13089  B000GUFFQS   NaN  A1P0IHM5P5WVOZ         1/1    5.0  1204934400   \n",
       "14881  B000KGRNMM   NaN  A3V0HBE74ZUFKB       52/52    5.0  1218672000   \n",
       "18850  B000634EEO   NaN  A3A6B6RYANZYJN         6/6    1.0  1244937600   \n",
       "19395  B000GUFFQS   NaN  A1W0PU8IJ06LJJ         3/3    5.0  1249603200   \n",
       "20193  B000GUFFQS   NaN  A3URJ91T1WXQHE         1/1    5.0  1255392000   \n",
       "24905  B000GUFFQS   NaN  A3IEU3BT51AUKF         0/0    5.0  1284336000   \n",
       "25759  B000PC4KX6   NaN  A2SBECPKOH229L         1/1    4.0  1288828800   \n",
       "26912  B000GUFFQS   NaN  A2FXS0OQKM3JQD         0/0    4.0  1294012800   \n",
       "31253  B000PJJNRC   NaN  A1JL9EIJJBARM1         1/1    5.0  1312588800   \n",
       "32483  B000GUFFQS   NaN  A2TH88LHARKKXC         2/2    5.0  1317772800   \n",
       "39455  B000GUFFQS   NaN  A1H5TCWJB5CV77         0/0    5.0  1342224000   \n",
       "668    B000GUFFQS   NaN  A1ZWH57YMHN78L         0/0    4.0  1346544000   \n",
       "4216   B000PJJNRC   NaN   AJ8ZQAN3EYBCL         1/1    5.0  1355443200   \n",
       "6509   B000GUFFQS   NaN  A2YVLBPLQ5PLPP         1/1    5.0  1357603200   \n",
       "8269   B000GUFFQS   NaN  A3LVOSMG2ZFF6T         0/0    5.0  1359504000   \n",
       "8914   B000GUFFQS   NaN   AKIKJYDKKERDS         0/0    5.0  1360368000   \n",
       "\n",
       "                                                    Text  \\\n",
       "3786   EWWW EWWW GET IT OFF GET IT OFF!!!!!!!!!!!!!!!...   \n",
       "5202   i bought this for my wife last christmas for l...   \n",
       "7340   This is one of my favorite lip balms ever! It'...   \n",
       "9374   This tea is really, really good -- it's very s...   \n",
       "12117  I needed a nail kit to take care of my Mother'...   \n",
       "13089  My 93 year old father in law recently fell (lu...   \n",
       "14881  I am delighted with my nail care kit. I am in ...   \n",
       "18850  We bought this yesterday at Petco. Our betta, ...   \n",
       "19395  I put this on my grandmother's bed. It was ver...   \n",
       "20193  My father, who had a stroke several years ago,...   \n",
       "24905  My mother was issued a hospital bed to prevent...   \n",
       "25759  I bought these after they were used on my son ...   \n",
       "26912  Purchased it for older neighbor and she loves ...   \n",
       "31253  Handy prepackaged alcohol wipes a great bulk p...   \n",
       "32483  I ordered this bedcane for my husband who is 6...   \n",
       "39455  I purchased another bedrail that was too low f...   \n",
       "668    As an OT in the home care field I have seen ma...   \n",
       "4216   I have to check my sugar count three times a d...   \n",
       "6509   perfect assistance to pull oneself up from a p...   \n",
       "8269   They work! Were fairly easy to assemble and th...   \n",
       "8914   Mom is confined to the bed...she has fall prec...   \n",
       "\n",
       "                       Cat1                        Cat2                   Cat3  \n",
       "3786                 beauty                   fragrance                unknown  \n",
       "5202                 beauty                   fragrance                unknown  \n",
       "7340                 beauty                      makeup                   lips  \n",
       "9374   grocery gourmet food                   beverages                    tea  \n",
       "12117  health personal care  medical supplies equipment      daily living aids  \n",
       "13089  health personal care  medical supplies equipment       beds accessories  \n",
       "14881  health personal care  medical supplies equipment      daily living aids  \n",
       "18850          pet supplies           fish aquatic pets  aquarium starter kits  \n",
       "19395  health personal care  medical supplies equipment       beds accessories  \n",
       "20193  health personal care  medical supplies equipment       beds accessories  \n",
       "24905  health personal care  medical supplies equipment       beds accessories  \n",
       "25759  health personal care  medical supplies equipment        health monitors  \n",
       "26912  health personal care  medical supplies equipment       beds accessories  \n",
       "31253  health personal care                 health care              first aid  \n",
       "32483  health personal care  medical supplies equipment       beds accessories  \n",
       "39455  health personal care  medical supplies equipment       beds accessories  \n",
       "668    health personal care  medical supplies equipment       beds accessories  \n",
       "4216   health personal care                 health care              first aid  \n",
       "6509   health personal care  medical supplies equipment       beds accessories  \n",
       "8269   health personal care  medical supplies equipment       beds accessories  \n",
       "8914   health personal care  medical supplies equipment       beds accessories  "
      ]
     },
     "execution_count": 15,
     "metadata": {},
     "output_type": "execute_result"
    }
   ],
   "source": [
    "df[df.isnull().any(axis=1)]"
   ]
  },
  {
   "cell_type": "code",
   "execution_count": 16,
   "id": "0305ed43-b54b-45b7-834e-4ccbaa1b455d",
   "metadata": {},
   "outputs": [
    {
     "data": {
      "text/html": [
       "<div>\n",
       "<style scoped>\n",
       "    .dataframe tbody tr th:only-of-type {\n",
       "        vertical-align: middle;\n",
       "    }\n",
       "\n",
       "    .dataframe tbody tr th {\n",
       "        vertical-align: top;\n",
       "    }\n",
       "\n",
       "    .dataframe thead th {\n",
       "        text-align: right;\n",
       "    }\n",
       "</style>\n",
       "<table border=\"1\" class=\"dataframe\">\n",
       "  <thead>\n",
       "    <tr style=\"text-align: right;\">\n",
       "      <th></th>\n",
       "      <th>productId</th>\n",
       "      <th>Title</th>\n",
       "      <th>userId</th>\n",
       "      <th>Helpfulness</th>\n",
       "      <th>Score</th>\n",
       "      <th>Time</th>\n",
       "      <th>Text</th>\n",
       "      <th>Cat1</th>\n",
       "      <th>Cat2</th>\n",
       "      <th>Cat3</th>\n",
       "    </tr>\n",
       "  </thead>\n",
       "  <tbody>\n",
       "  </tbody>\n",
       "</table>\n",
       "</div>"
      ],
      "text/plain": [
       "Empty DataFrame\n",
       "Columns: [productId, Title, userId, Helpfulness, Score, Time, Text, Cat1, Cat2, Cat3]\n",
       "Index: []"
      ]
     },
     "execution_count": 16,
     "metadata": {},
     "output_type": "execute_result"
    }
   ],
   "source": [
    "new_df = df.dropna()\n",
    "new_df[new_df.isnull().any(axis=1)]"
   ]
  },
  {
   "cell_type": "markdown",
   "id": "55c358b3-758e-424c-978d-dbdc19eab145",
   "metadata": {},
   "source": [
    "No Null Values left!"
   ]
  },
  {
   "cell_type": "markdown",
   "id": "52f54cec-cb89-4c76-bf86-9b25858f28b7",
   "metadata": {},
   "source": [
    "Lets drop the \"productId\", \"userId\" and \"Time\" as they seem to be irrrelavant to the classification label"
   ]
  },
  {
   "cell_type": "code",
   "execution_count": 17,
   "id": "38527c70-002a-4df1-98a9-d5034d343c60",
   "metadata": {},
   "outputs": [
    {
     "data": {
      "text/html": [
       "<div>\n",
       "<style scoped>\n",
       "    .dataframe tbody tr th:only-of-type {\n",
       "        vertical-align: middle;\n",
       "    }\n",
       "\n",
       "    .dataframe tbody tr th {\n",
       "        vertical-align: top;\n",
       "    }\n",
       "\n",
       "    .dataframe thead th {\n",
       "        text-align: right;\n",
       "    }\n",
       "</style>\n",
       "<table border=\"1\" class=\"dataframe\">\n",
       "  <thead>\n",
       "    <tr style=\"text-align: right;\">\n",
       "      <th></th>\n",
       "      <th>Title</th>\n",
       "      <th>Helpfulness</th>\n",
       "      <th>Score</th>\n",
       "      <th>Text</th>\n",
       "      <th>Cat1</th>\n",
       "      <th>Cat2</th>\n",
       "      <th>Cat3</th>\n",
       "    </tr>\n",
       "  </thead>\n",
       "  <tbody>\n",
       "    <tr>\n",
       "      <th>0</th>\n",
       "      <td>Golden Valley Natural Buffalo Jerky</td>\n",
       "      <td>0/0</td>\n",
       "      <td>3.0</td>\n",
       "      <td>The description and photo on this product need...</td>\n",
       "      <td>grocery gourmet food</td>\n",
       "      <td>meat poultry</td>\n",
       "      <td>jerky</td>\n",
       "    </tr>\n",
       "    <tr>\n",
       "      <th>1</th>\n",
       "      <td>Westing Game</td>\n",
       "      <td>0/0</td>\n",
       "      <td>5.0</td>\n",
       "      <td>This was a great book!!!! It is well thought t...</td>\n",
       "      <td>toys games</td>\n",
       "      <td>games</td>\n",
       "      <td>unknown</td>\n",
       "    </tr>\n",
       "    <tr>\n",
       "      <th>2</th>\n",
       "      <td>Westing Game</td>\n",
       "      <td>0/0</td>\n",
       "      <td>5.0</td>\n",
       "      <td>I am a first year teacher, teaching 5th grade....</td>\n",
       "      <td>toys games</td>\n",
       "      <td>games</td>\n",
       "      <td>unknown</td>\n",
       "    </tr>\n",
       "  </tbody>\n",
       "</table>\n",
       "</div>"
      ],
      "text/plain": [
       "                                 Title Helpfulness  Score  \\\n",
       "0  Golden Valley Natural Buffalo Jerky         0/0    3.0   \n",
       "1                         Westing Game         0/0    5.0   \n",
       "2                         Westing Game         0/0    5.0   \n",
       "\n",
       "                                                Text                  Cat1  \\\n",
       "0  The description and photo on this product need...  grocery gourmet food   \n",
       "1  This was a great book!!!! It is well thought t...            toys games   \n",
       "2  I am a first year teacher, teaching 5th grade....            toys games   \n",
       "\n",
       "           Cat2     Cat3  \n",
       "0  meat poultry    jerky  \n",
       "1         games  unknown  \n",
       "2         games  unknown  "
      ]
     },
     "execution_count": 17,
     "metadata": {},
     "output_type": "execute_result"
    }
   ],
   "source": [
    "new_df = new_df.drop(['productId', 'userId', 'Time'], axis=1)\n",
    "new_df.head(3)"
   ]
  },
  {
   "cell_type": "markdown",
   "id": "0a4c45a3-b3c3-4048-afef-8bf32ce38dce",
   "metadata": {},
   "source": [
    "One issue on Cat3 labels: unknown class!"
   ]
  },
  {
   "cell_type": "code",
   "execution_count": 18,
   "id": "da0dd4df-9d71-4340-bd0f-7bef7099a450",
   "metadata": {},
   "outputs": [
    {
     "data": {
      "image/png": "[encoded data removed]",
      "text/plain": [
       "<Figure size 1400x300 with 1 Axes>"
      ]
     },
     "metadata": {},
     "output_type": "display_data"
    }
   ],
   "source": [
    "values = (new_df[\"Cat1\"].value_counts(normalize=True) * 100).values.tolist()\n",
    "columns = (new_df[\"Cat1\"].value_counts(normalize=True) * 100).keys().tolist()\n",
    "\n",
    "plt.figure(figsize=(14, 3))\n",
    "plt.bar(columns, values)\n",
    "plt.xticks(rotation=45)  \n",
    "plt.title(\"Category 1: Sample Count Distribution (%)\")\n",
    "plt.show()"
   ]
  },
  {
   "cell_type": "code",
   "execution_count": 19,
   "id": "6eddea8f-0224-4b7b-bc3b-c313079badfd",
   "metadata": {},
   "outputs": [
    {
     "data": {
      "image/png": "[encoded data removed]",
      "text/plain": [
       "<Figure size 2500x500 with 1 Axes>"
      ]
     },
     "metadata": {},
     "output_type": "display_data"
    }
   ],
   "source": [
    "values = (new_df[\"Cat2\"].value_counts(normalize=True) * 100).values.tolist()\n",
    "columns = (new_df[\"Cat2\"].value_counts(normalize=True) * 100).keys().tolist()\n",
    "\n",
    "plt.figure(figsize=(25, 5))\n",
    "plt.bar(columns, values)\n",
    "plt.xticks(rotation=55, fontsize=8)  \n",
    "plt.title(\"Category 2: Sample Count Distribution (%)\")\n",
    "plt.show()"
   ]
  },
  {
   "cell_type": "code",
   "execution_count": 20,
   "id": "0ff0f83c-032c-4928-b5c6-b8c878e1d762",
   "metadata": {},
   "outputs": [
    {
     "data": {
      "image/png": "[encoded data removed]",
      "text/plain": [
       "<Figure size 2500x500 with 1 Axes>"
      ]
     },
     "metadata": {},
     "output_type": "display_data"
    }
   ],
   "source": [
    "values = (new_df[\"Cat3\"].value_counts(normalize=True) * 100).values.tolist()\n",
    "columns = (new_df[\"Cat3\"].value_counts(normalize=True) * 100).keys().tolist()\n",
    "\n",
    "plt.figure(figsize=(25, 5))\n",
    "plt.bar(columns, values)\n",
    "plt.xticks(rotation=55, fontsize=8)  \n",
    "plt.title(\"Category 3: Sample Count Distribution (%)\")\n",
    "plt.show()"
   ]
  },
  {
   "cell_type": "markdown",
   "id": "111aa48f-77a7-4fe3-be95-f29146653cc9",
   "metadata": {},
   "source": [
    "The \"Unknown\" seems to be a problem! but lets keep it for now ..."
   ]
  },
  {
   "cell_type": "markdown",
   "id": "be2b4b0a-2685-4390-9928-e14b0a87c847",
   "metadata": {},
   "source": [
    "Now we need to check the Format and Distribution properties"
   ]
  },
  {
   "cell_type": "code",
   "execution_count": 21,
   "id": "15fe9742-bfcf-4b7c-a661-b28b5422274d",
   "metadata": {},
   "outputs": [
    {
     "name": "stdout",
     "output_type": "stream",
     "text": [
      "<class 'pandas.core.frame.DataFrame'>\n",
      "Index: 49979 entries, 0 to 9999\n",
      "Data columns (total 7 columns):\n",
      " #   Column       Non-Null Count  Dtype  \n",
      "---  ------       --------------  -----  \n",
      " 0   Title        49979 non-null  object \n",
      " 1   Helpfulness  49979 non-null  object \n",
      " 2   Score        49979 non-null  float64\n",
      " 3   Text         49979 non-null  object \n",
      " 4   Cat1         49979 non-null  object \n",
      " 5   Cat2         49979 non-null  object \n",
      " 6   Cat3         49979 non-null  object \n",
      "dtypes: float64(1), object(6)\n",
      "memory usage: 3.1+ MB\n"
     ]
    }
   ],
   "source": [
    "new_df.info()"
   ]
  },
  {
   "cell_type": "markdown",
   "id": "ef1f8263-a25c-48fc-bdac-58cb8e51b2dc",
   "metadata": {},
   "source": [
    "Now need to modify the Data Types"
   ]
  },
  {
   "cell_type": "code",
   "execution_count": 22,
   "id": "cf73982a-97cd-4b6a-bdb9-cfdb6afc7cdd",
   "metadata": {
    "scrolled": true
   },
   "outputs": [
    {
     "data": {
      "text/plain": [
       "array(['0/0', '2/4', '2/2', '1/1', '1/6', '9/9', '1/2', '20/24', '18/19',\n",
       "       '3/3', '20/20', '36/36', '26/26', '5/7', '1/5', '6/7', '67/71',\n",
       "       '5/8', '7/10', '12/14', '12/12', '34/37', '8/8', '21/22', '77/83',\n",
       "       '118/125', '0/3', '9/10', '5/6', '44/44', '15/15', '3/6', '17/18',\n",
       "       '35/37', '0/2', '34/35', '23/31', '31/33', '0/1', '37/37', '13/15',\n",
       "       '36/38', '124/130', '3/5', '21/21', '29/36', '14/15', '11/11',\n",
       "       '18/18', '7/8', '42/45', '5/5', '5/13', '74/74', '10/13', '3/4',\n",
       "       '20/21', '21/26', '9/18', '32/36', '6/6', '4/12', '4/4', '59/63',\n",
       "       '8/13', '22/22', '3/11', '22/24', '8/9', '29/34', '2/3', '1/4',\n",
       "       '22/23', '16/18', '13/13', '4/8', '23/23', '1/7', '24/24', '47/47',\n",
       "       '16/17', '31/31', '21/37', '7/7', '54/55', '3/33', '43/46',\n",
       "       '51/51', '48/54', '6/8', '58/60', '26/32', '51/67', '28/29', '4/6',\n",
       "       '34/34', '62/66', '11/12', '40/41', '26/27', '1/3', '139/141',\n",
       "       '11/14', '19/19', '26/30', '141/143', '33/37', '4/5', '15/17',\n",
       "       '13/14', '41/42', '19/20', '31/32', '162/168', '16/16', '23/25',\n",
       "       '27/28', '14/14', '152/157', '6/9', '1/13', '10/10', '0/4',\n",
       "       '45/48', '31/34', '4/7', '12/13', '19/23', '23/28', '19/22',\n",
       "       '27/30', '20/22', '36/41', '88/119', '20/23', '30/31', '39/43',\n",
       "       '24/25', '7/13', '6/12', '16/43', '6/16', '28/31', '29/33', '0/6',\n",
       "       '88/93', '9/11', '43/43', '25/28', '65/66', '7/12', '42/43',\n",
       "       '25/31', '32/37', '146/147', '76/88', '71/74', '115/120', '49/53',\n",
       "       '26/29', '76/77', '0/5', '50/52', '9/24', '52/52', '13/17',\n",
       "       '32/33', '73/93', '19/21', '39/39', '56/58', '5/14', '43/45',\n",
       "       '32/32', '79/85', '13/27', '29/30', '9/12', '36/37', '2/6', '2/7',\n",
       "       '16/19', '15/16', '3/13', '12/18', '11/13', '57/62', '52/53',\n",
       "       '35/35', '5/9', '14/17', '29/29', '17/17', '14/16', '10/14',\n",
       "       '4/14', '17/19', '96/104', '108/124', '7/15', '58/59', '8/101',\n",
       "       '2/5', '9/17', '61/61', '7/9', '3/7', '0/8', '28/28', '103/110',\n",
       "       '6/10', '35/48', '60/65', '8/10', '6/15', '45/47', '10/15',\n",
       "       '56/70', '55/58', '25/25', '23/33', '16/30', '49/55', '10/11',\n",
       "       '2/64', '33/34', '5/15', '21/24', '6/14', '0/7', '25/27', '5/10',\n",
       "       '27/27', '25/33', '2/19', '1/9', '36/39', '3/8', '10/12', '33/36',\n",
       "       '29/31', '10/94', '3/23', '43/56', '13/18', '23/24', '24/27',\n",
       "       '60/62', '50/55', '45/46', '50/51', '18/26', '0/13', '1/8',\n",
       "       '52/59', '37/38', '8/14', '16/22', '25/26', '16/20', '41/41',\n",
       "       '48/48', '48/49', '6/11', '85/86', '16/21', '59/60', '90/91',\n",
       "       '47/54', '4/11', '35/47', '27/33', '4/43', '42/44', '55/57',\n",
       "       '60/63', '82/83', '3/9', '5/12', '40/42', '28/35', '12/22',\n",
       "       '23/34', '2/10', '40/40', '163/176', '153/168', '2/11', '53/90',\n",
       "       '74/77', '30/41', '4/60', '4/17', '11/15', '11/61', '11/17',\n",
       "       '0/10', '30/30', '10/17', '1/22', '21/25', '8/15', '2/8', '9/20',\n",
       "       '4/20', '51/53', '33/33', '33/42', '4/9', '170/172', '4/10',\n",
       "       '24/31', '5/72', '7/36', '7/14', '18/20', '286/309', '77/77',\n",
       "       '17/23', '32/34', '15/23', '47/49', '14/21', '6/13', '9/14',\n",
       "       '7/11', '21/23', '8/11', '39/40', '2/24', '8/12', '17/42', '2/9',\n",
       "       '5/11', '9/13', '6/21', '24/28', '87/95', '18/30', '46/46',\n",
       "       '54/60', '39/46', '69/75', '18/32', '12/15', '34/45', '17/29',\n",
       "       '6/19', '155/156', '46/49', '72/72', '23/29', '13/16', '13/20',\n",
       "       '19/27', '4/29', '276/296', '3/16', '63/64', '7/20', '16/23',\n",
       "       '75/78', '0/17', '12/20', '28/33', '62/63', '5/19', '8/18', '8/62',\n",
       "       '7/19', '11/29', '2/22', '2/16', '1/11', '11/67', '1/19',\n",
       "       '111/112', '77/78', '3/12', '27/31', '83/95', '21/30', '3/10',\n",
       "       '13/36', '52/54', '8/32', '1/51', '44/59', '42/42', '38/46',\n",
       "       '22/25', '127/130', '71/83', '14/18', '54/58', '39/42', '16/25',\n",
       "       '25/29', '39/41', '10/20', '22/32', '55/68', '4/13', '5/38',\n",
       "       '4/34', '15/20', '1/20', '56/57', '64/67', '79/79', '60/61',\n",
       "       '55/66', '1/14', '145/161', '0/26', '18/21', '33/44', '2/30',\n",
       "       '19/29', '88/94', '37/43', '9/46', '78/78', '18/28', '19/31',\n",
       "       '61/64', '326/326', '5/25', '15/21', '15/22', '11/16', '5/29',\n",
       "       '65/67', '90/90', '69/72', '193/216', '104/105', '159/165',\n",
       "       '76/76', '13/19', '10/36', '2/13', '2/40', '43/44', '66/72',\n",
       "       '182/189', '54/56', '76/80', '52/58', '80/81', '177/187', '96/97',\n",
       "       '25/34', '17/27', '12/17', '13/24', '1/12', '3/14', '17/21',\n",
       "       '28/30', '8/16', '114/117', '25/30', '62/65', '34/36', '55/55',\n",
       "       '52/56', '8/19', '49/50', '9/22', '11/18', '0/11', '33/41',\n",
       "       '27/32', '23/57', '189/201', '41/43', '44/49', '109/117', '2/20',\n",
       "       '28/48', '10/24', '2/17', '230/234', '36/40', '4/23', '32/38',\n",
       "       '2/18', '83/89', '117/125', '7/18', '24/30', '30/38', '1/25',\n",
       "       '11/21', '20/30', '35/43', '20/27', '25/51', '165/168', '8/27',\n",
       "       '22/26', '33/39', '7/66', '30/33', '8/30', '44/50', '22/28',\n",
       "       '8/28', '80/84', '94/102', '45/52', '8/39', '113/114', '35/41',\n",
       "       '14/19', '7/24', '7/35', '71/89', '10/19', '158/216', '10/25',\n",
       "       '18/23', '23/35', '7/33', '13/22', '72/80', '14/20', '51/55',\n",
       "       '255/279', '86/100', '212/229', '0/9', '3/15', '14/26', '49/49',\n",
       "       '2/14', '51/54', '18/22', '37/41', '9/23', '13/32', '13/28',\n",
       "       '232/256', '20/87', '66/74', '13/21', '84/94', '49/54', '65/68',\n",
       "       '29/32', '359/361', '163/170', '15/18', '1/36', '10/82', '1/67',\n",
       "       '16/27', '61/62', '79/81', '44/46', '169/174', '6/22', '1624/1685',\n",
       "       '38/38', '62/69', '11/20', '44/48', '24/26', '12/36', '38/40',\n",
       "       '3/24', '4/30', '6/42', '45/60', '10/16', '17/20', '14/22', '0/16',\n",
       "       '27/29', '553/561', '3/20', '7/16', '0/21', '152/160', '68/69',\n",
       "       '57/77', '72/76', '31/35', '124/132', '192/277', '150/152',\n",
       "       '86/88', '46/47', '57/65', '68/72', '11/39', '50/59', '17/53',\n",
       "       '32/41', '6/25', '108/111', '12/16', '41/59', '9/41', '104/107',\n",
       "       '76/82', '12/23', '18/35', '14/27', '159/166', '19/24', '63/66',\n",
       "       '66/66', '116/124', '66/68', '53/59', '332/347', '19/25', '54/54',\n",
       "       '0/15', '11/23', '1/10', '92/93', '35/38', '1/34', '22/35', '1/21',\n",
       "       '23/41', '30/36', '72/74', '119/155', '9/15', '140/140', '10/38',\n",
       "       '23/26', '18/25', '59/59', '11/32', '2/12', '18/24', '40/45',\n",
       "       '100/104', '88/89', '68/82', '3/37', '42/49', '69/74', '65/70',\n",
       "       '64/65', '74/80', '10/18', '21/34', '53/87', '0/14', '32/35',\n",
       "       '239/256', '95/97', '7/42', '73/75', '118/151', '143/150', '10/21',\n",
       "       '76/79', '69/70', '16/38', '0/18', '35/36', '57/69', '48/53',\n",
       "       '25/72', '55/61', '77/86', '62/67', '177/190', '91/98', '66/67',\n",
       "       '44/51', '47/53', '10/33', '3/18', '3/32', '58/58', '26/34',\n",
       "       '119/120', '38/39', '20/26', '712/728', '2268/2317', '27/35',\n",
       "       '338/390', '3/19', '1/18', '7/37', '17/22', '64/69', '3/26',\n",
       "       '22/29', '118/120', '20/35', '30/43', '0/28', '28/38', '125/127',\n",
       "       '57/64', '94/94', '5/16', '68/76', '202/242', '64/83', '75/79',\n",
       "       '45/45', '96/96', '85/101', '65/65', '47/48', '26/28', '51/52',\n",
       "       '8/20', '5/23', '55/59', '31/43', '100/102', '251/260', '126/129',\n",
       "       '7/26', '89/89', '130/141', '0/12', '1/70', '42/67', '95/100',\n",
       "       '27/37', '30/34', '0/29', '37/39', '26/33', '25/35', '84/87',\n",
       "       '46/48', '32/43', '334/345', '52/55', '3/40', '14/29', '59/61',\n",
       "       '85/89', '129/131', '71/88', '15/19', '6/26', '11/122', '214/227',\n",
       "       '81/85', '7/21', '7/17', '58/61', '89/97', '1/17', '111/120',\n",
       "       '198/202', '4/52', '81/87', '12/119', '1/16', '2/43', '1/23',\n",
       "       '74/76', '57/58', '120/143', '53/55', '1/15', '12/21', '41/52',\n",
       "       '9/16', '153/167', '70/75', '66/69', '53/53', '41/45', '140/179',\n",
       "       '3/17', '30/32', '98/98', '33/40', '85/90', '138/139', '33/35',\n",
       "       '12/25', '25/36', '231/244', '11/19', '101/102', '18/40', '4/16',\n",
       "       '2/15', '35/44', '3/21', '1/28', '3/22', '3/25', '50/73', '21/32',\n",
       "       '373/448', '31/36', '6/17', '13/23', '38/44', '0/30', '125/128',\n",
       "       '69/69', '9/19', '57/63', '17/25', '32/40', '43/67', '35/72',\n",
       "       '1/24', '4/18', '5/17', '1/35'], dtype=object)"
      ]
     },
     "execution_count": 22,
     "metadata": {},
     "output_type": "execute_result"
    }
   ],
   "source": [
    "new_df[\"Helpfulness\"].unique()"
   ]
  },
  {
   "cell_type": "code",
   "execution_count": 23,
   "id": "8b85188c-04b4-4263-8f61-ae575529707a",
   "metadata": {},
   "outputs": [],
   "source": [
    "def encode_helpfulness(x):\n",
    "    val_1, val_2 = map(float, x.split('/'))\n",
    "    # Division by 0 (Error)\n",
    "    if val_2 == 0:\n",
    "        new_val = 0\n",
    "    else:\n",
    "        new_val = val_1 / val_2\n",
    "    \n",
    "    return new_val"
   ]
  },
  {
   "cell_type": "code",
   "execution_count": 24,
   "id": "fa30d331-a42b-4694-ab3b-93556f74f77a",
   "metadata": {},
   "outputs": [
    {
     "data": {
      "text/html": [
       "<div>\n",
       "<style scoped>\n",
       "    .dataframe tbody tr th:only-of-type {\n",
       "        vertical-align: middle;\n",
       "    }\n",
       "\n",
       "    .dataframe tbody tr th {\n",
       "        vertical-align: top;\n",
       "    }\n",
       "\n",
       "    .dataframe thead th {\n",
       "        text-align: right;\n",
       "    }\n",
       "</style>\n",
       "<table border=\"1\" class=\"dataframe\">\n",
       "  <thead>\n",
       "    <tr style=\"text-align: right;\">\n",
       "      <th></th>\n",
       "      <th>Title</th>\n",
       "      <th>Helpfulness</th>\n",
       "      <th>Score</th>\n",
       "      <th>Text</th>\n",
       "      <th>Cat1</th>\n",
       "      <th>Cat2</th>\n",
       "      <th>Cat3</th>\n",
       "    </tr>\n",
       "  </thead>\n",
       "  <tbody>\n",
       "    <tr>\n",
       "      <th>0</th>\n",
       "      <td>Golden Valley Natural Buffalo Jerky</td>\n",
       "      <td>0/0</td>\n",
       "      <td>3.0</td>\n",
       "      <td>The description and photo on this product need...</td>\n",
       "      <td>grocery gourmet food</td>\n",
       "      <td>meat poultry</td>\n",
       "      <td>jerky</td>\n",
       "    </tr>\n",
       "    <tr>\n",
       "      <th>1</th>\n",
       "      <td>Westing Game</td>\n",
       "      <td>0/0</td>\n",
       "      <td>5.0</td>\n",
       "      <td>This was a great book!!!! It is well thought t...</td>\n",
       "      <td>toys games</td>\n",
       "      <td>games</td>\n",
       "      <td>unknown</td>\n",
       "    </tr>\n",
       "    <tr>\n",
       "      <th>2</th>\n",
       "      <td>Westing Game</td>\n",
       "      <td>0/0</td>\n",
       "      <td>5.0</td>\n",
       "      <td>I am a first year teacher, teaching 5th grade....</td>\n",
       "      <td>toys games</td>\n",
       "      <td>games</td>\n",
       "      <td>unknown</td>\n",
       "    </tr>\n",
       "    <tr>\n",
       "      <th>3</th>\n",
       "      <td>Westing Game</td>\n",
       "      <td>0/0</td>\n",
       "      <td>5.0</td>\n",
       "      <td>I got the book at my bookfair at school lookin...</td>\n",
       "      <td>toys games</td>\n",
       "      <td>games</td>\n",
       "      <td>unknown</td>\n",
       "    </tr>\n",
       "    <tr>\n",
       "      <th>4</th>\n",
       "      <td>I SPY A is For Jigsaw Puzzle 63pc</td>\n",
       "      <td>2/4</td>\n",
       "      <td>5.0</td>\n",
       "      <td>Hi! I'm Martine Redman and I created this puzz...</td>\n",
       "      <td>toys games</td>\n",
       "      <td>puzzles</td>\n",
       "      <td>jigsaw puzzles</td>\n",
       "    </tr>\n",
       "  </tbody>\n",
       "</table>\n",
       "</div>"
      ],
      "text/plain": [
       "                                 Title Helpfulness  Score  \\\n",
       "0  Golden Valley Natural Buffalo Jerky         0/0    3.0   \n",
       "1                         Westing Game         0/0    5.0   \n",
       "2                         Westing Game         0/0    5.0   \n",
       "3                         Westing Game         0/0    5.0   \n",
       "4    I SPY A is For Jigsaw Puzzle 63pc         2/4    5.0   \n",
       "\n",
       "                                                Text                  Cat1  \\\n",
       "0  The description and photo on this product need...  grocery gourmet food   \n",
       "1  This was a great book!!!! It is well thought t...            toys games   \n",
       "2  I am a first year teacher, teaching 5th grade....            toys games   \n",
       "3  I got the book at my bookfair at school lookin...            toys games   \n",
       "4  Hi! I'm Martine Redman and I created this puzz...            toys games   \n",
       "\n",
       "           Cat2            Cat3  \n",
       "0  meat poultry           jerky  \n",
       "1         games         unknown  \n",
       "2         games         unknown  \n",
       "3         games         unknown  \n",
       "4       puzzles  jigsaw puzzles  "
      ]
     },
     "execution_count": 24,
     "metadata": {},
     "output_type": "execute_result"
    }
   ],
   "source": [
    "new_df.head()"
   ]
  },
  {
   "cell_type": "code",
   "execution_count": 25,
   "id": "7c467135-f235-43f8-a6a9-a214956733ef",
   "metadata": {},
   "outputs": [],
   "source": [
    "new_df['Helpfulness'] = new_df['Helpfulness'].apply(encode_helpfulness)"
   ]
  },
  {
   "cell_type": "code",
   "execution_count": 26,
   "id": "d4b3562d-cf4e-4370-8b08-cad1dd21b5ef",
   "metadata": {},
   "outputs": [
    {
     "data": {
      "text/html": [
       "<div>\n",
       "<style scoped>\n",
       "    .dataframe tbody tr th:only-of-type {\n",
       "        vertical-align: middle;\n",
       "    }\n",
       "\n",
       "    .dataframe tbody tr th {\n",
       "        vertical-align: top;\n",
       "    }\n",
       "\n",
       "    .dataframe thead th {\n",
       "        text-align: right;\n",
       "    }\n",
       "</style>\n",
       "<table border=\"1\" class=\"dataframe\">\n",
       "  <thead>\n",
       "    <tr style=\"text-align: right;\">\n",
       "      <th></th>\n",
       "      <th>Title</th>\n",
       "      <th>Helpfulness</th>\n",
       "      <th>Score</th>\n",
       "      <th>Text</th>\n",
       "      <th>Cat1</th>\n",
       "      <th>Cat2</th>\n",
       "      <th>Cat3</th>\n",
       "    </tr>\n",
       "  </thead>\n",
       "  <tbody>\n",
       "    <tr>\n",
       "      <th>0</th>\n",
       "      <td>Golden Valley Natural Buffalo Jerky</td>\n",
       "      <td>0.0</td>\n",
       "      <td>3.0</td>\n",
       "      <td>The description and photo on this product need...</td>\n",
       "      <td>grocery gourmet food</td>\n",
       "      <td>meat poultry</td>\n",
       "      <td>jerky</td>\n",
       "    </tr>\n",
       "    <tr>\n",
       "      <th>1</th>\n",
       "      <td>Westing Game</td>\n",
       "      <td>0.0</td>\n",
       "      <td>5.0</td>\n",
       "      <td>This was a great book!!!! It is well thought t...</td>\n",
       "      <td>toys games</td>\n",
       "      <td>games</td>\n",
       "      <td>unknown</td>\n",
       "    </tr>\n",
       "    <tr>\n",
       "      <th>2</th>\n",
       "      <td>Westing Game</td>\n",
       "      <td>0.0</td>\n",
       "      <td>5.0</td>\n",
       "      <td>I am a first year teacher, teaching 5th grade....</td>\n",
       "      <td>toys games</td>\n",
       "      <td>games</td>\n",
       "      <td>unknown</td>\n",
       "    </tr>\n",
       "    <tr>\n",
       "      <th>3</th>\n",
       "      <td>Westing Game</td>\n",
       "      <td>0.0</td>\n",
       "      <td>5.0</td>\n",
       "      <td>I got the book at my bookfair at school lookin...</td>\n",
       "      <td>toys games</td>\n",
       "      <td>games</td>\n",
       "      <td>unknown</td>\n",
       "    </tr>\n",
       "    <tr>\n",
       "      <th>4</th>\n",
       "      <td>I SPY A is For Jigsaw Puzzle 63pc</td>\n",
       "      <td>0.5</td>\n",
       "      <td>5.0</td>\n",
       "      <td>Hi! I'm Martine Redman and I created this puzz...</td>\n",
       "      <td>toys games</td>\n",
       "      <td>puzzles</td>\n",
       "      <td>jigsaw puzzles</td>\n",
       "    </tr>\n",
       "  </tbody>\n",
       "</table>\n",
       "</div>"
      ],
      "text/plain": [
       "                                 Title  Helpfulness  Score  \\\n",
       "0  Golden Valley Natural Buffalo Jerky          0.0    3.0   \n",
       "1                         Westing Game          0.0    5.0   \n",
       "2                         Westing Game          0.0    5.0   \n",
       "3                         Westing Game          0.0    5.0   \n",
       "4    I SPY A is For Jigsaw Puzzle 63pc          0.5    5.0   \n",
       "\n",
       "                                                Text                  Cat1  \\\n",
       "0  The description and photo on this product need...  grocery gourmet food   \n",
       "1  This was a great book!!!! It is well thought t...            toys games   \n",
       "2  I am a first year teacher, teaching 5th grade....            toys games   \n",
       "3  I got the book at my bookfair at school lookin...            toys games   \n",
       "4  Hi! I'm Martine Redman and I created this puzz...            toys games   \n",
       "\n",
       "           Cat2            Cat3  \n",
       "0  meat poultry           jerky  \n",
       "1         games         unknown  \n",
       "2         games         unknown  \n",
       "3         games         unknown  \n",
       "4       puzzles  jigsaw puzzles  "
      ]
     },
     "execution_count": 26,
     "metadata": {},
     "output_type": "execute_result"
    }
   ],
   "source": [
    "new_df.head()"
   ]
  },
  {
   "cell_type": "markdown",
   "id": "86ca3a8f-1bbb-49ff-8760-6cb6d294a2a6",
   "metadata": {},
   "source": [
    "now lets have a look at data dist info"
   ]
  },
  {
   "cell_type": "code",
   "execution_count": 27,
   "id": "3e66fed2-1f16-494a-a3a9-9cf988f2639c",
   "metadata": {},
   "outputs": [
    {
     "data": {
      "text/html": [
       "<div>\n",
       "<style scoped>\n",
       "    .dataframe tbody tr th:only-of-type {\n",
       "        vertical-align: middle;\n",
       "    }\n",
       "\n",
       "    .dataframe tbody tr th {\n",
       "        vertical-align: top;\n",
       "    }\n",
       "\n",
       "    .dataframe thead th {\n",
       "        text-align: right;\n",
       "    }\n",
       "</style>\n",
       "<table border=\"1\" class=\"dataframe\">\n",
       "  <thead>\n",
       "    <tr style=\"text-align: right;\">\n",
       "      <th></th>\n",
       "      <th>Helpfulness</th>\n",
       "      <th>Score</th>\n",
       "    </tr>\n",
       "  </thead>\n",
       "  <tbody>\n",
       "    <tr>\n",
       "      <th>count</th>\n",
       "      <td>49979.000000</td>\n",
       "      <td>49979.000000</td>\n",
       "    </tr>\n",
       "    <tr>\n",
       "      <th>mean</th>\n",
       "      <td>0.427391</td>\n",
       "      <td>4.099322</td>\n",
       "    </tr>\n",
       "    <tr>\n",
       "      <th>std</th>\n",
       "      <td>0.465299</td>\n",
       "      <td>1.342018</td>\n",
       "    </tr>\n",
       "    <tr>\n",
       "      <th>min</th>\n",
       "      <td>0.000000</td>\n",
       "      <td>1.000000</td>\n",
       "    </tr>\n",
       "    <tr>\n",
       "      <th>25%</th>\n",
       "      <td>0.000000</td>\n",
       "      <td>4.000000</td>\n",
       "    </tr>\n",
       "    <tr>\n",
       "      <th>50%</th>\n",
       "      <td>0.000000</td>\n",
       "      <td>5.000000</td>\n",
       "    </tr>\n",
       "    <tr>\n",
       "      <th>75%</th>\n",
       "      <td>1.000000</td>\n",
       "      <td>5.000000</td>\n",
       "    </tr>\n",
       "    <tr>\n",
       "      <th>max</th>\n",
       "      <td>1.000000</td>\n",
       "      <td>5.000000</td>\n",
       "    </tr>\n",
       "  </tbody>\n",
       "</table>\n",
       "</div>"
      ],
      "text/plain": [
       "        Helpfulness         Score\n",
       "count  49979.000000  49979.000000\n",
       "mean       0.427391      4.099322\n",
       "std        0.465299      1.342018\n",
       "min        0.000000      1.000000\n",
       "25%        0.000000      4.000000\n",
       "50%        0.000000      5.000000\n",
       "75%        1.000000      5.000000\n",
       "max        1.000000      5.000000"
      ]
     },
     "execution_count": 27,
     "metadata": {},
     "output_type": "execute_result"
    }
   ],
   "source": [
    "new_df.describe()"
   ]
  },
  {
   "cell_type": "markdown",
   "id": "48840932-5703-449c-b030-fab7725d2dbc",
   "metadata": {},
   "source": [
    "Better to scale the \"Score\" values too, although they dont seem be so much distant compared to \"Helpfulness\" in scale of values"
   ]
  },
  {
   "cell_type": "code",
   "execution_count": 28,
   "id": "aef14d15-05ac-4f22-81f1-72f74fa0905d",
   "metadata": {},
   "outputs": [
    {
     "data": {
      "text/html": [
       "<div>\n",
       "<style scoped>\n",
       "    .dataframe tbody tr th:only-of-type {\n",
       "        vertical-align: middle;\n",
       "    }\n",
       "\n",
       "    .dataframe tbody tr th {\n",
       "        vertical-align: top;\n",
       "    }\n",
       "\n",
       "    .dataframe thead th {\n",
       "        text-align: right;\n",
       "    }\n",
       "</style>\n",
       "<table border=\"1\" class=\"dataframe\">\n",
       "  <thead>\n",
       "    <tr style=\"text-align: right;\">\n",
       "      <th></th>\n",
       "      <th>Helpfulness</th>\n",
       "      <th>Score</th>\n",
       "    </tr>\n",
       "  </thead>\n",
       "  <tbody>\n",
       "    <tr>\n",
       "      <th>count</th>\n",
       "      <td>49979.000000</td>\n",
       "      <td>49979.000000</td>\n",
       "    </tr>\n",
       "    <tr>\n",
       "      <th>mean</th>\n",
       "      <td>0.427391</td>\n",
       "      <td>0.774830</td>\n",
       "    </tr>\n",
       "    <tr>\n",
       "      <th>std</th>\n",
       "      <td>0.465299</td>\n",
       "      <td>0.335504</td>\n",
       "    </tr>\n",
       "    <tr>\n",
       "      <th>min</th>\n",
       "      <td>0.000000</td>\n",
       "      <td>0.000000</td>\n",
       "    </tr>\n",
       "    <tr>\n",
       "      <th>25%</th>\n",
       "      <td>0.000000</td>\n",
       "      <td>0.750000</td>\n",
       "    </tr>\n",
       "    <tr>\n",
       "      <th>50%</th>\n",
       "      <td>0.000000</td>\n",
       "      <td>1.000000</td>\n",
       "    </tr>\n",
       "    <tr>\n",
       "      <th>75%</th>\n",
       "      <td>1.000000</td>\n",
       "      <td>1.000000</td>\n",
       "    </tr>\n",
       "    <tr>\n",
       "      <th>max</th>\n",
       "      <td>1.000000</td>\n",
       "      <td>1.000000</td>\n",
       "    </tr>\n",
       "  </tbody>\n",
       "</table>\n",
       "</div>"
      ],
      "text/plain": [
       "        Helpfulness         Score\n",
       "count  49979.000000  49979.000000\n",
       "mean       0.427391      0.774830\n",
       "std        0.465299      0.335504\n",
       "min        0.000000      0.000000\n",
       "25%        0.000000      0.750000\n",
       "50%        0.000000      1.000000\n",
       "75%        1.000000      1.000000\n",
       "max        1.000000      1.000000"
      ]
     },
     "execution_count": 28,
     "metadata": {},
     "output_type": "execute_result"
    }
   ],
   "source": [
    "scaler = MinMaxScaler()\n",
    "new_df[\"Score\"] = scaler.fit_transform(new_df[[\"Score\"]])  \n",
    "new_df.describe()"
   ]
  },
  {
   "cell_type": "code",
   "execution_count": 29,
   "id": "bde6dbca-72c6-448e-8f4f-7b7849e0d703",
   "metadata": {},
   "outputs": [
    {
     "data": {
      "image/png": "[encoded data removed]",
      "text/plain": [
       "<Figure size 1200x300 with 1 Axes>"
      ]
     },
     "metadata": {},
     "output_type": "display_data"
    }
   ],
   "source": [
    "plt.figure(figsize=(12, 3))\n",
    "sns.violinplot(data=new_df[new_df.columns[1:3]], orient='h')\n",
    "plt.title(\"Density of the Features\")\n",
    "plt.show()"
   ]
  },
  {
   "cell_type": "code",
   "execution_count": 30,
   "id": "85b605f0-c6a1-4966-9998-8a84b5d3fd70",
   "metadata": {},
   "outputs": [
    {
     "data": {
      "text/html": [
       "<div>\n",
       "<style scoped>\n",
       "    .dataframe tbody tr th:only-of-type {\n",
       "        vertical-align: middle;\n",
       "    }\n",
       "\n",
       "    .dataframe tbody tr th {\n",
       "        vertical-align: top;\n",
       "    }\n",
       "\n",
       "    .dataframe thead th {\n",
       "        text-align: right;\n",
       "    }\n",
       "</style>\n",
       "<table border=\"1\" class=\"dataframe\">\n",
       "  <thead>\n",
       "    <tr style=\"text-align: right;\">\n",
       "      <th></th>\n",
       "      <th>Title</th>\n",
       "      <th>Helpfulness</th>\n",
       "      <th>Score</th>\n",
       "      <th>Text</th>\n",
       "      <th>Cat1</th>\n",
       "      <th>Cat2</th>\n",
       "      <th>Cat3</th>\n",
       "    </tr>\n",
       "  </thead>\n",
       "  <tbody>\n",
       "    <tr>\n",
       "      <th>0</th>\n",
       "      <td>Golden Valley Natural Buffalo Jerky</td>\n",
       "      <td>0.0</td>\n",
       "      <td>0.5</td>\n",
       "      <td>The description and photo on this product need...</td>\n",
       "      <td>grocery gourmet food</td>\n",
       "      <td>meat poultry</td>\n",
       "      <td>jerky</td>\n",
       "    </tr>\n",
       "    <tr>\n",
       "      <th>1</th>\n",
       "      <td>Westing Game</td>\n",
       "      <td>0.0</td>\n",
       "      <td>1.0</td>\n",
       "      <td>This was a great book!!!! It is well thought t...</td>\n",
       "      <td>toys games</td>\n",
       "      <td>games</td>\n",
       "      <td>unknown</td>\n",
       "    </tr>\n",
       "    <tr>\n",
       "      <th>2</th>\n",
       "      <td>Westing Game</td>\n",
       "      <td>0.0</td>\n",
       "      <td>1.0</td>\n",
       "      <td>I am a first year teacher, teaching 5th grade....</td>\n",
       "      <td>toys games</td>\n",
       "      <td>games</td>\n",
       "      <td>unknown</td>\n",
       "    </tr>\n",
       "    <tr>\n",
       "      <th>3</th>\n",
       "      <td>Westing Game</td>\n",
       "      <td>0.0</td>\n",
       "      <td>1.0</td>\n",
       "      <td>I got the book at my bookfair at school lookin...</td>\n",
       "      <td>toys games</td>\n",
       "      <td>games</td>\n",
       "      <td>unknown</td>\n",
       "    </tr>\n",
       "    <tr>\n",
       "      <th>4</th>\n",
       "      <td>I SPY A is For Jigsaw Puzzle 63pc</td>\n",
       "      <td>0.5</td>\n",
       "      <td>1.0</td>\n",
       "      <td>Hi! I'm Martine Redman and I created this puzz...</td>\n",
       "      <td>toys games</td>\n",
       "      <td>puzzles</td>\n",
       "      <td>jigsaw puzzles</td>\n",
       "    </tr>\n",
       "  </tbody>\n",
       "</table>\n",
       "</div>"
      ],
      "text/plain": [
       "                                 Title  Helpfulness  Score  \\\n",
       "0  Golden Valley Natural Buffalo Jerky          0.0    0.5   \n",
       "1                         Westing Game          0.0    1.0   \n",
       "2                         Westing Game          0.0    1.0   \n",
       "3                         Westing Game          0.0    1.0   \n",
       "4    I SPY A is For Jigsaw Puzzle 63pc          0.5    1.0   \n",
       "\n",
       "                                                Text                  Cat1  \\\n",
       "0  The description and photo on this product need...  grocery gourmet food   \n",
       "1  This was a great book!!!! It is well thought t...            toys games   \n",
       "2  I am a first year teacher, teaching 5th grade....            toys games   \n",
       "3  I got the book at my bookfair at school lookin...            toys games   \n",
       "4  Hi! I'm Martine Redman and I created this puzz...            toys games   \n",
       "\n",
       "           Cat2            Cat3  \n",
       "0  meat poultry           jerky  \n",
       "1         games         unknown  \n",
       "2         games         unknown  \n",
       "3         games         unknown  \n",
       "4       puzzles  jigsaw puzzles  "
      ]
     },
     "execution_count": 30,
     "metadata": {},
     "output_type": "execute_result"
    }
   ],
   "source": [
    "new_df.head(5)"
   ]
  },
  {
   "cell_type": "markdown",
   "id": "22492da8-f256-460a-9314-2428945459c1",
   "metadata": {},
   "source": [
    "Now lets clean the \"Text\" column"
   ]
  },
  {
   "cell_type": "code",
   "execution_count": 31,
   "id": "1efaea8c-26a9-47f4-b751-585dc747c5e9",
   "metadata": {},
   "outputs": [],
   "source": [
    "stop_words = set(stopwords.words('english'))"
   ]
  },
  {
   "cell_type": "code",
   "execution_count": 32,
   "id": "5cc4a966-7fc3-4607-8b5a-2a682aafca85",
   "metadata": {},
   "outputs": [],
   "source": [
    "def clean_text(text):\n",
    "    \"\"\"Simple function to clean the input text by removing Junks\"\"\"\n",
    "    text = text.lower()\n",
    "    # Remove punctuation and numbers\n",
    "    text = re.sub(r'[^a-z\\s]', '', text)  \n",
    "    # Remove stopwords\n",
    "    text = ' '.join(word for word in text.split() if word not in stop_words)  \n",
    "    return text\n"
   ]
  },
  {
   "cell_type": "code",
   "execution_count": 33,
   "id": "3600a5cd-61e6-4bec-954c-5534da3e2567",
   "metadata": {},
   "outputs": [
    {
     "data": {
      "text/html": [
       "<div>\n",
       "<style scoped>\n",
       "    .dataframe tbody tr th:only-of-type {\n",
       "        vertical-align: middle;\n",
       "    }\n",
       "\n",
       "    .dataframe tbody tr th {\n",
       "        vertical-align: top;\n",
       "    }\n",
       "\n",
       "    .dataframe thead th {\n",
       "        text-align: right;\n",
       "    }\n",
       "</style>\n",
       "<table border=\"1\" class=\"dataframe\">\n",
       "  <thead>\n",
       "    <tr style=\"text-align: right;\">\n",
       "      <th></th>\n",
       "      <th>Title</th>\n",
       "      <th>Helpfulness</th>\n",
       "      <th>Score</th>\n",
       "      <th>Text</th>\n",
       "      <th>Cat1</th>\n",
       "      <th>Cat2</th>\n",
       "      <th>Cat3</th>\n",
       "    </tr>\n",
       "  </thead>\n",
       "  <tbody>\n",
       "    <tr>\n",
       "      <th>0</th>\n",
       "      <td>golden valley natural buffalo jerky</td>\n",
       "      <td>0.0</td>\n",
       "      <td>0.5</td>\n",
       "      <td>description photo product needs changed indica...</td>\n",
       "      <td>grocery gourmet food</td>\n",
       "      <td>meat poultry</td>\n",
       "      <td>jerky</td>\n",
       "    </tr>\n",
       "    <tr>\n",
       "      <th>1</th>\n",
       "      <td>westing game</td>\n",
       "      <td>0.0</td>\n",
       "      <td>1.0</td>\n",
       "      <td>great book well thought easily imagine events ...</td>\n",
       "      <td>toys games</td>\n",
       "      <td>games</td>\n",
       "      <td>unknown</td>\n",
       "    </tr>\n",
       "    <tr>\n",
       "      <th>2</th>\n",
       "      <td>westing game</td>\n",
       "      <td>0.0</td>\n",
       "      <td>1.0</td>\n",
       "      <td>first year teacher teaching th grade special r...</td>\n",
       "      <td>toys games</td>\n",
       "      <td>games</td>\n",
       "      <td>unknown</td>\n",
       "    </tr>\n",
       "    <tr>\n",
       "      <th>3</th>\n",
       "      <td>westing game</td>\n",
       "      <td>0.0</td>\n",
       "      <td>1.0</td>\n",
       "      <td>got book bookfair school looking something sum...</td>\n",
       "      <td>toys games</td>\n",
       "      <td>games</td>\n",
       "      <td>unknown</td>\n",
       "    </tr>\n",
       "    <tr>\n",
       "      <th>4</th>\n",
       "      <td>spy jigsaw puzzle pc</td>\n",
       "      <td>0.5</td>\n",
       "      <td>1.0</td>\n",
       "      <td>hi im martine redman created puzzle briarpatch...</td>\n",
       "      <td>toys games</td>\n",
       "      <td>puzzles</td>\n",
       "      <td>jigsaw puzzles</td>\n",
       "    </tr>\n",
       "  </tbody>\n",
       "</table>\n",
       "</div>"
      ],
      "text/plain": [
       "                                 Title  Helpfulness  Score  \\\n",
       "0  golden valley natural buffalo jerky          0.0    0.5   \n",
       "1                         westing game          0.0    1.0   \n",
       "2                         westing game          0.0    1.0   \n",
       "3                         westing game          0.0    1.0   \n",
       "4                 spy jigsaw puzzle pc          0.5    1.0   \n",
       "\n",
       "                                                Text                  Cat1  \\\n",
       "0  description photo product needs changed indica...  grocery gourmet food   \n",
       "1  great book well thought easily imagine events ...            toys games   \n",
       "2  first year teacher teaching th grade special r...            toys games   \n",
       "3  got book bookfair school looking something sum...            toys games   \n",
       "4  hi im martine redman created puzzle briarpatch...            toys games   \n",
       "\n",
       "           Cat2            Cat3  \n",
       "0  meat poultry           jerky  \n",
       "1         games         unknown  \n",
       "2         games         unknown  \n",
       "3         games         unknown  \n",
       "4       puzzles  jigsaw puzzles  "
      ]
     },
     "execution_count": 33,
     "metadata": {},
     "output_type": "execute_result"
    }
   ],
   "source": [
    "new_df['Text'] = new_df['Text'].apply(clean_text)\n",
    "new_df['Title'] = new_df['Title'].apply(clean_text)\n",
    "new_df.head()"
   ]
  },
  {
   "cell_type": "markdown",
   "id": "d75e874c-aac7-48fb-9c4d-69762e558319",
   "metadata": {},
   "source": [
    "As you can see the junks have been removed from the \"Text\". For example the second row had \"!!!\" after \"book\""
   ]
  },
  {
   "cell_type": "markdown",
   "id": "fd3e0611-269c-4229-9028-c7df33ea8c61",
   "metadata": {},
   "source": [
    "Now Lets extract some features from it ..."
   ]
  },
  {
   "cell_type": "code",
   "execution_count": 34,
   "id": "735ca04b-fced-4f74-9f20-f8190296747a",
   "metadata": {},
   "outputs": [],
   "source": [
    "# To know how many unique tokens we propably going to need lets see the len of each review sample\n",
    "new_df[\"Review_Len\"] = new_df[\"Text\"].apply(len) "
   ]
  },
  {
   "cell_type": "code",
   "execution_count": 35,
   "id": "cc16bcd3-20dd-4d95-a9a9-abc3d55042f4",
   "metadata": {},
   "outputs": [
    {
     "data": {
      "text/plain": [
       "count    49979.000000\n",
       "mean       250.321955\n",
       "std        233.916726\n",
       "min          0.000000\n",
       "25%        105.000000\n",
       "50%        180.000000\n",
       "75%        312.000000\n",
       "max       4587.000000\n",
       "Name: Review_Len, dtype: float64"
      ]
     },
     "execution_count": 35,
     "metadata": {},
     "output_type": "execute_result"
    }
   ],
   "source": [
    "new_df[\"Review_Len\"].describe()"
   ]
  },
  {
   "cell_type": "code",
   "execution_count": 36,
   "id": "7292d48d-62a4-49a2-af39-732c2690b562",
   "metadata": {},
   "outputs": [
    {
     "data": {
      "text/plain": [
       "Review_Len\n",
       "86      273\n",
       "82      272\n",
       "80      267\n",
       "72      257\n",
       "96      256\n",
       "       ... \n",
       "1917      1\n",
       "2115      1\n",
       "1741      1\n",
       "1443      1\n",
       "1186      1\n",
       "Name: count, Length: 1509, dtype: int64"
      ]
     },
     "execution_count": 36,
     "metadata": {},
     "output_type": "execute_result"
    }
   ],
   "source": [
    "new_df[\"Review_Len\"].value_counts().sort_values(ascending=False) "
   ]
  },
  {
   "cell_type": "code",
   "execution_count": 37,
   "id": "df7013a0-2fba-46ca-9d0b-451407f578e3",
   "metadata": {},
   "outputs": [
    {
     "data": {
      "image/png": "[encoded data removed]",
      "text/plain": [
       "<Figure size 1300x300 with 1 Axes>"
      ]
     },
     "metadata": {},
     "output_type": "display_data"
    }
   ],
   "source": [
    "plt.figure(figsize=(13, 3))\n",
    "sns.violinplot(data=new_df[\"Review_Len\"], orient='h')\n",
    "plt.title(\"Density of the Review Length\")\n",
    "plt.show()"
   ]
  },
  {
   "cell_type": "markdown",
   "id": "076d7dba-1e9c-44fe-b8a0-5403db78edf6",
   "metadata": {},
   "source": [
    "Longest review had about 4.5k words. Considering that some of those words are possibly shared, we assume that 3.5k number of tokens (featrues) would be a valid value to begin with. Also we drop the rows that had no reviews. (Len zero)"
   ]
  },
  {
   "cell_type": "code",
   "execution_count": 38,
   "id": "80c2c3d2-a5fb-48e2-b205-4fade3d5b7e6",
   "metadata": {},
   "outputs": [
    {
     "name": "stdout",
     "output_type": "stream",
     "text": [
      "Shape before: (49979, 8)\n",
      "Shape after: (49971, 8)\n"
     ]
    }
   ],
   "source": [
    "print(f\"Shape before: {new_df.shape}\")\n",
    "new_df.drop(new_df[new_df[\"Review_Len\"] == 0.0].index, inplace=True)\n",
    "print(f\"Shape after: {new_df.shape}\")"
   ]
  },
  {
   "cell_type": "code",
   "execution_count": 39,
   "id": "6c7da652-f38b-42e0-b904-e5ff9285e3ad",
   "metadata": {},
   "outputs": [],
   "source": [
    "review_vectorizer = TfidfVectorizer(max_features=1500, min_df=5, ngram_range=(1, 2)) # reduced after try-capture experiments"
   ]
  },
  {
   "cell_type": "code",
   "execution_count": 40,
   "id": "73e8c22b-c161-4386-979c-bb4fba1c5426",
   "metadata": {},
   "outputs": [
    {
     "data": {
      "text/plain": [
       "array([[0.        , 0.        , 0.        , ..., 0.        , 0.        ,\n",
       "        0.        ],\n",
       "       [0.        , 0.        , 0.        , ..., 0.        , 0.        ,\n",
       "        0.        ],\n",
       "       [0.        , 0.        , 0.        , ..., 0.        , 0.        ,\n",
       "        0.        ],\n",
       "       ...,\n",
       "       [0.        , 0.        , 0.        , ..., 0.        , 0.        ,\n",
       "        0.        ],\n",
       "       [0.        , 0.17462187, 0.        , ..., 0.        , 0.        ,\n",
       "        0.        ],\n",
       "       [0.        , 0.        , 0.        , ..., 0.        , 0.        ,\n",
       "        0.        ]])"
      ]
     },
     "execution_count": 40,
     "metadata": {},
     "output_type": "execute_result"
    }
   ],
   "source": [
    "X_1 = review_vectorizer.fit_transform(new_df['Text']).toarray() # we can also test the performance while keeping the matrix Sparse\n",
    "X_1"
   ]
  },
  {
   "cell_type": "markdown",
   "id": "e5b2fbd2-8a3b-445d-a50c-806397fcd640",
   "metadata": {},
   "source": [
    "Now we need to do the same thing with Title"
   ]
  },
  {
   "cell_type": "code",
   "execution_count": 41,
   "id": "9372e2a0-b39b-432a-9bee-a8e3d811f614",
   "metadata": {},
   "outputs": [],
   "source": [
    "del df # No longer needed\n",
    "# To know how many unique tokens we propably going to need lets see the len of each review sample\n",
    "new_df[\"Title_Len\"] = new_df[\"Title\"].apply(len) "
   ]
  },
  {
   "cell_type": "code",
   "execution_count": 42,
   "id": "4c63f7d7-1a99-4e0a-8378-14f3cf4e91eb",
   "metadata": {},
   "outputs": [
    {
     "data": {
      "text/plain": [
       "count    49971.000000\n",
       "mean        38.828961\n",
       "std         17.283259\n",
       "min          0.000000\n",
       "25%         27.000000\n",
       "50%         37.000000\n",
       "75%         48.000000\n",
       "max        399.000000\n",
       "Name: Title_Len, dtype: float64"
      ]
     },
     "execution_count": 42,
     "metadata": {},
     "output_type": "execute_result"
    }
   ],
   "source": [
    "new_df[\"Title_Len\"].describe()"
   ]
  },
  {
   "cell_type": "code",
   "execution_count": 43,
   "id": "85122fa1-a766-4d2d-ada9-59550022a951",
   "metadata": {},
   "outputs": [
    {
     "data": {
      "text/plain": [
       "Title_Len\n",
       "34     1487\n",
       "33     1436\n",
       "42     1423\n",
       "32     1360\n",
       "36     1348\n",
       "       ... \n",
       "214       1\n",
       "160       1\n",
       "120       1\n",
       "138       1\n",
       "284       1\n",
       "Name: count, Length: 158, dtype: int64"
      ]
     },
     "execution_count": 43,
     "metadata": {},
     "output_type": "execute_result"
    }
   ],
   "source": [
    "new_df[\"Title_Len\"].value_counts().sort_values(ascending=False) "
   ]
  },
  {
   "cell_type": "code",
   "execution_count": 44,
   "id": "969a0e6f-bc08-4674-98ac-f185a89a6aee",
   "metadata": {},
   "outputs": [
    {
     "data": {
      "image/png": "[encoded data removed]",
      "text/plain": [
       "<Figure size 1300x300 with 1 Axes>"
      ]
     },
     "metadata": {},
     "output_type": "display_data"
    }
   ],
   "source": [
    "plt.figure(figsize=(13, 3))\n",
    "sns.violinplot(data=new_df[\"Title_Len\"], orient='h')\n",
    "plt.title(\"Density of the Title Length\")\n",
    "plt.show()"
   ]
  },
  {
   "cell_type": "markdown",
   "id": "c3461aa6-f266-47a3-bb54-ee7a7561a76a",
   "metadata": {},
   "source": [
    "lets Keep the titles intact for now and just extract features from it"
   ]
  },
  {
   "cell_type": "code",
   "execution_count": 45,
   "id": "8b69e4e0-6896-476d-a785-a9f3fcdee59a",
   "metadata": {},
   "outputs": [],
   "source": [
    "title_vectorizer = TfidfVectorizer(max_features = 400, min_df=5, ngram_range=(1, 2)) # same as review but here the max length of title is 480 so we decided to pick 350 "
   ]
  },
  {
   "cell_type": "code",
   "execution_count": 46,
   "id": "89e65ab4-1a92-4df4-ba54-76a619b286f7",
   "metadata": {},
   "outputs": [
    {
     "data": {
      "text/plain": [
       "array([[0., 0., 0., ..., 0., 0., 0.],\n",
       "       [0., 0., 0., ..., 0., 0., 0.],\n",
       "       [0., 0., 0., ..., 0., 0., 0.],\n",
       "       ...,\n",
       "       [0., 0., 0., ..., 0., 0., 0.],\n",
       "       [0., 0., 0., ..., 0., 0., 0.],\n",
       "       [0., 0., 0., ..., 0., 0., 0.]])"
      ]
     },
     "execution_count": 46,
     "metadata": {},
     "output_type": "execute_result"
    }
   ],
   "source": [
    "X_2 = title_vectorizer.fit_transform(new_df['Title']).toarray() # we can also test the performance while keeping the matrix Sparse\n",
    "X_2"
   ]
  },
  {
   "cell_type": "code",
   "execution_count": 47,
   "id": "bdeb5c38-8c22-48dc-969b-d77f7852b52b",
   "metadata": {},
   "outputs": [
    {
     "data": {
      "text/plain": [
       "array([[0.        , 0.        , 0.        , ..., 0.        , 0.        ,\n",
       "        0.5       ],\n",
       "       [0.        , 0.        , 0.        , ..., 0.        , 0.        ,\n",
       "        1.        ],\n",
       "       [0.        , 0.        , 0.        , ..., 0.        , 0.        ,\n",
       "        1.        ],\n",
       "       ...,\n",
       "       [0.        , 0.        , 0.        , ..., 0.        , 0.        ,\n",
       "        0.75      ],\n",
       "       [0.        , 0.17462187, 0.        , ..., 0.        , 0.        ,\n",
       "        1.        ],\n",
       "       [0.        , 0.        , 0.        , ..., 0.        , 0.        ,\n",
       "        1.        ]])"
      ]
     },
     "execution_count": 47,
     "metadata": {},
     "output_type": "execute_result"
    }
   ],
   "source": [
    "X = np.hstack((X_1, X_2, new_df[['Helpfulness', 'Score']].values))\n",
    "X"
   ]
  },
  {
   "cell_type": "code",
   "execution_count": 48,
   "id": "28a622df-2d87-4153-a422-74b05413e4e5",
   "metadata": {},
   "outputs": [
    {
     "data": {
      "text/html": [
       "<div>\n",
       "<style scoped>\n",
       "    .dataframe tbody tr th:only-of-type {\n",
       "        vertical-align: middle;\n",
       "    }\n",
       "\n",
       "    .dataframe tbody tr th {\n",
       "        vertical-align: top;\n",
       "    }\n",
       "\n",
       "    .dataframe thead th {\n",
       "        text-align: right;\n",
       "    }\n",
       "</style>\n",
       "<table border=\"1\" class=\"dataframe\">\n",
       "  <thead>\n",
       "    <tr style=\"text-align: right;\">\n",
       "      <th></th>\n",
       "      <th>Title</th>\n",
       "      <th>Helpfulness</th>\n",
       "      <th>Score</th>\n",
       "      <th>Text</th>\n",
       "      <th>Cat1</th>\n",
       "      <th>Cat2</th>\n",
       "      <th>Cat3</th>\n",
       "      <th>Review_Len</th>\n",
       "      <th>Title_Len</th>\n",
       "    </tr>\n",
       "  </thead>\n",
       "  <tbody>\n",
       "    <tr>\n",
       "      <th>0</th>\n",
       "      <td>golden valley natural buffalo jerky</td>\n",
       "      <td>0.0</td>\n",
       "      <td>0.5</td>\n",
       "      <td>description photo product needs changed indica...</td>\n",
       "      <td>grocery gourmet food</td>\n",
       "      <td>meat poultry</td>\n",
       "      <td>jerky</td>\n",
       "      <td>84</td>\n",
       "      <td>35</td>\n",
       "    </tr>\n",
       "    <tr>\n",
       "      <th>1</th>\n",
       "      <td>westing game</td>\n",
       "      <td>0.0</td>\n",
       "      <td>1.0</td>\n",
       "      <td>great book well thought easily imagine events ...</td>\n",
       "      <td>toys games</td>\n",
       "      <td>games</td>\n",
       "      <td>unknown</td>\n",
       "      <td>167</td>\n",
       "      <td>12</td>\n",
       "    </tr>\n",
       "    <tr>\n",
       "      <th>2</th>\n",
       "      <td>westing game</td>\n",
       "      <td>0.0</td>\n",
       "      <td>1.0</td>\n",
       "      <td>first year teacher teaching th grade special r...</td>\n",
       "      <td>toys games</td>\n",
       "      <td>games</td>\n",
       "      <td>unknown</td>\n",
       "      <td>328</td>\n",
       "      <td>12</td>\n",
       "    </tr>\n",
       "  </tbody>\n",
       "</table>\n",
       "</div>"
      ],
      "text/plain": [
       "                                 Title  Helpfulness  Score  \\\n",
       "0  golden valley natural buffalo jerky          0.0    0.5   \n",
       "1                         westing game          0.0    1.0   \n",
       "2                         westing game          0.0    1.0   \n",
       "\n",
       "                                                Text                  Cat1  \\\n",
       "0  description photo product needs changed indica...  grocery gourmet food   \n",
       "1  great book well thought easily imagine events ...            toys games   \n",
       "2  first year teacher teaching th grade special r...            toys games   \n",
       "\n",
       "           Cat2     Cat3  Review_Len  Title_Len  \n",
       "0  meat poultry    jerky          84         35  \n",
       "1         games  unknown         167         12  \n",
       "2         games  unknown         328         12  "
      ]
     },
     "execution_count": 48,
     "metadata": {},
     "output_type": "execute_result"
    }
   ],
   "source": [
    "new_df.head(3) # just to verify the matrix"
   ]
  },
  {
   "cell_type": "code",
   "execution_count": 49,
   "id": "2092bc2e-5621-4a0a-93cb-d9810bec52ff",
   "metadata": {},
   "outputs": [
    {
     "data": {
      "text/plain": [
       "(49971, 1902)"
      ]
     },
     "execution_count": 49,
     "metadata": {},
     "output_type": "execute_result"
    }
   ],
   "source": [
    "X.shape # should be 49971, 3352"
   ]
  },
  {
   "cell_type": "code",
   "execution_count": 50,
   "id": "536d81e5-c31a-4a9a-bc15-9fcb6995fea0",
   "metadata": {},
   "outputs": [
    {
     "name": "stderr",
     "output_type": "stream",
     "text": [
      "100%|█████████████████████████████████████████████████████████████████| 95044842/95044842 [00:27<00:00, 3480609.46it/s]"
     ]
    },
    {
     "name": "stdout",
     "output_type": "stream",
     "text": [
      "zeroes: 0.9851689584585769\n",
      "non-zeroes: 0.014831041541423153\n"
     ]
    },
    {
     "name": "stderr",
     "output_type": "stream",
     "text": [
      "\n"
     ]
    }
   ],
   "source": [
    "# Validating the operation\n",
    "z = 0\n",
    "nz = 0\n",
    "    \n",
    "for k in tqdm(X[:][:].flatten()): # should be 214975242\n",
    "    if k != 0.0:\n",
    "        # print(k)\n",
    "        nz +=1\n",
    "    else:\n",
    "        # print(\"zero\")\n",
    "        z +=1\n",
    "\n",
    "print(f\"zeroes: {z/(z+nz)}\\nnon-zeroes: {nz/(z+nz)}\")"
   ]
  },
  {
   "cell_type": "code",
   "execution_count": 51,
   "id": "3791972b-5c0f-4dad-b170-7229db41d276",
   "metadata": {
    "scrolled": true
   },
   "outputs": [
    {
     "data": {
      "text/plain": [
       "True"
      ]
     },
     "execution_count": 51,
     "metadata": {},
     "output_type": "execute_result"
    }
   ],
   "source": [
    "new_df.shape[0] == X.shape[0] # Sanity Chech"
   ]
  },
  {
   "cell_type": "markdown",
   "id": "a5bdf08b-31a7-4d5b-b5da-949d5483f233",
   "metadata": {},
   "source": [
    "So now we add new columns to each row (per sample) representing the values of tf-idf"
   ]
  },
  {
   "cell_type": "code",
   "execution_count": 52,
   "id": "c54ec066-3948-48e2-941c-cf53d1dc93eb",
   "metadata": {},
   "outputs": [
    {
     "data": {
      "text/plain": [
       "(49971, 1902)"
      ]
     },
     "execution_count": 52,
     "metadata": {},
     "output_type": "execute_result"
    }
   ],
   "source": [
    "df = pd.DataFrame(X, columns=[str(i) for i in range(X.shape[1])])\n",
    "df.shape"
   ]
  },
  {
   "cell_type": "code",
   "execution_count": 53,
   "id": "bc0b6534-0616-4b5e-99e2-44818868c009",
   "metadata": {},
   "outputs": [],
   "source": [
    "new_df = new_df.reset_index(drop=True)\n",
    "df = df.reset_index(drop=True)"
   ]
  },
  {
   "cell_type": "code",
   "execution_count": 54,
   "id": "a9ebfc73-041d-43c1-8b85-c3ba302907db",
   "metadata": {
    "scrolled": true
   },
   "outputs": [
    {
     "data": {
      "text/plain": [
       "(49971, 1909)"
      ]
     },
     "execution_count": 54,
     "metadata": {},
     "output_type": "execute_result"
    }
   ],
   "source": [
    "# Putting them altogether\n",
    "data = pd.concat([new_df, df], axis=1)\n",
    "# Drop \"Title\" and \"Text\" Columns\n",
    "data.drop(data[[\"Title\", \"Text\"]], axis=1 , inplace=True) \n",
    "\n",
    "data.shape # 49971,2459"
   ]
  },
  {
   "cell_type": "code",
   "execution_count": 55,
   "id": "5f0977a2-c5b9-4131-bd87-aea531daf3be",
   "metadata": {},
   "outputs": [
    {
     "data": {
      "text/html": [
       "<div>\n",
       "<style scoped>\n",
       "    .dataframe tbody tr th:only-of-type {\n",
       "        vertical-align: middle;\n",
       "    }\n",
       "\n",
       "    .dataframe tbody tr th {\n",
       "        vertical-align: top;\n",
       "    }\n",
       "\n",
       "    .dataframe thead th {\n",
       "        text-align: right;\n",
       "    }\n",
       "</style>\n",
       "<table border=\"1\" class=\"dataframe\">\n",
       "  <thead>\n",
       "    <tr style=\"text-align: right;\">\n",
       "      <th></th>\n",
       "      <th>Helpfulness</th>\n",
       "      <th>Score</th>\n",
       "      <th>Cat1</th>\n",
       "      <th>Cat2</th>\n",
       "      <th>Cat3</th>\n",
       "      <th>Review_Len</th>\n",
       "      <th>Title_Len</th>\n",
       "      <th>0</th>\n",
       "      <th>1</th>\n",
       "      <th>2</th>\n",
       "      <th>...</th>\n",
       "      <th>1892</th>\n",
       "      <th>1893</th>\n",
       "      <th>1894</th>\n",
       "      <th>1895</th>\n",
       "      <th>1896</th>\n",
       "      <th>1897</th>\n",
       "      <th>1898</th>\n",
       "      <th>1899</th>\n",
       "      <th>1900</th>\n",
       "      <th>1901</th>\n",
       "    </tr>\n",
       "  </thead>\n",
       "  <tbody>\n",
       "    <tr>\n",
       "      <th>0</th>\n",
       "      <td>0.0</td>\n",
       "      <td>0.5</td>\n",
       "      <td>grocery gourmet food</td>\n",
       "      <td>meat poultry</td>\n",
       "      <td>jerky</td>\n",
       "      <td>84</td>\n",
       "      <td>35</td>\n",
       "      <td>0.0</td>\n",
       "      <td>0.0</td>\n",
       "      <td>0.0</td>\n",
       "      <td>...</td>\n",
       "      <td>0.0</td>\n",
       "      <td>0.0</td>\n",
       "      <td>0.0</td>\n",
       "      <td>0.0</td>\n",
       "      <td>0.0</td>\n",
       "      <td>0.0</td>\n",
       "      <td>0.0</td>\n",
       "      <td>0.0</td>\n",
       "      <td>0.0</td>\n",
       "      <td>0.5</td>\n",
       "    </tr>\n",
       "    <tr>\n",
       "      <th>1</th>\n",
       "      <td>0.0</td>\n",
       "      <td>1.0</td>\n",
       "      <td>toys games</td>\n",
       "      <td>games</td>\n",
       "      <td>unknown</td>\n",
       "      <td>167</td>\n",
       "      <td>12</td>\n",
       "      <td>0.0</td>\n",
       "      <td>0.0</td>\n",
       "      <td>0.0</td>\n",
       "      <td>...</td>\n",
       "      <td>0.0</td>\n",
       "      <td>0.0</td>\n",
       "      <td>0.0</td>\n",
       "      <td>0.0</td>\n",
       "      <td>0.0</td>\n",
       "      <td>0.0</td>\n",
       "      <td>0.0</td>\n",
       "      <td>0.0</td>\n",
       "      <td>0.0</td>\n",
       "      <td>1.0</td>\n",
       "    </tr>\n",
       "    <tr>\n",
       "      <th>2</th>\n",
       "      <td>0.0</td>\n",
       "      <td>1.0</td>\n",
       "      <td>toys games</td>\n",
       "      <td>games</td>\n",
       "      <td>unknown</td>\n",
       "      <td>328</td>\n",
       "      <td>12</td>\n",
       "      <td>0.0</td>\n",
       "      <td>0.0</td>\n",
       "      <td>0.0</td>\n",
       "      <td>...</td>\n",
       "      <td>0.0</td>\n",
       "      <td>0.0</td>\n",
       "      <td>0.0</td>\n",
       "      <td>0.0</td>\n",
       "      <td>0.0</td>\n",
       "      <td>0.0</td>\n",
       "      <td>0.0</td>\n",
       "      <td>0.0</td>\n",
       "      <td>0.0</td>\n",
       "      <td>1.0</td>\n",
       "    </tr>\n",
       "    <tr>\n",
       "      <th>3</th>\n",
       "      <td>0.0</td>\n",
       "      <td>1.0</td>\n",
       "      <td>toys games</td>\n",
       "      <td>games</td>\n",
       "      <td>unknown</td>\n",
       "      <td>311</td>\n",
       "      <td>12</td>\n",
       "      <td>0.0</td>\n",
       "      <td>0.0</td>\n",
       "      <td>0.0</td>\n",
       "      <td>...</td>\n",
       "      <td>0.0</td>\n",
       "      <td>0.0</td>\n",
       "      <td>0.0</td>\n",
       "      <td>0.0</td>\n",
       "      <td>0.0</td>\n",
       "      <td>0.0</td>\n",
       "      <td>0.0</td>\n",
       "      <td>0.0</td>\n",
       "      <td>0.0</td>\n",
       "      <td>1.0</td>\n",
       "    </tr>\n",
       "    <tr>\n",
       "      <th>4</th>\n",
       "      <td>0.5</td>\n",
       "      <td>1.0</td>\n",
       "      <td>toys games</td>\n",
       "      <td>puzzles</td>\n",
       "      <td>jigsaw puzzles</td>\n",
       "      <td>464</td>\n",
       "      <td>20</td>\n",
       "      <td>0.0</td>\n",
       "      <td>0.0</td>\n",
       "      <td>0.0</td>\n",
       "      <td>...</td>\n",
       "      <td>0.0</td>\n",
       "      <td>0.0</td>\n",
       "      <td>0.0</td>\n",
       "      <td>0.0</td>\n",
       "      <td>0.0</td>\n",
       "      <td>0.0</td>\n",
       "      <td>0.0</td>\n",
       "      <td>0.0</td>\n",
       "      <td>0.5</td>\n",
       "      <td>1.0</td>\n",
       "    </tr>\n",
       "  </tbody>\n",
       "</table>\n",
       "<p>5 rows × 1909 columns</p>\n",
       "</div>"
      ],
      "text/plain": [
       "   Helpfulness  Score                  Cat1          Cat2            Cat3  \\\n",
       "0          0.0    0.5  grocery gourmet food  meat poultry           jerky   \n",
       "1          0.0    1.0            toys games         games         unknown   \n",
       "2          0.0    1.0            toys games         games         unknown   \n",
       "3          0.0    1.0            toys games         games         unknown   \n",
       "4          0.5    1.0            toys games       puzzles  jigsaw puzzles   \n",
       "\n",
       "   Review_Len  Title_Len    0    1    2  ...  1892  1893  1894  1895  1896  \\\n",
       "0          84         35  0.0  0.0  0.0  ...   0.0   0.0   0.0   0.0   0.0   \n",
       "1         167         12  0.0  0.0  0.0  ...   0.0   0.0   0.0   0.0   0.0   \n",
       "2         328         12  0.0  0.0  0.0  ...   0.0   0.0   0.0   0.0   0.0   \n",
       "3         311         12  0.0  0.0  0.0  ...   0.0   0.0   0.0   0.0   0.0   \n",
       "4         464         20  0.0  0.0  0.0  ...   0.0   0.0   0.0   0.0   0.0   \n",
       "\n",
       "   1897  1898  1899  1900  1901  \n",
       "0   0.0   0.0   0.0   0.0   0.5  \n",
       "1   0.0   0.0   0.0   0.0   1.0  \n",
       "2   0.0   0.0   0.0   0.0   1.0  \n",
       "3   0.0   0.0   0.0   0.0   1.0  \n",
       "4   0.0   0.0   0.0   0.5   1.0  \n",
       "\n",
       "[5 rows x 1909 columns]"
      ]
     },
     "execution_count": 55,
     "metadata": {},
     "output_type": "execute_result"
    }
   ],
   "source": [
    "del df, new_df #  No Longer Neede\n",
    "data.head()"
   ]
  },
  {
   "cell_type": "markdown",
   "id": "c3385a75-4f02-488c-87be-821256029ce2",
   "metadata": {},
   "source": [
    "Now we need to encode the values \"Cat1\", \"Cat2\" and \"Cat3\""
   ]
  },
  {
   "cell_type": "code",
   "execution_count": 56,
   "id": "5ae4154f-ce7f-40f0-a91e-0572c0e7aa45",
   "metadata": {},
   "outputs": [
    {
     "data": {
      "text/html": [
       "<div>\n",
       "<style scoped>\n",
       "    .dataframe tbody tr th:only-of-type {\n",
       "        vertical-align: middle;\n",
       "    }\n",
       "\n",
       "    .dataframe tbody tr th {\n",
       "        vertical-align: top;\n",
       "    }\n",
       "\n",
       "    .dataframe thead th {\n",
       "        text-align: right;\n",
       "    }\n",
       "</style>\n",
       "<table border=\"1\" class=\"dataframe\">\n",
       "  <thead>\n",
       "    <tr style=\"text-align: right;\">\n",
       "      <th></th>\n",
       "      <th>Helpfulness</th>\n",
       "      <th>Score</th>\n",
       "      <th>Review_Len</th>\n",
       "      <th>Title_Len</th>\n",
       "      <th>0</th>\n",
       "      <th>1</th>\n",
       "      <th>2</th>\n",
       "      <th>3</th>\n",
       "      <th>4</th>\n",
       "      <th>5</th>\n",
       "      <th>...</th>\n",
       "      <th>1892</th>\n",
       "      <th>1893</th>\n",
       "      <th>1894</th>\n",
       "      <th>1895</th>\n",
       "      <th>1896</th>\n",
       "      <th>1897</th>\n",
       "      <th>1898</th>\n",
       "      <th>1899</th>\n",
       "      <th>1900</th>\n",
       "      <th>1901</th>\n",
       "    </tr>\n",
       "  </thead>\n",
       "  <tbody>\n",
       "    <tr>\n",
       "      <th>0</th>\n",
       "      <td>0.0</td>\n",
       "      <td>0.5</td>\n",
       "      <td>84</td>\n",
       "      <td>35</td>\n",
       "      <td>0.0</td>\n",
       "      <td>0.0</td>\n",
       "      <td>0.0</td>\n",
       "      <td>0.0</td>\n",
       "      <td>0.0</td>\n",
       "      <td>0.0</td>\n",
       "      <td>...</td>\n",
       "      <td>0.0</td>\n",
       "      <td>0.0</td>\n",
       "      <td>0.0</td>\n",
       "      <td>0.0</td>\n",
       "      <td>0.0</td>\n",
       "      <td>0.0</td>\n",
       "      <td>0.0</td>\n",
       "      <td>0.0</td>\n",
       "      <td>0.0</td>\n",
       "      <td>0.5</td>\n",
       "    </tr>\n",
       "    <tr>\n",
       "      <th>1</th>\n",
       "      <td>0.0</td>\n",
       "      <td>1.0</td>\n",
       "      <td>167</td>\n",
       "      <td>12</td>\n",
       "      <td>0.0</td>\n",
       "      <td>0.0</td>\n",
       "      <td>0.0</td>\n",
       "      <td>0.0</td>\n",
       "      <td>0.0</td>\n",
       "      <td>0.0</td>\n",
       "      <td>...</td>\n",
       "      <td>0.0</td>\n",
       "      <td>0.0</td>\n",
       "      <td>0.0</td>\n",
       "      <td>0.0</td>\n",
       "      <td>0.0</td>\n",
       "      <td>0.0</td>\n",
       "      <td>0.0</td>\n",
       "      <td>0.0</td>\n",
       "      <td>0.0</td>\n",
       "      <td>1.0</td>\n",
       "    </tr>\n",
       "    <tr>\n",
       "      <th>2</th>\n",
       "      <td>0.0</td>\n",
       "      <td>1.0</td>\n",
       "      <td>328</td>\n",
       "      <td>12</td>\n",
       "      <td>0.0</td>\n",
       "      <td>0.0</td>\n",
       "      <td>0.0</td>\n",
       "      <td>0.0</td>\n",
       "      <td>0.0</td>\n",
       "      <td>0.0</td>\n",
       "      <td>...</td>\n",
       "      <td>0.0</td>\n",
       "      <td>0.0</td>\n",
       "      <td>0.0</td>\n",
       "      <td>0.0</td>\n",
       "      <td>0.0</td>\n",
       "      <td>0.0</td>\n",
       "      <td>0.0</td>\n",
       "      <td>0.0</td>\n",
       "      <td>0.0</td>\n",
       "      <td>1.0</td>\n",
       "    </tr>\n",
       "    <tr>\n",
       "      <th>3</th>\n",
       "      <td>0.0</td>\n",
       "      <td>1.0</td>\n",
       "      <td>311</td>\n",
       "      <td>12</td>\n",
       "      <td>0.0</td>\n",
       "      <td>0.0</td>\n",
       "      <td>0.0</td>\n",
       "      <td>0.0</td>\n",
       "      <td>0.0</td>\n",
       "      <td>0.0</td>\n",
       "      <td>...</td>\n",
       "      <td>0.0</td>\n",
       "      <td>0.0</td>\n",
       "      <td>0.0</td>\n",
       "      <td>0.0</td>\n",
       "      <td>0.0</td>\n",
       "      <td>0.0</td>\n",
       "      <td>0.0</td>\n",
       "      <td>0.0</td>\n",
       "      <td>0.0</td>\n",
       "      <td>1.0</td>\n",
       "    </tr>\n",
       "    <tr>\n",
       "      <th>4</th>\n",
       "      <td>0.5</td>\n",
       "      <td>1.0</td>\n",
       "      <td>464</td>\n",
       "      <td>20</td>\n",
       "      <td>0.0</td>\n",
       "      <td>0.0</td>\n",
       "      <td>0.0</td>\n",
       "      <td>0.0</td>\n",
       "      <td>0.0</td>\n",
       "      <td>0.0</td>\n",
       "      <td>...</td>\n",
       "      <td>0.0</td>\n",
       "      <td>0.0</td>\n",
       "      <td>0.0</td>\n",
       "      <td>0.0</td>\n",
       "      <td>0.0</td>\n",
       "      <td>0.0</td>\n",
       "      <td>0.0</td>\n",
       "      <td>0.0</td>\n",
       "      <td>0.5</td>\n",
       "      <td>1.0</td>\n",
       "    </tr>\n",
       "  </tbody>\n",
       "</table>\n",
       "<p>5 rows × 1906 columns</p>\n",
       "</div>"
      ],
      "text/plain": [
       "   Helpfulness  Score  Review_Len  Title_Len    0    1    2    3    4    5  \\\n",
       "0          0.0    0.5          84         35  0.0  0.0  0.0  0.0  0.0  0.0   \n",
       "1          0.0    1.0         167         12  0.0  0.0  0.0  0.0  0.0  0.0   \n",
       "2          0.0    1.0         328         12  0.0  0.0  0.0  0.0  0.0  0.0   \n",
       "3          0.0    1.0         311         12  0.0  0.0  0.0  0.0  0.0  0.0   \n",
       "4          0.5    1.0         464         20  0.0  0.0  0.0  0.0  0.0  0.0   \n",
       "\n",
       "   ...  1892  1893  1894  1895  1896  1897  1898  1899  1900  1901  \n",
       "0  ...   0.0   0.0   0.0   0.0   0.0   0.0   0.0   0.0   0.0   0.5  \n",
       "1  ...   0.0   0.0   0.0   0.0   0.0   0.0   0.0   0.0   0.0   1.0  \n",
       "2  ...   0.0   0.0   0.0   0.0   0.0   0.0   0.0   0.0   0.0   1.0  \n",
       "3  ...   0.0   0.0   0.0   0.0   0.0   0.0   0.0   0.0   0.0   1.0  \n",
       "4  ...   0.0   0.0   0.0   0.0   0.0   0.0   0.0   0.0   0.5   1.0  \n",
       "\n",
       "[5 rows x 1906 columns]"
      ]
     },
     "execution_count": 56,
     "metadata": {},
     "output_type": "execute_result"
    }
   ],
   "source": [
    "level_1_labels = data[[\"Cat1\"]]\n",
    "level_2_labels = data[[\"Cat2\"]]\n",
    "level_3_labels = data[[\"Cat3\"]]\n",
    "data.drop(data[[\"Cat1\", \"Cat2\", \"Cat3\"]], axis=1 , inplace=True) \n",
    "data.head()"
   ]
  },
  {
   "cell_type": "markdown",
   "id": "9d4334f9-4e6b-4949-b3ad-eb6840f987e8",
   "metadata": {},
   "source": [
    "We should also scale the values of \"Review_Len\" and \"Title_Len\" columns if we intend to keep them"
   ]
  },
  {
   "cell_type": "code",
   "execution_count": 57,
   "id": "955afa91-3c3a-49bb-8616-911cb31475e7",
   "metadata": {},
   "outputs": [
    {
     "data": {
      "text/html": [
       "<div>\n",
       "<style scoped>\n",
       "    .dataframe tbody tr th:only-of-type {\n",
       "        vertical-align: middle;\n",
       "    }\n",
       "\n",
       "    .dataframe tbody tr th {\n",
       "        vertical-align: top;\n",
       "    }\n",
       "\n",
       "    .dataframe thead th {\n",
       "        text-align: right;\n",
       "    }\n",
       "</style>\n",
       "<table border=\"1\" class=\"dataframe\">\n",
       "  <thead>\n",
       "    <tr style=\"text-align: right;\">\n",
       "      <th></th>\n",
       "      <th>Helpfulness</th>\n",
       "      <th>Score</th>\n",
       "      <th>Review_Len</th>\n",
       "      <th>Title_Len</th>\n",
       "      <th>0</th>\n",
       "      <th>1</th>\n",
       "      <th>2</th>\n",
       "      <th>3</th>\n",
       "      <th>4</th>\n",
       "      <th>5</th>\n",
       "      <th>...</th>\n",
       "      <th>1892</th>\n",
       "      <th>1893</th>\n",
       "      <th>1894</th>\n",
       "      <th>1895</th>\n",
       "      <th>1896</th>\n",
       "      <th>1897</th>\n",
       "      <th>1898</th>\n",
       "      <th>1899</th>\n",
       "      <th>1900</th>\n",
       "      <th>1901</th>\n",
       "    </tr>\n",
       "  </thead>\n",
       "  <tbody>\n",
       "    <tr>\n",
       "      <th>0</th>\n",
       "      <td>0.0</td>\n",
       "      <td>0.5</td>\n",
       "      <td>0.017884</td>\n",
       "      <td>0.087719</td>\n",
       "      <td>0.0</td>\n",
       "      <td>0.0</td>\n",
       "      <td>0.0</td>\n",
       "      <td>0.0</td>\n",
       "      <td>0.0</td>\n",
       "      <td>0.0</td>\n",
       "      <td>...</td>\n",
       "      <td>0.0</td>\n",
       "      <td>0.0</td>\n",
       "      <td>0.0</td>\n",
       "      <td>0.0</td>\n",
       "      <td>0.0</td>\n",
       "      <td>0.0</td>\n",
       "      <td>0.0</td>\n",
       "      <td>0.0</td>\n",
       "      <td>0.0</td>\n",
       "      <td>0.5</td>\n",
       "    </tr>\n",
       "    <tr>\n",
       "      <th>1</th>\n",
       "      <td>0.0</td>\n",
       "      <td>1.0</td>\n",
       "      <td>0.035987</td>\n",
       "      <td>0.030075</td>\n",
       "      <td>0.0</td>\n",
       "      <td>0.0</td>\n",
       "      <td>0.0</td>\n",
       "      <td>0.0</td>\n",
       "      <td>0.0</td>\n",
       "      <td>0.0</td>\n",
       "      <td>...</td>\n",
       "      <td>0.0</td>\n",
       "      <td>0.0</td>\n",
       "      <td>0.0</td>\n",
       "      <td>0.0</td>\n",
       "      <td>0.0</td>\n",
       "      <td>0.0</td>\n",
       "      <td>0.0</td>\n",
       "      <td>0.0</td>\n",
       "      <td>0.0</td>\n",
       "      <td>1.0</td>\n",
       "    </tr>\n",
       "    <tr>\n",
       "      <th>2</th>\n",
       "      <td>0.0</td>\n",
       "      <td>1.0</td>\n",
       "      <td>0.071101</td>\n",
       "      <td>0.030075</td>\n",
       "      <td>0.0</td>\n",
       "      <td>0.0</td>\n",
       "      <td>0.0</td>\n",
       "      <td>0.0</td>\n",
       "      <td>0.0</td>\n",
       "      <td>0.0</td>\n",
       "      <td>...</td>\n",
       "      <td>0.0</td>\n",
       "      <td>0.0</td>\n",
       "      <td>0.0</td>\n",
       "      <td>0.0</td>\n",
       "      <td>0.0</td>\n",
       "      <td>0.0</td>\n",
       "      <td>0.0</td>\n",
       "      <td>0.0</td>\n",
       "      <td>0.0</td>\n",
       "      <td>1.0</td>\n",
       "    </tr>\n",
       "  </tbody>\n",
       "</table>\n",
       "<p>3 rows × 1906 columns</p>\n",
       "</div>"
      ],
      "text/plain": [
       "   Helpfulness  Score  Review_Len  Title_Len    0    1    2    3    4    5  \\\n",
       "0          0.0    0.5    0.017884   0.087719  0.0  0.0  0.0  0.0  0.0  0.0   \n",
       "1          0.0    1.0    0.035987   0.030075  0.0  0.0  0.0  0.0  0.0  0.0   \n",
       "2          0.0    1.0    0.071101   0.030075  0.0  0.0  0.0  0.0  0.0  0.0   \n",
       "\n",
       "   ...  1892  1893  1894  1895  1896  1897  1898  1899  1900  1901  \n",
       "0  ...   0.0   0.0   0.0   0.0   0.0   0.0   0.0   0.0   0.0   0.5  \n",
       "1  ...   0.0   0.0   0.0   0.0   0.0   0.0   0.0   0.0   0.0   1.0  \n",
       "2  ...   0.0   0.0   0.0   0.0   0.0   0.0   0.0   0.0   0.0   1.0  \n",
       "\n",
       "[3 rows x 1906 columns]"
      ]
     },
     "execution_count": 57,
     "metadata": {},
     "output_type": "execute_result"
    }
   ],
   "source": [
    "scaler = MinMaxScaler()\n",
    "data[\"Review_Len\"] = scaler.fit_transform(data[[\"Review_Len\"]])  \n",
    "data[\"Title_Len\"] = scaler.fit_transform(data[[\"Title_Len\"]])  \n",
    "data.head(3)"
   ]
  },
  {
   "cell_type": "code",
   "execution_count": 58,
   "id": "2577f95f-a450-4dc5-a320-2d3d5b73220f",
   "metadata": {},
   "outputs": [
    {
     "data": {
      "image/png": "[encoded data removed]",
      "text/plain": [
       "<Figure size 400x400 with 2 Axes>"
      ]
     },
     "metadata": {},
     "output_type": "display_data"
    }
   ],
   "source": [
    "corr = data.iloc[:, :4].corr() # Only the first 4 features\n",
    "plt.figure(figsize=(4,4))\n",
    "sns.heatmap(corr,annot=True,annot_kws={'size':8},cmap='Reds')\n",
    "plt.xticks(rotation=45)\n",
    "plt.yticks(rotation=45)\n",
    "plt.show()"
   ]
  },
  {
   "cell_type": "markdown",
   "id": "58ba9d42-c774-44b8-840c-eb88851af2e2",
   "metadata": {},
   "source": [
    "# Initial Benchmarking"
   ]
  },
  {
   "cell_type": "markdown",
   "id": "154ab672-00b5-449f-874a-5774f27ed244",
   "metadata": {},
   "source": [
    "### Dont run these cells!"
   ]
  },
  {
   "cell_type": "code",
   "execution_count": 59,
   "id": "1a321113-edfa-4c32-a1a5-a977a1cbecb9",
   "metadata": {
    "jupyter": {
     "source_hidden": true
    },
    "scrolled": true
   },
   "outputs": [
    {
     "name": "stderr",
     "output_type": "stream",
     "text": [
      "  File \"C:\\Users\\laste\\Desktop\\HW_lab\\hw_lab\\lib\\site-packages\\joblib\\externals\\loky\\backend\\context.py\", line 257, in _count_physical_cores\n",
      "    cpu_info = subprocess.run(\n",
      "  File \"C:\\Users\\laste\\AppData\\Local\\Programs\\Python\\Python39\\lib\\subprocess.py\", line 505, in run\n",
      "    with Popen(*popenargs, **kwargs) as process:\n",
      "  File \"C:\\Users\\laste\\AppData\\Local\\Programs\\Python\\Python39\\lib\\subprocess.py\", line 951, in __init__\n",
      "    self._execute_child(args, executable, preexec_fn, close_fds,\n",
      "  File \"C:\\Users\\laste\\AppData\\Local\\Programs\\Python\\Python39\\lib\\subprocess.py\", line 1420, in _execute_child\n",
      "    hp, ht, pid, tid = _winapi.CreateProcess(executable, args,\n"
     ]
    },
    {
     "data": {
      "text/html": [
       "<style type=\"text/css\">\n",
       "#T_9feff_row9_col1, #T_9feff_row13_col1 {\n",
       "  background-color: lightgreen;\n",
       "}\n",
       "</style>\n",
       "<table id=\"T_9feff\">\n",
       "  <thead>\n",
       "    <tr>\n",
       "      <th class=\"blank level0\" >&nbsp;</th>\n",
       "      <th id=\"T_9feff_level0_col0\" class=\"col_heading level0 col0\" >Description</th>\n",
       "      <th id=\"T_9feff_level0_col1\" class=\"col_heading level0 col1\" >Value</th>\n",
       "    </tr>\n",
       "  </thead>\n",
       "  <tbody>\n",
       "    <tr>\n",
       "      <th id=\"T_9feff_level0_row0\" class=\"row_heading level0 row0\" >0</th>\n",
       "      <td id=\"T_9feff_row0_col0\" class=\"data row0 col0\" >Session id</td>\n",
       "      <td id=\"T_9feff_row0_col1\" class=\"data row0 col1\" >110</td>\n",
       "    </tr>\n",
       "    <tr>\n",
       "      <th id=\"T_9feff_level0_row1\" class=\"row_heading level0 row1\" >1</th>\n",
       "      <td id=\"T_9feff_row1_col0\" class=\"data row1 col0\" >Target</td>\n",
       "      <td id=\"T_9feff_row1_col1\" class=\"data row1 col1\" >Cat1</td>\n",
       "    </tr>\n",
       "    <tr>\n",
       "      <th id=\"T_9feff_level0_row2\" class=\"row_heading level0 row2\" >2</th>\n",
       "      <td id=\"T_9feff_row2_col0\" class=\"data row2 col0\" >Target type</td>\n",
       "      <td id=\"T_9feff_row2_col1\" class=\"data row2 col1\" >Multiclass</td>\n",
       "    </tr>\n",
       "    <tr>\n",
       "      <th id=\"T_9feff_level0_row3\" class=\"row_heading level0 row3\" >3</th>\n",
       "      <td id=\"T_9feff_row3_col0\" class=\"data row3 col0\" >Target mapping</td>\n",
       "      <td id=\"T_9feff_row3_col1\" class=\"data row3 col1\" >baby products: 0, beauty: 1, grocery gourmet food: 2, health personal care: 3, pet supplies: 4, toys games: 5</td>\n",
       "    </tr>\n",
       "    <tr>\n",
       "      <th id=\"T_9feff_level0_row4\" class=\"row_heading level0 row4\" >4</th>\n",
       "      <td id=\"T_9feff_row4_col0\" class=\"data row4 col0\" >Original data shape</td>\n",
       "      <td id=\"T_9feff_row4_col1\" class=\"data row4 col1\" >(49971, 1907)</td>\n",
       "    </tr>\n",
       "    <tr>\n",
       "      <th id=\"T_9feff_level0_row5\" class=\"row_heading level0 row5\" >5</th>\n",
       "      <td id=\"T_9feff_row5_col0\" class=\"data row5 col0\" >Transformed data shape</td>\n",
       "      <td id=\"T_9feff_row5_col1\" class=\"data row5 col1\" >(68524, 1907)</td>\n",
       "    </tr>\n",
       "    <tr>\n",
       "      <th id=\"T_9feff_level0_row6\" class=\"row_heading level0 row6\" >6</th>\n",
       "      <td id=\"T_9feff_row6_col0\" class=\"data row6 col0\" >Transformed train set shape</td>\n",
       "      <td id=\"T_9feff_row6_col1\" class=\"data row6 col1\" >(53532, 1907)</td>\n",
       "    </tr>\n",
       "    <tr>\n",
       "      <th id=\"T_9feff_level0_row7\" class=\"row_heading level0 row7\" >7</th>\n",
       "      <td id=\"T_9feff_row7_col0\" class=\"data row7 col0\" >Transformed test set shape</td>\n",
       "      <td id=\"T_9feff_row7_col1\" class=\"data row7 col1\" >(14992, 1907)</td>\n",
       "    </tr>\n",
       "    <tr>\n",
       "      <th id=\"T_9feff_level0_row8\" class=\"row_heading level0 row8\" >8</th>\n",
       "      <td id=\"T_9feff_row8_col0\" class=\"data row8 col0\" >Numeric features</td>\n",
       "      <td id=\"T_9feff_row8_col1\" class=\"data row8 col1\" >1906</td>\n",
       "    </tr>\n",
       "    <tr>\n",
       "      <th id=\"T_9feff_level0_row9\" class=\"row_heading level0 row9\" >9</th>\n",
       "      <td id=\"T_9feff_row9_col0\" class=\"data row9 col0\" >Preprocess</td>\n",
       "      <td id=\"T_9feff_row9_col1\" class=\"data row9 col1\" >True</td>\n",
       "    </tr>\n",
       "    <tr>\n",
       "      <th id=\"T_9feff_level0_row10\" class=\"row_heading level0 row10\" >10</th>\n",
       "      <td id=\"T_9feff_row10_col0\" class=\"data row10 col0\" >Imputation type</td>\n",
       "      <td id=\"T_9feff_row10_col1\" class=\"data row10 col1\" >simple</td>\n",
       "    </tr>\n",
       "    <tr>\n",
       "      <th id=\"T_9feff_level0_row11\" class=\"row_heading level0 row11\" >11</th>\n",
       "      <td id=\"T_9feff_row11_col0\" class=\"data row11 col0\" >Numeric imputation</td>\n",
       "      <td id=\"T_9feff_row11_col1\" class=\"data row11 col1\" >mean</td>\n",
       "    </tr>\n",
       "    <tr>\n",
       "      <th id=\"T_9feff_level0_row12\" class=\"row_heading level0 row12\" >12</th>\n",
       "      <td id=\"T_9feff_row12_col0\" class=\"data row12 col0\" >Categorical imputation</td>\n",
       "      <td id=\"T_9feff_row12_col1\" class=\"data row12 col1\" >mode</td>\n",
       "    </tr>\n",
       "    <tr>\n",
       "      <th id=\"T_9feff_level0_row13\" class=\"row_heading level0 row13\" >13</th>\n",
       "      <td id=\"T_9feff_row13_col0\" class=\"data row13 col0\" >Fix imbalance</td>\n",
       "      <td id=\"T_9feff_row13_col1\" class=\"data row13 col1\" >True</td>\n",
       "    </tr>\n",
       "    <tr>\n",
       "      <th id=\"T_9feff_level0_row14\" class=\"row_heading level0 row14\" >14</th>\n",
       "      <td id=\"T_9feff_row14_col0\" class=\"data row14 col0\" >Fix imbalance method</td>\n",
       "      <td id=\"T_9feff_row14_col1\" class=\"data row14 col1\" >SMOTE</td>\n",
       "    </tr>\n",
       "    <tr>\n",
       "      <th id=\"T_9feff_level0_row15\" class=\"row_heading level0 row15\" >15</th>\n",
       "      <td id=\"T_9feff_row15_col0\" class=\"data row15 col0\" >Fold Generator</td>\n",
       "      <td id=\"T_9feff_row15_col1\" class=\"data row15 col1\" >StratifiedKFold</td>\n",
       "    </tr>\n",
       "    <tr>\n",
       "      <th id=\"T_9feff_level0_row16\" class=\"row_heading level0 row16\" >16</th>\n",
       "      <td id=\"T_9feff_row16_col0\" class=\"data row16 col0\" >Fold Number</td>\n",
       "      <td id=\"T_9feff_row16_col1\" class=\"data row16 col1\" >5</td>\n",
       "    </tr>\n",
       "    <tr>\n",
       "      <th id=\"T_9feff_level0_row17\" class=\"row_heading level0 row17\" >17</th>\n",
       "      <td id=\"T_9feff_row17_col0\" class=\"data row17 col0\" >CPU Jobs</td>\n",
       "      <td id=\"T_9feff_row17_col1\" class=\"data row17 col1\" >-1</td>\n",
       "    </tr>\n",
       "    <tr>\n",
       "      <th id=\"T_9feff_level0_row18\" class=\"row_heading level0 row18\" >18</th>\n",
       "      <td id=\"T_9feff_row18_col0\" class=\"data row18 col0\" >Use GPU</td>\n",
       "      <td id=\"T_9feff_row18_col1\" class=\"data row18 col1\" >False</td>\n",
       "    </tr>\n",
       "    <tr>\n",
       "      <th id=\"T_9feff_level0_row19\" class=\"row_heading level0 row19\" >19</th>\n",
       "      <td id=\"T_9feff_row19_col0\" class=\"data row19 col0\" >Log Experiment</td>\n",
       "      <td id=\"T_9feff_row19_col1\" class=\"data row19 col1\" >False</td>\n",
       "    </tr>\n",
       "    <tr>\n",
       "      <th id=\"T_9feff_level0_row20\" class=\"row_heading level0 row20\" >20</th>\n",
       "      <td id=\"T_9feff_row20_col0\" class=\"data row20 col0\" >Experiment Name</td>\n",
       "      <td id=\"T_9feff_row20_col1\" class=\"data row20 col1\" >clf-default-name</td>\n",
       "    </tr>\n",
       "    <tr>\n",
       "      <th id=\"T_9feff_level0_row21\" class=\"row_heading level0 row21\" >21</th>\n",
       "      <td id=\"T_9feff_row21_col0\" class=\"data row21 col0\" >USI</td>\n",
       "      <td id=\"T_9feff_row21_col1\" class=\"data row21 col1\" >c95c</td>\n",
       "    </tr>\n",
       "  </tbody>\n",
       "</table>\n"
      ],
      "text/plain": [
       "<pandas.io.formats.style.Styler at 0x273a98d7e80>"
      ]
     },
     "metadata": {},
     "output_type": "display_data"
    },
    {
     "data": {
      "text/plain": [
       "<pycaret.classification.oop.ClassificationExperiment at 0x273aa8d7070>"
      ]
     },
     "execution_count": 59,
     "metadata": {},
     "output_type": "execute_result"
    }
   ],
   "source": [
    "# setup(data, \n",
    "#       target = level_1_labels[\"Cat1\"],\n",
    "#       session_id = 110,\n",
    "#       preprocess = True,\n",
    "#       verbose=True,\n",
    "#       fold =5,\n",
    "#       fix_imbalance=True) "
   ]
  },
  {
   "cell_type": "code",
   "execution_count": null,
   "id": "60106c91-7986-4944-ba5f-21e31957a3dd",
   "metadata": {
    "jupyter": {
     "source_hidden": true
    },
    "scrolled": true
   },
   "outputs": [],
   "source": [
    "# compare_models(sort=\"f1\", errors = 'raise', fold=5, include = ['lr', 'svm', 'knn', 'rf', 'lightgbm'])"
   ]
  },
  {
   "cell_type": "code",
   "execution_count": null,
   "id": "1bd38c85-52c5-46a4-a26e-b3cdedd64ad9",
   "metadata": {
    "jupyter": {
     "source_hidden": true
    },
    "scrolled": true
   },
   "outputs": [],
   "source": [
    "# cat_1_model = create_model('lightgbm')"
   ]
  },
  {
   "cell_type": "code",
   "execution_count": null,
   "id": "bd65a545-7752-426f-8d02-f39cefdf8311",
   "metadata": {
    "jupyter": {
     "source_hidden": true
    }
   },
   "outputs": [],
   "source": [
    "# model_1 = finalize_model(cat_1_model)"
   ]
  },
  {
   "cell_type": "markdown",
   "id": "fe24f90e-cbc2-429e-9358-f8e987e69785",
   "metadata": {},
   "source": [
    "LGBM (Light Gradient Boosting Machine) is our choice here. As this model have more hyperparameters compared to SVM and Logistic Regressor (broader search space) that increases the chance of finding dominant model in parameter space. \n",
    "\n",
    "Lets fine-tune the model to minimize errors at the first level of the hierarchy, ensuring greater accuracy before progressing to the next classification levels."
   ]
  },
  {
   "cell_type": "code",
   "execution_count": null,
   "id": "33792770-d521-4b44-b061-d37d32b13aeb",
   "metadata": {
    "jupyter": {
     "source_hidden": true
    }
   },
   "outputs": [],
   "source": [
    "# tune_model(lgbm, n_iter=20, fold=5) # takes so much time to run ..."
   ]
  },
  {
   "cell_type": "markdown",
   "id": "fa932fcc-6f90-4ce4-b3ed-cf3e8dc4a80a",
   "metadata": {},
   "source": [
    "### First Approach Ended\n",
    "This approach while being valid, does not handle the heirachy directly. We trained multiple simoultinous models (blind to other level labels) on each category set and fed the data all at the same time to them. This approach while being valid is prone to make mistakes regarding the heirachy of labels.\n",
    "\n",
    "# Second Approach Begins\n",
    "The idea is to design a new loss function that penalizes the mistakes in predictions with an ordinal behaviour respecting their position in heirachy. \n",
    "\n",
    "For example if during the training the model makes a mistake in classifying the level one (Cat1) label it should get much higher penalty than the incidents where it makes same mistake but on second or third level. This is because, the mistakes on the initial levels would drastically increase the error and should be avoided. Its simmialr to pruning in tree search algorithms."
   ]
  },
  {
   "cell_type": "code",
   "execution_count": 59,
   "id": "951bbf26-8835-48f9-80f7-020194423f9d",
   "metadata": {},
   "outputs": [],
   "source": [
    "train_size = 40000\n",
    "X_train = data.iloc[:train_size]  \n",
    "X_valid = data.iloc[train_size:]  "
   ]
  },
  {
   "cell_type": "code",
   "execution_count": 60,
   "id": "ebcb952e-6911-4036-9028-75fcf2071e18",
   "metadata": {},
   "outputs": [
    {
     "data": {
      "text/html": [
       "<div>\n",
       "<style scoped>\n",
       "    .dataframe tbody tr th:only-of-type {\n",
       "        vertical-align: middle;\n",
       "    }\n",
       "\n",
       "    .dataframe tbody tr th {\n",
       "        vertical-align: top;\n",
       "    }\n",
       "\n",
       "    .dataframe thead th {\n",
       "        text-align: right;\n",
       "    }\n",
       "</style>\n",
       "<table border=\"1\" class=\"dataframe\">\n",
       "  <thead>\n",
       "    <tr style=\"text-align: right;\">\n",
       "      <th></th>\n",
       "      <th>Helpfulness</th>\n",
       "      <th>Score</th>\n",
       "      <th>Review_Len</th>\n",
       "      <th>Title_Len</th>\n",
       "      <th>0</th>\n",
       "      <th>1</th>\n",
       "      <th>2</th>\n",
       "      <th>3</th>\n",
       "      <th>4</th>\n",
       "      <th>5</th>\n",
       "      <th>...</th>\n",
       "      <th>1892</th>\n",
       "      <th>1893</th>\n",
       "      <th>1894</th>\n",
       "      <th>1895</th>\n",
       "      <th>1896</th>\n",
       "      <th>1897</th>\n",
       "      <th>1898</th>\n",
       "      <th>1899</th>\n",
       "      <th>1900</th>\n",
       "      <th>1901</th>\n",
       "    </tr>\n",
       "  </thead>\n",
       "  <tbody>\n",
       "    <tr>\n",
       "      <th>0</th>\n",
       "      <td>0.0</td>\n",
       "      <td>0.50</td>\n",
       "      <td>0.017884</td>\n",
       "      <td>0.087719</td>\n",
       "      <td>0.00000</td>\n",
       "      <td>0.0</td>\n",
       "      <td>0.0</td>\n",
       "      <td>0.0</td>\n",
       "      <td>0.0</td>\n",
       "      <td>0.0</td>\n",
       "      <td>...</td>\n",
       "      <td>0.0</td>\n",
       "      <td>0.0</td>\n",
       "      <td>0.0</td>\n",
       "      <td>0.0</td>\n",
       "      <td>0.0</td>\n",
       "      <td>0.0</td>\n",
       "      <td>0.0</td>\n",
       "      <td>0.0</td>\n",
       "      <td>0.0</td>\n",
       "      <td>0.50</td>\n",
       "    </tr>\n",
       "    <tr>\n",
       "      <th>1</th>\n",
       "      <td>0.0</td>\n",
       "      <td>1.00</td>\n",
       "      <td>0.035987</td>\n",
       "      <td>0.030075</td>\n",
       "      <td>0.00000</td>\n",
       "      <td>0.0</td>\n",
       "      <td>0.0</td>\n",
       "      <td>0.0</td>\n",
       "      <td>0.0</td>\n",
       "      <td>0.0</td>\n",
       "      <td>...</td>\n",
       "      <td>0.0</td>\n",
       "      <td>0.0</td>\n",
       "      <td>0.0</td>\n",
       "      <td>0.0</td>\n",
       "      <td>0.0</td>\n",
       "      <td>0.0</td>\n",
       "      <td>0.0</td>\n",
       "      <td>0.0</td>\n",
       "      <td>0.0</td>\n",
       "      <td>1.00</td>\n",
       "    </tr>\n",
       "    <tr>\n",
       "      <th>2</th>\n",
       "      <td>0.0</td>\n",
       "      <td>1.00</td>\n",
       "      <td>0.071101</td>\n",
       "      <td>0.030075</td>\n",
       "      <td>0.00000</td>\n",
       "      <td>0.0</td>\n",
       "      <td>0.0</td>\n",
       "      <td>0.0</td>\n",
       "      <td>0.0</td>\n",
       "      <td>0.0</td>\n",
       "      <td>...</td>\n",
       "      <td>0.0</td>\n",
       "      <td>0.0</td>\n",
       "      <td>0.0</td>\n",
       "      <td>0.0</td>\n",
       "      <td>0.0</td>\n",
       "      <td>0.0</td>\n",
       "      <td>0.0</td>\n",
       "      <td>0.0</td>\n",
       "      <td>0.0</td>\n",
       "      <td>1.00</td>\n",
       "    </tr>\n",
       "    <tr>\n",
       "      <th>3</th>\n",
       "      <td>0.0</td>\n",
       "      <td>1.00</td>\n",
       "      <td>0.067394</td>\n",
       "      <td>0.030075</td>\n",
       "      <td>0.00000</td>\n",
       "      <td>0.0</td>\n",
       "      <td>0.0</td>\n",
       "      <td>0.0</td>\n",
       "      <td>0.0</td>\n",
       "      <td>0.0</td>\n",
       "      <td>...</td>\n",
       "      <td>0.0</td>\n",
       "      <td>0.0</td>\n",
       "      <td>0.0</td>\n",
       "      <td>0.0</td>\n",
       "      <td>0.0</td>\n",
       "      <td>0.0</td>\n",
       "      <td>0.0</td>\n",
       "      <td>0.0</td>\n",
       "      <td>0.0</td>\n",
       "      <td>1.00</td>\n",
       "    </tr>\n",
       "    <tr>\n",
       "      <th>4</th>\n",
       "      <td>0.5</td>\n",
       "      <td>1.00</td>\n",
       "      <td>0.100763</td>\n",
       "      <td>0.050125</td>\n",
       "      <td>0.00000</td>\n",
       "      <td>0.0</td>\n",
       "      <td>0.0</td>\n",
       "      <td>0.0</td>\n",
       "      <td>0.0</td>\n",
       "      <td>0.0</td>\n",
       "      <td>...</td>\n",
       "      <td>0.0</td>\n",
       "      <td>0.0</td>\n",
       "      <td>0.0</td>\n",
       "      <td>0.0</td>\n",
       "      <td>0.0</td>\n",
       "      <td>0.0</td>\n",
       "      <td>0.0</td>\n",
       "      <td>0.0</td>\n",
       "      <td>0.5</td>\n",
       "      <td>1.00</td>\n",
       "    </tr>\n",
       "    <tr>\n",
       "      <th>...</th>\n",
       "      <td>...</td>\n",
       "      <td>...</td>\n",
       "      <td>...</td>\n",
       "      <td>...</td>\n",
       "      <td>...</td>\n",
       "      <td>...</td>\n",
       "      <td>...</td>\n",
       "      <td>...</td>\n",
       "      <td>...</td>\n",
       "      <td>...</td>\n",
       "      <td>...</td>\n",
       "      <td>...</td>\n",
       "      <td>...</td>\n",
       "      <td>...</td>\n",
       "      <td>...</td>\n",
       "      <td>...</td>\n",
       "      <td>...</td>\n",
       "      <td>...</td>\n",
       "      <td>...</td>\n",
       "      <td>...</td>\n",
       "      <td>...</td>\n",
       "    </tr>\n",
       "    <tr>\n",
       "      <th>39995</th>\n",
       "      <td>0.0</td>\n",
       "      <td>1.00</td>\n",
       "      <td>0.011996</td>\n",
       "      <td>0.087719</td>\n",
       "      <td>0.00000</td>\n",
       "      <td>0.0</td>\n",
       "      <td>0.0</td>\n",
       "      <td>0.0</td>\n",
       "      <td>0.0</td>\n",
       "      <td>0.0</td>\n",
       "      <td>...</td>\n",
       "      <td>0.0</td>\n",
       "      <td>0.0</td>\n",
       "      <td>0.0</td>\n",
       "      <td>0.0</td>\n",
       "      <td>0.0</td>\n",
       "      <td>0.0</td>\n",
       "      <td>0.0</td>\n",
       "      <td>0.0</td>\n",
       "      <td>0.0</td>\n",
       "      <td>1.00</td>\n",
       "    </tr>\n",
       "    <tr>\n",
       "      <th>39996</th>\n",
       "      <td>0.0</td>\n",
       "      <td>0.25</td>\n",
       "      <td>0.025082</td>\n",
       "      <td>0.117794</td>\n",
       "      <td>0.00000</td>\n",
       "      <td>0.0</td>\n",
       "      <td>0.0</td>\n",
       "      <td>0.0</td>\n",
       "      <td>0.0</td>\n",
       "      <td>0.0</td>\n",
       "      <td>...</td>\n",
       "      <td>0.0</td>\n",
       "      <td>0.0</td>\n",
       "      <td>0.0</td>\n",
       "      <td>0.0</td>\n",
       "      <td>0.0</td>\n",
       "      <td>0.0</td>\n",
       "      <td>0.0</td>\n",
       "      <td>0.0</td>\n",
       "      <td>0.0</td>\n",
       "      <td>0.25</td>\n",
       "    </tr>\n",
       "    <tr>\n",
       "      <th>39997</th>\n",
       "      <td>1.0</td>\n",
       "      <td>0.75</td>\n",
       "      <td>0.044929</td>\n",
       "      <td>0.127820</td>\n",
       "      <td>0.00000</td>\n",
       "      <td>0.0</td>\n",
       "      <td>0.0</td>\n",
       "      <td>0.0</td>\n",
       "      <td>0.0</td>\n",
       "      <td>0.0</td>\n",
       "      <td>...</td>\n",
       "      <td>0.0</td>\n",
       "      <td>0.0</td>\n",
       "      <td>0.0</td>\n",
       "      <td>0.0</td>\n",
       "      <td>0.0</td>\n",
       "      <td>0.0</td>\n",
       "      <td>0.0</td>\n",
       "      <td>0.0</td>\n",
       "      <td>1.0</td>\n",
       "      <td>0.75</td>\n",
       "    </tr>\n",
       "    <tr>\n",
       "      <th>39998</th>\n",
       "      <td>0.0</td>\n",
       "      <td>1.00</td>\n",
       "      <td>0.025300</td>\n",
       "      <td>0.085213</td>\n",
       "      <td>0.24923</td>\n",
       "      <td>0.0</td>\n",
       "      <td>0.0</td>\n",
       "      <td>0.0</td>\n",
       "      <td>0.0</td>\n",
       "      <td>0.0</td>\n",
       "      <td>...</td>\n",
       "      <td>0.0</td>\n",
       "      <td>0.0</td>\n",
       "      <td>0.0</td>\n",
       "      <td>0.0</td>\n",
       "      <td>0.0</td>\n",
       "      <td>0.0</td>\n",
       "      <td>0.0</td>\n",
       "      <td>0.0</td>\n",
       "      <td>0.0</td>\n",
       "      <td>1.00</td>\n",
       "    </tr>\n",
       "    <tr>\n",
       "      <th>39999</th>\n",
       "      <td>0.0</td>\n",
       "      <td>1.00</td>\n",
       "      <td>0.171647</td>\n",
       "      <td>0.087719</td>\n",
       "      <td>0.00000</td>\n",
       "      <td>0.0</td>\n",
       "      <td>0.0</td>\n",
       "      <td>0.0</td>\n",
       "      <td>0.0</td>\n",
       "      <td>0.0</td>\n",
       "      <td>...</td>\n",
       "      <td>0.0</td>\n",
       "      <td>0.0</td>\n",
       "      <td>0.0</td>\n",
       "      <td>0.0</td>\n",
       "      <td>0.0</td>\n",
       "      <td>0.0</td>\n",
       "      <td>0.0</td>\n",
       "      <td>0.0</td>\n",
       "      <td>0.0</td>\n",
       "      <td>1.00</td>\n",
       "    </tr>\n",
       "  </tbody>\n",
       "</table>\n",
       "<p>40000 rows × 1906 columns</p>\n",
       "</div>"
      ],
      "text/plain": [
       "       Helpfulness  Score  Review_Len  Title_Len        0    1    2    3    4  \\\n",
       "0              0.0   0.50    0.017884   0.087719  0.00000  0.0  0.0  0.0  0.0   \n",
       "1              0.0   1.00    0.035987   0.030075  0.00000  0.0  0.0  0.0  0.0   \n",
       "2              0.0   1.00    0.071101   0.030075  0.00000  0.0  0.0  0.0  0.0   \n",
       "3              0.0   1.00    0.067394   0.030075  0.00000  0.0  0.0  0.0  0.0   \n",
       "4              0.5   1.00    0.100763   0.050125  0.00000  0.0  0.0  0.0  0.0   \n",
       "...            ...    ...         ...        ...      ...  ...  ...  ...  ...   \n",
       "39995          0.0   1.00    0.011996   0.087719  0.00000  0.0  0.0  0.0  0.0   \n",
       "39996          0.0   0.25    0.025082   0.117794  0.00000  0.0  0.0  0.0  0.0   \n",
       "39997          1.0   0.75    0.044929   0.127820  0.00000  0.0  0.0  0.0  0.0   \n",
       "39998          0.0   1.00    0.025300   0.085213  0.24923  0.0  0.0  0.0  0.0   \n",
       "39999          0.0   1.00    0.171647   0.087719  0.00000  0.0  0.0  0.0  0.0   \n",
       "\n",
       "         5  ...  1892  1893  1894  1895  1896  1897  1898  1899  1900  1901  \n",
       "0      0.0  ...   0.0   0.0   0.0   0.0   0.0   0.0   0.0   0.0   0.0  0.50  \n",
       "1      0.0  ...   0.0   0.0   0.0   0.0   0.0   0.0   0.0   0.0   0.0  1.00  \n",
       "2      0.0  ...   0.0   0.0   0.0   0.0   0.0   0.0   0.0   0.0   0.0  1.00  \n",
       "3      0.0  ...   0.0   0.0   0.0   0.0   0.0   0.0   0.0   0.0   0.0  1.00  \n",
       "4      0.0  ...   0.0   0.0   0.0   0.0   0.0   0.0   0.0   0.0   0.5  1.00  \n",
       "...    ...  ...   ...   ...   ...   ...   ...   ...   ...   ...   ...   ...  \n",
       "39995  0.0  ...   0.0   0.0   0.0   0.0   0.0   0.0   0.0   0.0   0.0  1.00  \n",
       "39996  0.0  ...   0.0   0.0   0.0   0.0   0.0   0.0   0.0   0.0   0.0  0.25  \n",
       "39997  0.0  ...   0.0   0.0   0.0   0.0   0.0   0.0   0.0   0.0   1.0  0.75  \n",
       "39998  0.0  ...   0.0   0.0   0.0   0.0   0.0   0.0   0.0   0.0   0.0  1.00  \n",
       "39999  0.0  ...   0.0   0.0   0.0   0.0   0.0   0.0   0.0   0.0   0.0  1.00  \n",
       "\n",
       "[40000 rows x 1906 columns]"
      ]
     },
     "execution_count": 60,
     "metadata": {},
     "output_type": "execute_result"
    }
   ],
   "source": [
    "X_train"
   ]
  },
  {
   "cell_type": "code",
   "execution_count": 61,
   "id": "ddd9727a-dda8-457a-9422-56f37c00784c",
   "metadata": {},
   "outputs": [],
   "source": [
    "# Encode labels\n",
    "encoded_labels_1, encoded_labels_2, encoded_labels_3 = LabelEncoder(), LabelEncoder(), LabelEncoder()\n",
    "y1 = encoded_labels_1.fit_transform(level_1_labels[\"Cat1\"])\n",
    "y2 = encoded_labels_2.fit_transform(level_2_labels[\"Cat2\"])\n",
    "y3 = encoded_labels_3.fit_transform(level_3_labels[\"Cat3\"])"
   ]
  },
  {
   "cell_type": "code",
   "execution_count": 62,
   "id": "f4365f26-05d7-4f67-8e50-366df1210508",
   "metadata": {},
   "outputs": [
    {
     "data": {
      "text/plain": [
       "array([2, 5, 5, ..., 4, 4, 3])"
      ]
     },
     "execution_count": 62,
     "metadata": {},
     "output_type": "execute_result"
    }
   ],
   "source": [
    "y1"
   ]
  },
  {
   "cell_type": "code",
   "execution_count": 63,
   "id": "4550b6fb-b47b-4eba-b137-449b9222507a",
   "metadata": {},
   "outputs": [],
   "source": [
    "y_train = np.column_stack((y1[:train_size], y2[:train_size], y3[:train_size]))  \n",
    "y_valid = np.column_stack((y1[train_size:], y2[train_size:], y3[train_size:]))  "
   ]
  },
  {
   "cell_type": "code",
   "execution_count": 64,
   "id": "32c28cee-bb36-4690-8d57-b87ad4fc389a",
   "metadata": {},
   "outputs": [
    {
     "data": {
      "text/plain": [
       "array([[  3,  34, 188],\n",
       "       [  1,  39, 169],\n",
       "       [  4,  19, 210],\n",
       "       ...,\n",
       "       [  4,  19,  82],\n",
       "       [  4,  19, 448],\n",
       "       [  3,  42, 304]])"
      ]
     },
     "execution_count": 64,
     "metadata": {},
     "output_type": "execute_result"
    }
   ],
   "source": [
    "y_valid"
   ]
  },
  {
   "cell_type": "code",
   "execution_count": 65,
   "id": "7956d8c1-f05b-4b43-9b40-028e90af6b2a",
   "metadata": {},
   "outputs": [
    {
     "data": {
      "text/plain": [
       "array([[  2,  40, 249],\n",
       "       [  5,  27, 457],\n",
       "       [  5,  27, 457],\n",
       "       ...,\n",
       "       [  3,  45, 460],\n",
       "       [  4,  19, 265],\n",
       "       [  4,  19, 448]])"
      ]
     },
     "execution_count": 65,
     "metadata": {},
     "output_type": "execute_result"
    }
   ],
   "source": [
    "y_train"
   ]
  },
  {
   "cell_type": "code",
   "execution_count": 66,
   "id": "033d29d4-1636-4a68-b0a3-1155ef11f6dd",
   "metadata": {},
   "outputs": [
    {
     "data": {
      "text/plain": [
       "(9971, 3)"
      ]
     },
     "execution_count": 66,
     "metadata": {},
     "output_type": "execute_result"
    }
   ],
   "source": [
    "y_valid.shape"
   ]
  },
  {
   "cell_type": "code",
   "execution_count": 67,
   "id": "c5153f2e-b120-4809-ba47-e927d856b794",
   "metadata": {},
   "outputs": [],
   "source": [
    "# Validation labels for evaluation\n",
    "y_valid1 = y_valid[:, 0]\n",
    "y_valid2 = y_valid[:, 1]\n",
    "y_valid3 = y_valid[:, 2]"
   ]
  },
  {
   "cell_type": "code",
   "execution_count": 68,
   "id": "b1b1bdf2-6f4f-439e-b6bd-0380b610e512",
   "metadata": {},
   "outputs": [],
   "source": [
    "def softmax(x):\n",
    "    exp_x = np.exp(x - np.max(x, axis=1, keepdims=True))\n",
    "    return exp_x / np.sum(exp_x, axis=1, keepdims=True)"
   ]
  },
  {
   "cell_type": "code",
   "execution_count": 69,
   "id": "cf4597ef-8814-4bdb-806a-0e09d2bd95de",
   "metadata": {},
   "outputs": [],
   "source": [
    "def hierarchical_loss(y_true, y_pred, weights=[70.0, 25.0, 5.0], scale=10.0):\n",
    "    \"\"\"Custom loss function with ordinal penalties\n",
    "    weights: [Level 1 penalty, Level 2 penalty, Level 3 penalty]\"\"\"\n",
    "  \n",
    "    n_samples = y_true.shape[0]\n",
    "    n_classes1, n_classes2, n_classes3 = len(encoded_labels_1.classes_), len(encoded_labels_2.classes_), len(encoded_labels_3.classes_)\n",
    "    \n",
    "    # Predictions per level\n",
    "    pred1 = y_pred[:, :n_classes1]  # Level 1 logits (Prediction ratios)\n",
    "    pred2 = y_pred[:, n_classes1:n_classes1 + n_classes2]  # Level 2 ...\n",
    "    pred3 = y_pred[:, n_classes1 + n_classes2:]  # Level 3 ...\n",
    "    true1 = y_true[:, 0].astype(int)\n",
    "    true2 = y_true[:, 1].astype(int)\n",
    "    true3 = y_true[:, 2].astype(int)\n",
    "    \n",
    "    # Calculate the softmax per predicition ratios\n",
    "    prob1 = softmax(pred1)\n",
    "    prob2 = softmax(pred2)\n",
    "    prob3 = softmax(pred3)\n",
    "    \n",
    "    # Gradient and Hessian\n",
    "    grad = np.zeros_like(y_pred)\n",
    "    hess = np.zeros_like(y_pred)\n",
    "\n",
    "    # ----------------------------------------------------------------------------------------------------------------------------------------\n",
    "    # Level 1 updates ===========================================\n",
    "    grad[:, :n_classes1] = prob1 - np.eye(n_classes1)[true1]\n",
    "    hess[:, :n_classes1] = prob1 * (1 - prob1)\n",
    "    \n",
    "    # grad[:, :n_classes1] *= weights[0] / n_classes1  # Normalize by class count (Since the level 1 has only 6 possible values but level 3 has 500)\n",
    "    # grad[:, :n_classes1] *= weights[0] / np.log(n_classes1)  # Normalize by log class count \n",
    "    grad[:, :n_classes1] *= weights[0] * scale\n",
    "    # hess[:, :n_classes1] *= weights[0] / n_classes1 # hessian must be a square! (Sh)\n",
    "    # hess[:, :n_classes1] *= weights[0] / np.log(n_classes1)\n",
    "    hess[:, :n_classes1] *= weights[0] * scale\n",
    "    \n",
    "    \n",
    "    # Level 2 updates ===========================================\n",
    "    start = n_classes1\n",
    "    end = n_classes1 + n_classes2\n",
    "    grad[:, start:end] = prob2 - np.eye(n_classes2)[true2]\n",
    "    hess[:, start:end] = prob2 * (1 - prob2)\n",
    "    \n",
    "    # grad[:, start:end] *= weights[1] / n_classes2\n",
    "    # grad[:, start:end] *= weights[1] / np.log(n_classes2)\n",
    "    grad[:, start:end] *= weights[1] * scale\n",
    "    # hess[:, start:end] *= weights[1] / n_classes2\n",
    "    # hess[:, start:end] *= weights[1] / np.log(n_classes2)\n",
    "    hess[:, start:end] *= weights[1] * scale\n",
    "    \n",
    "    # Level 3 updates ===========================================\n",
    "    start = n_classes1 + n_classes2\n",
    "    end = start + n_classes3\n",
    "    grad[:, start:end] = prob3 - np.eye(n_classes3)[true3]\n",
    "    hess[:, start:end] = prob3 * (1 - prob3)\n",
    "    \n",
    "    # grad[:, start:end] *= weights[2] / n_classes3\n",
    "    # grad[:, start:end] *= weights[2] / np.log(n_classes3)\n",
    "    grad[:, start:end] *= weights[2] * scale\n",
    "    # hess[:, start:end] *= weights[2] / n_classes3\n",
    "    # hess[:, start:end] *= weights[2] / np.log(n_classes3)\n",
    "    hess[:, start:end] *= weights[2] * scale\n",
    "\n",
    "    # ----------------------------------------------------------------------------------------------------------------------------------------\n",
    "    # Debug: Print stats for first few iterations\n",
    "    # if i < 5:\n",
    "    #     print(f\"Iter {i+1} - Grad mean: {np.mean(grad):.6f}, Grad std: {np.std(grad):.6f}\")\n",
    "    #     print(f\"Iter {i+1} - Hess mean: {np.mean(hess):.6f}, Hess std: {np.std(hess):.6f}\")\n",
    "    #     # shape of grad and hess should be printed!\n",
    "\n",
    "    \n",
    "    return grad, hess"
   ]
  },
  {
   "cell_type": "code",
   "execution_count": 70,
   "id": "a8c5b311-e1fb-4dce-95ab-766c0099beee",
   "metadata": {},
   "outputs": [],
   "source": [
    "def objective(y_true, y_pred):\n",
    "    grad, hess = hierarchical_loss(y_true, y_pred.reshape(-1, total_classes))\n",
    "    return grad, hess"
   ]
  },
  {
   "cell_type": "code",
   "execution_count": 71,
   "id": "95c0f10a-8a1f-4b4a-b29a-9681e4c4b70b",
   "metadata": {},
   "outputs": [
    {
     "name": "stdout",
     "output_type": "stream",
     "text": [
      "Number of Cat1 Classes: 6\n",
      "Number of Cat2 Classes: 64\n",
      "Number of Cat3 Classes: 473\n",
      "Total number of classes: 543\n"
     ]
    }
   ],
   "source": [
    "n_classes1 = len(encoded_labels_1.classes_)\n",
    "print(f\"Number of Cat1 Classes: {n_classes1}\")\n",
    "n_classes2 = len(encoded_labels_2.classes_)\n",
    "print(f\"Number of Cat2 Classes: {n_classes2}\")\n",
    "n_classes3 = len(encoded_labels_3.classes_)\n",
    "print(f\"Number of Cat3 Classes: {n_classes3}\")\n",
    "total_classes = n_classes1 + n_classes2 + n_classes3\n",
    "print(f\"Total number of classes: {total_classes}\")"
   ]
  },
  {
   "cell_type": "markdown",
   "id": "a35aa77f-ce1d-497d-ac55-ad9d430f76e5",
   "metadata": {},
   "source": [
    "These cells have been commented and minimized because of shape Mismatch problem with LGBM input format"
   ]
  },
  {
   "cell_type": "code",
   "execution_count": 72,
   "id": "34d728a2-6163-4340-a532-35c252d75b4f",
   "metadata": {
    "jupyter": {
     "source_hidden": true
    }
   },
   "outputs": [],
   "source": [
    "# # Offset labels to make them unique across levels\n",
    "# y_train_offset = np.column_stack((\n",
    "#     y_train[:, 0], \n",
    "#     y_train[:, 1] + n_classes1, \n",
    "#     y_train[:, 2] + n_classes1 + n_classes2\n",
    "# ))"
   ]
  },
  {
   "cell_type": "code",
   "execution_count": 73,
   "id": "2c0dcdaf-6ba2-424e-8c9d-017f02db8ff9",
   "metadata": {
    "jupyter": {
     "source_hidden": true
    }
   },
   "outputs": [],
   "source": [
    "# # Offset labels for validation\n",
    "# y_valid_offset = np.column_stack((\n",
    "#     y_valid[:, 0], \n",
    "#     y_valid[:, 1] + n_classes1, \n",
    "#     y_valid[:, 2] + n_classes1 + n_classes2\n",
    "# ))"
   ]
  },
  {
   "cell_type": "code",
   "execution_count": 74,
   "id": "02a9ad27-12a2-4399-979c-ae8c57d76689",
   "metadata": {
    "jupyter": {
     "source_hidden": true
    }
   },
   "outputs": [],
   "source": [
    "# # Convert the DataFrame to LightGBM Dataset\n",
    "# train_data = lgb.Dataset(X_train, label=y_train_offset)\n",
    "# valid_data = lgb.Dataset(X_valid, label=y_valid_offset, reference=train_data)"
   ]
  },
  {
   "cell_type": "code",
   "execution_count": 75,
   "id": "4e153d2f-181e-4a7f-a808-dacdf99cdc91",
   "metadata": {},
   "outputs": [],
   "source": [
    "# Use dummy labels for Dataset construction\n",
    "# train_data = lgb.Dataset(X_train, label=np.zeros(train_size))  \n",
    "# valid_data = lgb.Dataset(X_valid, label=np.zeros(len(X_valid)), reference=train_data)\n",
    "\n",
    "np.random.seed(101)\n",
    "train_data = lgb.Dataset(X_train,\n",
    "                         label=np.random.randint(0, 543, size=len(X_train))) \n",
    "\n",
    "valid_data = lgb.Dataset(X_valid,\n",
    "                         label=np.random.randint(0, 543, size=len(X_valid)),\n",
    "                         reference=train_data)"
   ]
  },
  {
   "cell_type": "markdown",
   "id": "8f2e9c27-6e1b-4507-b0e7-f0709b16a825",
   "metadata": {},
   "source": [
    "The param set here have gone under multiple updates to resolve the issue of \"Too Small and Identical Gradients\""
   ]
  },
  {
   "cell_type": "code",
   "execution_count": 76,
   "id": "c998f6a4-cb5a-415e-b8e1-1e7c592d7e2d",
   "metadata": {},
   "outputs": [],
   "source": [
    "# Model parameters\n",
    "params = {\n",
    "    'max_depth': 15,         \n",
    "    'learning_rate': 0.1,\n",
    "    'num_leaves': 150,        \n",
    "    'num_class': total_classes,\n",
    "    'objective': 'multiclass',\n",
    "    'min_data_in_leaf': 20,\n",
    "    'min_sum_hessian_in_leaf': 1e-4,\n",
    "    'verbose': -1             \n",
    "}\n",
    "\n",
    "booster = lgb.Booster(params=params, train_set=train_data)"
   ]
  },
  {
   "cell_type": "code",
   "execution_count": 77,
   "id": "7142e81d-a39e-4891-895d-315e14871b07",
   "metadata": {},
   "outputs": [],
   "source": [
    "num_boost_round = 2000\n",
    "best_loss = float('inf')\n",
    "best_iteration = 0\n",
    "patience = 200  # how much it should wait before calling off the LGBM\n",
    "eval_result = {'validation': {'multi_logloss': []}}"
   ]
  },
  {
   "cell_type": "markdown",
   "id": "fdf97816-d074-498b-a8c6-c61a0c5d6c34",
   "metadata": {},
   "source": [
    "The training loop below also have gone under multiple iterations of improvement. The latest issue is the gradients values being too small and having the std of 0."
   ]
  },
  {
   "cell_type": "code",
   "execution_count": 78,
   "id": "b5f5994d-19a6-435c-bedb-77c407722f1e",
   "metadata": {
    "scrolled": true
   },
   "outputs": [],
   "source": [
    "def update_gradients(preds, train_set):\n",
    "    # preds: Predictions from booster.predict()\n",
    "    # train_set: Ignored here, we use y_train directly\n",
    "    y_pred_reshaped = preds.reshape(-1, total_classes)\n",
    "    grad, hess = hierarchical_loss(y_train, y_pred_reshaped)\n",
    "    return grad, hess\n"
   ]
  },
  {
   "cell_type": "markdown",
   "id": "539f7ec8-aac9-49c7-b8fb-ac96c341b47a",
   "metadata": {},
   "source": [
    "Lets see if the training goes along the path ..."
   ]
  },
  {
   "cell_type": "code",
   "execution_count": 79,
   "id": "359fe4e9-9e91-43c2-8596-5311e139abf2",
   "metadata": {},
   "outputs": [
    {
     "name": "stderr",
     "output_type": "stream",
     "text": [
      "  0%|                                                                              | 1/2000 [00:19<10:41:59, 19.27s/it]"
     ]
    },
    {
     "name": "stdout",
     "output_type": "stream",
     "text": [
      "[1] validation's multi_logloss: 2.4836\n"
     ]
    },
    {
     "name": "stderr",
     "output_type": "stream",
     "text": [
      "  0%|                                                                              | 2/2000 [00:50<14:26:22, 26.02s/it]"
     ]
    },
    {
     "name": "stdout",
     "output_type": "stream",
     "text": [
      "[2] validation's multi_logloss: 1.8567\n"
     ]
    },
    {
     "name": "stderr",
     "output_type": "stream",
     "text": [
      "  0%|                                                                              | 3/2000 [01:18<14:58:17, 26.99s/it]"
     ]
    },
    {
     "name": "stdout",
     "output_type": "stream",
     "text": [
      "[3] validation's multi_logloss: 2.2304\n"
     ]
    },
    {
     "name": "stderr",
     "output_type": "stream",
     "text": [
      "  0%|▏                                                                             | 4/2000 [01:47<15:28:37, 27.91s/it]"
     ]
    },
    {
     "name": "stdout",
     "output_type": "stream",
     "text": [
      "[4] validation's multi_logloss: 2.3008\n"
     ]
    },
    {
     "name": "stderr",
     "output_type": "stream",
     "text": [
      "  0%|▏                                                                             | 5/2000 [02:20<16:24:05, 29.60s/it]"
     ]
    },
    {
     "name": "stdout",
     "output_type": "stream",
     "text": [
      "[5] validation's multi_logloss: 2.2393\n"
     ]
    },
    {
     "name": "stderr",
     "output_type": "stream",
     "text": [
      "  0%|▏                                                                             | 6/2000 [02:36<13:56:47, 25.18s/it]"
     ]
    },
    {
     "name": "stdout",
     "output_type": "stream",
     "text": [
      "[6] validation's multi_logloss: 2.2884\n"
     ]
    },
    {
     "name": "stderr",
     "output_type": "stream",
     "text": [
      "  0%|▎                                                                             | 7/2000 [02:53<12:30:05, 22.58s/it]"
     ]
    },
    {
     "name": "stdout",
     "output_type": "stream",
     "text": [
      "[7] validation's multi_logloss: 2.2350\n"
     ]
    },
    {
     "name": "stderr",
     "output_type": "stream",
     "text": [
      "  0%|▎                                                                             | 8/2000 [03:11<11:32:57, 20.87s/it]"
     ]
    },
    {
     "name": "stdout",
     "output_type": "stream",
     "text": [
      "[8] validation's multi_logloss: 2.1873\n"
     ]
    },
    {
     "name": "stderr",
     "output_type": "stream",
     "text": [
      "  0%|▎                                                                             | 9/2000 [03:28<10:53:18, 19.69s/it]"
     ]
    },
    {
     "name": "stdout",
     "output_type": "stream",
     "text": [
      "[9] validation's multi_logloss: 2.1476\n"
     ]
    },
    {
     "name": "stderr",
     "output_type": "stream",
     "text": [
      "  0%|▍                                                                            | 10/2000 [03:46<10:33:59, 19.12s/it]"
     ]
    },
    {
     "name": "stdout",
     "output_type": "stream",
     "text": [
      "[10] validation's multi_logloss: 2.1129\n"
     ]
    },
    {
     "name": "stderr",
     "output_type": "stream",
     "text": [
      "  0%|▍                                                                            | 10/2000 [04:04<13:30:15, 24.43s/it]\n"
     ]
    },
    {
     "ename": "KeyboardInterrupt",
     "evalue": "",
     "output_type": "error",
     "traceback": [
      "\u001b[1;31m---------------------------------------------------------------------------\u001b[0m",
      "\u001b[1;31mKeyboardInterrupt\u001b[0m                         Traceback (most recent call last)",
      "Cell \u001b[1;32mIn[79], line 11\u001b[0m\n\u001b[0;32m      4\u001b[0m y_pred_valid \u001b[38;5;241m=\u001b[39m booster\u001b[38;5;241m.\u001b[39mpredict(X_valid, raw_score\u001b[38;5;241m=\u001b[39m\u001b[38;5;28;01mTrue\u001b[39;00m)  \u001b[38;5;66;03m# Shape: (~10000, total_classes)\u001b[39;00m\n\u001b[0;32m      6\u001b[0m \u001b[38;5;66;03m# # Debug: Check if predictions change\u001b[39;00m\n\u001b[0;32m      7\u001b[0m \u001b[38;5;66;03m# if i < 5:\u001b[39;00m\n\u001b[0;32m      8\u001b[0m \u001b[38;5;66;03m#     print(f\"Iter {i+1} - y_pred_train mean: {np.mean(y_pred_train):.6f}, std: {np.std(y_pred_train):.6f}\")\u001b[39;00m\n\u001b[0;32m      9\u001b[0m \n\u001b[0;32m     10\u001b[0m \u001b[38;5;66;03m# Update booster with custom gradients\u001b[39;00m\n\u001b[1;32m---> 11\u001b[0m \u001b[43mbooster\u001b[49m\u001b[38;5;241;43m.\u001b[39;49m\u001b[43mupdate\u001b[49m\u001b[43m(\u001b[49m\u001b[43mfobj\u001b[49m\u001b[38;5;241;43m=\u001b[39;49m\u001b[43mupdate_gradients\u001b[49m\u001b[43m)\u001b[49m\n\u001b[0;32m     13\u001b[0m \u001b[38;5;66;03m# Compute validation loss\u001b[39;00m\n\u001b[0;32m     14\u001b[0m prob1 \u001b[38;5;241m=\u001b[39m softmax(y_pred_valid[:, :n_classes1])  \u001b[38;5;66;03m# Shape: (9971, 6)\u001b[39;00m\n",
      "File \u001b[1;32m~\\Desktop\\HW_lab\\hw_lab\\lib\\site-packages\\lightgbm\\basic.py:4147\u001b[0m, in \u001b[0;36mBooster.update\u001b[1;34m(self, train_set, fobj)\u001b[0m\n\u001b[0;32m   4145\u001b[0m     \u001b[38;5;28mself\u001b[39m\u001b[38;5;241m.\u001b[39mreset_parameter({\u001b[38;5;124m\"\u001b[39m\u001b[38;5;124mobjective\u001b[39m\u001b[38;5;124m\"\u001b[39m: \u001b[38;5;124m\"\u001b[39m\u001b[38;5;124mnone\u001b[39m\u001b[38;5;124m\"\u001b[39m})\u001b[38;5;241m.\u001b[39m__set_objective_to_none \u001b[38;5;241m=\u001b[39m \u001b[38;5;28;01mTrue\u001b[39;00m\n\u001b[0;32m   4146\u001b[0m grad, hess \u001b[38;5;241m=\u001b[39m fobj(\u001b[38;5;28mself\u001b[39m\u001b[38;5;241m.\u001b[39m__inner_predict(\u001b[38;5;241m0\u001b[39m), \u001b[38;5;28mself\u001b[39m\u001b[38;5;241m.\u001b[39mtrain_set)\n\u001b[1;32m-> 4147\u001b[0m \u001b[38;5;28;01mreturn\u001b[39;00m \u001b[38;5;28;43mself\u001b[39;49m\u001b[38;5;241;43m.\u001b[39;49m\u001b[43m__boost\u001b[49m\u001b[43m(\u001b[49m\u001b[43mgrad\u001b[49m\u001b[43m,\u001b[49m\u001b[43m \u001b[49m\u001b[43mhess\u001b[49m\u001b[43m)\u001b[49m\n",
      "File \u001b[1;32m~\\Desktop\\HW_lab\\hw_lab\\lib\\site-packages\\lightgbm\\basic.py:4195\u001b[0m, in \u001b[0;36mBooster.__boost\u001b[1;34m(self, grad, hess)\u001b[0m\n\u001b[0;32m   4188\u001b[0m     \u001b[38;5;28;01mraise\u001b[39;00m \u001b[38;5;167;01mValueError\u001b[39;00m(\n\u001b[0;32m   4189\u001b[0m         \u001b[38;5;124mf\u001b[39m\u001b[38;5;124m\"\u001b[39m\u001b[38;5;124mLengths of gradient (\u001b[39m\u001b[38;5;132;01m{\u001b[39;00m\u001b[38;5;28mlen\u001b[39m(grad)\u001b[38;5;132;01m}\u001b[39;00m\u001b[38;5;124m) and Hessian (\u001b[39m\u001b[38;5;132;01m{\u001b[39;00m\u001b[38;5;28mlen\u001b[39m(hess)\u001b[38;5;132;01m}\u001b[39;00m\u001b[38;5;124m) \u001b[39m\u001b[38;5;124m\"\u001b[39m\n\u001b[0;32m   4190\u001b[0m         \u001b[38;5;124mf\u001b[39m\u001b[38;5;124m\"\u001b[39m\u001b[38;5;124mdon\u001b[39m\u001b[38;5;124m'\u001b[39m\u001b[38;5;124mt match training data length (\u001b[39m\u001b[38;5;132;01m{\u001b[39;00mnum_train_data\u001b[38;5;132;01m}\u001b[39;00m\u001b[38;5;124m) * \u001b[39m\u001b[38;5;124m\"\u001b[39m\n\u001b[0;32m   4191\u001b[0m         \u001b[38;5;124mf\u001b[39m\u001b[38;5;124m\"\u001b[39m\u001b[38;5;124mnumber of models per one iteration (\u001b[39m\u001b[38;5;132;01m{\u001b[39;00m\u001b[38;5;28mself\u001b[39m\u001b[38;5;241m.\u001b[39m__num_class\u001b[38;5;132;01m}\u001b[39;00m\u001b[38;5;124m)\u001b[39m\u001b[38;5;124m\"\u001b[39m\n\u001b[0;32m   4192\u001b[0m     )\n\u001b[0;32m   4193\u001b[0m is_finished \u001b[38;5;241m=\u001b[39m ctypes\u001b[38;5;241m.\u001b[39mc_int(\u001b[38;5;241m0\u001b[39m)\n\u001b[0;32m   4194\u001b[0m _safe_call(\n\u001b[1;32m-> 4195\u001b[0m     \u001b[43m_LIB\u001b[49m\u001b[38;5;241;43m.\u001b[39;49m\u001b[43mLGBM_BoosterUpdateOneIterCustom\u001b[49m\u001b[43m(\u001b[49m\n\u001b[0;32m   4196\u001b[0m \u001b[43m        \u001b[49m\u001b[38;5;28;43mself\u001b[39;49m\u001b[38;5;241;43m.\u001b[39;49m\u001b[43m_handle\u001b[49m\u001b[43m,\u001b[49m\n\u001b[0;32m   4197\u001b[0m \u001b[43m        \u001b[49m\u001b[43mgrad\u001b[49m\u001b[38;5;241;43m.\u001b[39;49m\u001b[43mctypes\u001b[49m\u001b[38;5;241;43m.\u001b[39;49m\u001b[43mdata_as\u001b[49m\u001b[43m(\u001b[49m\u001b[43mctypes\u001b[49m\u001b[38;5;241;43m.\u001b[39;49m\u001b[43mPOINTER\u001b[49m\u001b[43m(\u001b[49m\u001b[43mctypes\u001b[49m\u001b[38;5;241;43m.\u001b[39;49m\u001b[43mc_float\u001b[49m\u001b[43m)\u001b[49m\u001b[43m)\u001b[49m\u001b[43m,\u001b[49m\n\u001b[0;32m   4198\u001b[0m \u001b[43m        \u001b[49m\u001b[43mhess\u001b[49m\u001b[38;5;241;43m.\u001b[39;49m\u001b[43mctypes\u001b[49m\u001b[38;5;241;43m.\u001b[39;49m\u001b[43mdata_as\u001b[49m\u001b[43m(\u001b[49m\u001b[43mctypes\u001b[49m\u001b[38;5;241;43m.\u001b[39;49m\u001b[43mPOINTER\u001b[49m\u001b[43m(\u001b[49m\u001b[43mctypes\u001b[49m\u001b[38;5;241;43m.\u001b[39;49m\u001b[43mc_float\u001b[49m\u001b[43m)\u001b[49m\u001b[43m)\u001b[49m\u001b[43m,\u001b[49m\n\u001b[0;32m   4199\u001b[0m \u001b[43m        \u001b[49m\u001b[43mctypes\u001b[49m\u001b[38;5;241;43m.\u001b[39;49m\u001b[43mbyref\u001b[49m\u001b[43m(\u001b[49m\u001b[43mis_finished\u001b[49m\u001b[43m)\u001b[49m\u001b[43m,\u001b[49m\n\u001b[0;32m   4200\u001b[0m \u001b[43m    \u001b[49m\u001b[43m)\u001b[49m\n\u001b[0;32m   4201\u001b[0m )\n\u001b[0;32m   4202\u001b[0m \u001b[38;5;28mself\u001b[39m\u001b[38;5;241m.\u001b[39m__is_predicted_cur_iter \u001b[38;5;241m=\u001b[39m [\u001b[38;5;28;01mFalse\u001b[39;00m \u001b[38;5;28;01mfor\u001b[39;00m _ \u001b[38;5;129;01min\u001b[39;00m \u001b[38;5;28mrange\u001b[39m(\u001b[38;5;28mself\u001b[39m\u001b[38;5;241m.\u001b[39m__num_dataset)]\n\u001b[0;32m   4203\u001b[0m \u001b[38;5;28;01mreturn\u001b[39;00m is_finished\u001b[38;5;241m.\u001b[39mvalue \u001b[38;5;241m==\u001b[39m \u001b[38;5;241m1\u001b[39m\n",
      "\u001b[1;31mKeyboardInterrupt\u001b[0m: "
     ]
    }
   ],
   "source": [
    "for i in tqdm(range(num_boost_round)):\n",
    "    # Predict raw scores\n",
    "    y_pred_train = booster.predict(X_train, raw_score=True)  # Shape: (40000, total_classes)\n",
    "    y_pred_valid = booster.predict(X_valid, raw_score=True)  # Shape: (~10000, total_classes)\n",
    "\n",
    "    # # Debug: Check if predictions change\n",
    "    # if i < 5:\n",
    "    #     print(f\"Iter {i+1} - y_pred_train mean: {np.mean(y_pred_train):.6f}, std: {np.std(y_pred_train):.6f}\")\n",
    "    \n",
    "    # Update booster with custom gradients\n",
    "    booster.update(fobj=update_gradients)\n",
    "\n",
    "    # Compute validation loss\n",
    "    prob1 = softmax(y_pred_valid[:, :n_classes1])  # Shape: (9971, 6)\n",
    "    prob2 = softmax(y_pred_valid[:, n_classes1:n_classes1 + n_classes2])  # Shape: (9971, 37) # better to use sigmoid! (SH)\n",
    "    prob3 = softmax(y_pred_valid[:, n_classes1 + n_classes2:])  # Shape: (9971, 500)\n",
    "\n",
    "    # Extract probabilities at true labels\n",
    "    true1 = y_valid[:, 0].astype(int)\n",
    "    true2 = y_valid[:, 1].astype(int)\n",
    "    true3 = y_valid[:, 2].astype(int)\n",
    "    loss1 = -np.mean(np.log(prob1[np.arange(len(true1)), true1] + 1e-10)) # level_1_loss\n",
    "    loss2 = -np.mean(np.log(prob2[np.arange(len(true2)), true2] + 1e-10)) # level_2_loss\n",
    "    loss3 = -np.mean(np.log(prob3[np.arange(len(true3)), true3] + 1e-10)) # level_3_loss\n",
    "\n",
    "    \n",
    "    # Weighted average of losses [3,2,1]\n",
    "    valid_loss = (75.0 * loss1 + 20.0 * loss2 + 5.0 * loss3) / 100.0\n",
    "    eval_result['validation']['multi_logloss'].append(valid_loss)\n",
    "    print(f\"[{i+1}] validation's multi_logloss: {valid_loss:.4f}\")\n",
    "\n",
    "    \n",
    "    # Early stopping callback\n",
    "    if valid_loss < best_loss:\n",
    "        best_loss = valid_loss\n",
    "        best_iteration = i\n",
    "    elif i - best_iteration >= patience:\n",
    "        print(f\"Early stopping, best epoch is: [{best_iteration + 1}] Loss: {best_loss:.4f}\")\n",
    "        break"
   ]
  },
  {
   "cell_type": "markdown",
   "id": "4bff01f6-774e-4c66-bd2f-0cb5c367df2c",
   "metadata": {},
   "source": [
    "# GPU needed!"
   ]
  },
  {
   "cell_type": "code",
   "execution_count": null,
   "id": "8e40d944-b6a5-4cc6-9f65-13871e551fb5",
   "metadata": {},
   "outputs": [],
   "source": []
  },
  {
   "cell_type": "code",
   "execution_count": null,
   "id": "c02c0b59-9556-4a99-8c3c-83f5ac3c3f62",
   "metadata": {},
   "outputs": [],
   "source": []
  }
 ],
 "metadata": {
  "kernelspec": {
   "display_name": "hw_lab_j",
   "language": "python",
   "name": "hw_lab_j"
  },
  "language_info": {
   "codemirror_mode": {
    "name": "ipython",
    "version": 3
   },
   "file_extension": ".py",
   "mimetype": "text/x-python",
   "name": "python",
   "nbconvert_exporter": "python",
   "pygments_lexer": "ipython3",
   "version": "3.9.7"
  }
 },
 "nbformat": 4,
 "nbformat_minor": 5
}
